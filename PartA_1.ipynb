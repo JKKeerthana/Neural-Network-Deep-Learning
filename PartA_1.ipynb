{
 "cells": [
  {
   "cell_type": "markdown",
   "id": "d01f9669-6940-4311-bcf9-e930ba3457f2",
   "metadata": {
    "deletable": false,
    "editable": false,
    "id": "d01f9669-6940-4311-bcf9-e930ba3457f2",
    "nbgrader": {
     "cell_type": "markdown",
     "checksum": "2ad988175a8c2593a35c27c5a89d6ea5",
     "grade": false,
     "grade_id": "a1",
     "locked": true,
     "schema_version": 3,
     "solution": false,
     "task": false
    },
    "tags": []
   },
   "source": [
    "# Question A1 (15 marks)"
   ]
  },
  {
   "cell_type": "markdown",
   "id": "2fd870a1-6368-4b4f-9cbb-7eac0acda4ec",
   "metadata": {
    "deletable": false,
    "editable": false,
    "id": "2fd870a1-6368-4b4f-9cbb-7eac0acda4ec",
    "nbgrader": {
     "cell_type": "markdown",
     "checksum": "74435a282dd0f8cb4705e88829506c4e",
     "grade": false,
     "grade_id": "a1_overall",
     "locked": true,
     "schema_version": 3,
     "solution": false,
     "task": false
    },
    "tags": []
   },
   "source": [
    "#### Design a feedforward deep neural network (DNN) which consists of **three** hidden layers of 128 neurons each with ReLU activation function, and an output layer with sigmoid activation function. Apply dropout of probability **0.2** to each of the hidden layers.\n",
    "\n",
    "* note: some cells are non-editable and cannot be filled, but leave them untouched. Fill up only cells which are provided."
   ]
  },
  {
   "cell_type": "code",
   "execution_count": 1,
   "id": "48fee715",
   "metadata": {
    "scrolled": true
   },
   "outputs": [
    {
     "name": "stdout",
     "output_type": "stream",
     "text": [
      "Requirement already satisfied: torch in c:\\users\\keerthana\\anaconda3\\new folder\\lib\\site-packages (1.13.1)\n",
      "Requirement already satisfied: typing-extensions in c:\\users\\keerthana\\anaconda3\\new folder\\lib\\site-packages (from torch) (4.8.0)\n",
      "Note: you may need to restart the kernel to use updated packages.\n"
     ]
    }
   ],
   "source": [
    "pip install torch"
   ]
  },
  {
   "cell_type": "code",
   "execution_count": 2,
   "id": "3af871c6-6baa-4eff-b46a-eb7a81faac13",
   "metadata": {
    "deletable": false,
    "editable": false,
    "id": "3af871c6-6baa-4eff-b46a-eb7a81faac13",
    "nbgrader": {
     "cell_type": "code",
     "checksum": "909acb3c7ff3883eb5381eb586615d3b",
     "grade": false,
     "grade_id": "libraries",
     "locked": true,
     "schema_version": 3,
     "solution": false,
     "task": false
    },
    "tags": []
   },
   "outputs": [],
   "source": [
    "import tqdm\n",
    "import time\n",
    "import random\n",
    "import numpy as np\n",
    "import pandas as pd\n",
    "import matplotlib.pyplot as plt\n",
    "\n",
    "import torch\n",
    "from torch import nn\n",
    "from torch.utils.data import Dataset\n",
    "from torch.utils.data import DataLoader\n",
    "\n",
    "from scipy.io import wavfile as wav\n",
    "\n",
    "from sklearn import preprocessing\n",
    "from sklearn.model_selection import KFold\n",
    "from sklearn.model_selection import train_test_split\n",
    "from sklearn.metrics import f1_score, precision_score, recall_score, confusion_matrix\n",
    "\n",
    "from common_utils import set_seed\n",
    "\n",
    "# setting seed\n",
    "set_seed()"
   ]
  },
  {
   "cell_type": "markdown",
   "id": "27828402-6f73-4afc-ad4b-d537b94406fc",
   "metadata": {
    "deletable": false,
    "editable": false,
    "id": "27828402-6f73-4afc-ad4b-d537b94406fc",
    "nbgrader": {
     "cell_type": "markdown",
     "checksum": "238677075e1bc63851fa208a1937b0d0",
     "grade": false,
     "grade_id": "a1_1_2",
     "locked": true,
     "schema_version": 3,
     "solution": false,
     "task": false
    },
    "tags": []
   },
   "source": [
    "1. Define the model class."
   ]
  },
  {
   "cell_type": "code",
   "execution_count": 3,
   "id": "f0a262dc-01fc-42d3-9554-a2a9b41db5f6",
   "metadata": {
    "deletable": false,
    "id": "f0a262dc-01fc-42d3-9554-a2a9b41db5f6",
    "nbgrader": {
     "cell_type": "code",
     "checksum": "ffe9e91761659732c1cda9441c248079",
     "grade": false,
     "grade_id": "mlp",
     "locked": false,
     "schema_version": 3,
     "solution": true,
     "task": false
    },
    "tags": []
   },
   "outputs": [],
   "source": [
    "class MLP(nn.Module):\n",
    "\n",
    "    def __init__(self, no_features, no_hidden, no_labels):\n",
    "        super().__init__()\n",
    "        self.mlp_stack = nn.Sequential(\n",
    "            nn.Linear(no_features, 128),  # Input layer to first hidden layer\n",
    "            nn.BatchNorm1d(128),\n",
    "            nn.ReLU(),                   # Activation function (ReLU) for the first hidden layer\n",
    "            nn.Dropout(0.2),             # Dropout with a probability of 0.2 for the first hidden layer\n",
    "            nn.Linear(128, 128),         # First hidden layer to second hidden layer\n",
    "            nn.ReLU(),                   # Activation function (ReLU) for the second hidden layer\n",
    "            nn.Dropout(0.2),             # Dropout with a probability of 0.2 for the second hidden layer\n",
    "            nn.Linear(128, 128),         # Second hidden layer to third hidden layer\n",
    "            nn.ReLU(),                   # Activation function (ReLU) for the third hidden layer\n",
    "            nn.Dropout(0.2),             # Dropout with a probability of 0.2 for the third hidden layer\n",
    "            nn.Linear(128, no_labels),   # Third hidden layer to output layer\n",
    "            nn.Sigmoid()                 # Sigmoid activation function for the output layer\n",
    "        )\n",
    "\n",
    "    def forward(self, x):\n",
    "        # Forward pass through the network\n",
    "        return self.mlp_stack(x)"
   ]
  },
  {
   "cell_type": "code",
   "execution_count": null,
   "id": "078b1948-74c4-4619-a23f-3e5c7624ff9a",
   "metadata": {
    "deletable": false,
    "editable": false,
    "id": "078b1948-74c4-4619-a23f-3e5c7624ff9a",
    "nbgrader": {
     "cell_type": "code",
     "checksum": "d390df361e01c7ad9ed2ed99a7e8c891",
     "grade": true,
     "grade_id": "correct_mlp",
     "locked": true,
     "points": 1,
     "schema_version": 3,
     "solution": false,
     "task": false
    },
    "tags": []
   },
   "outputs": [],
   "source": []
  },
  {
   "cell_type": "code",
   "execution_count": null,
   "id": "e77f955d-0cbb-4f45-8a7a-efe0af645fb1",
   "metadata": {
    "deletable": false,
    "editable": false,
    "id": "e77f955d-0cbb-4f45-8a7a-efe0af645fb1",
    "nbgrader": {
     "cell_type": "code",
     "checksum": "acd75cd2a88aa738b9c7ab44fd639829",
     "grade": true,
     "grade_id": "correct_mlp2",
     "locked": true,
     "points": 1,
     "schema_version": 3,
     "solution": false,
     "task": false
    },
    "tags": []
   },
   "outputs": [],
   "source": []
  },
  {
   "cell_type": "markdown",
   "id": "c508f1a3-1781-403e-a6c8-2133c83cf2c0",
   "metadata": {
    "deletable": false,
    "editable": false,
    "id": "c508f1a3-1781-403e-a6c8-2133c83cf2c0",
    "nbgrader": {
     "cell_type": "markdown",
     "checksum": "8fa5e10c9346a8cc9f313cfdeffb29ad",
     "grade": false,
     "grade_id": "a1_2",
     "locked": true,
     "schema_version": 3,
     "solution": false,
     "task": false
    },
    "tags": []
   },
   "source": [
    "#### Divide the dataset into a 70:30 ratio for training and testing. Use **appropriate** scaling of input features. We solely assume that there are only two datasets here: training & test."
   ]
  },
  {
   "cell_type": "markdown",
   "id": "e95fca82-4f7a-4017-8990-e36a78db1560",
   "metadata": {
    "deletable": false,
    "editable": false,
    "id": "e95fca82-4f7a-4017-8990-e36a78db1560",
    "nbgrader": {
     "cell_type": "markdown",
     "checksum": "5b42952eb98d955700c9f15482aa73f1",
     "grade": false,
     "grade_id": "a1_2_1",
     "locked": true,
     "schema_version": 3,
     "solution": false,
     "task": false
    },
    "tags": []
   },
   "source": [
    "1. Split the dataset and do preprocessing."
   ]
  },
  {
   "cell_type": "code",
   "execution_count": 4,
   "id": "c5fa518e-36fc-4071-839f-65766fe06f67",
   "metadata": {
    "deletable": false,
    "id": "c5fa518e-36fc-4071-839f-65766fe06f67",
    "nbgrader": {
     "cell_type": "code",
     "checksum": "7f3aaa6c1bc49a791e2d944fbffa3785",
     "grade": false,
     "grade_id": "preprocess",
     "locked": false,
     "schema_version": 3,
     "solution": true,
     "task": false
    },
    "tags": []
   },
   "outputs": [],
   "source": [
    "from sklearn.preprocessing import StandardScaler\n",
    "from sklearn.preprocessing import LabelEncoder\n",
    "\n",
    "def preprocess(df):\n",
    "    y = df['label']\n",
    "    \n",
    "    X = df.drop(columns=['filename', 'label'])\n",
    "    \n",
    "    scaler = StandardScaler()\n",
    "    X_scaled = scaler.fit_transform(X)\n",
    "    \n",
    "    label_encoder = LabelEncoder()\n",
    "    y_encoded = label_encoder.fit_transform(y)\n",
    "    \n",
    "    # Spliting the dataset into training and testing sets (70:30 ratio)\n",
    "    X_train_scaled, X_test_scaled, y_train, y_test = train_test_split(X_scaled, y_encoded, test_size=0.3, random_state=42)\n",
    "    \n",
    "    return X_train_scaled, y_train, X_test_scaled, y_test\n",
    "\n",
    "df = pd.read_csv('simplified.csv')\n",
    "df['label'] = df['filename'].str.split('_').str[-2]\n",
    "\n",
    "df['label'].value_counts()\n",
    "\n",
    "X_train_scaled, y_train, X_test_scaled, y_test = preprocess(df)"
   ]
  },
  {
   "cell_type": "code",
   "execution_count": null,
   "id": "52d2caa3-82e3-42a1-b2b2-9d7025fe9e47",
   "metadata": {
    "deletable": false,
    "editable": false,
    "id": "52d2caa3-82e3-42a1-b2b2-9d7025fe9e47",
    "nbgrader": {
     "cell_type": "code",
     "checksum": "c00bd6df39380d7a83a15f62195f2c8c",
     "grade": true,
     "grade_id": "correct_preprocess",
     "locked": true,
     "points": 1,
     "schema_version": 3,
     "solution": false,
     "task": false
    },
    "tags": []
   },
   "outputs": [],
   "source": []
  },
  {
   "cell_type": "markdown",
   "id": "a819454c-0064-4d88-a35d-b54a3027f52f",
   "metadata": {
    "deletable": false,
    "editable": false,
    "id": "a819454c-0064-4d88-a35d-b54a3027f52f",
    "nbgrader": {
     "cell_type": "markdown",
     "checksum": "58c39624353d30c202964d96c43a724f",
     "grade": false,
     "grade_id": "a1_3",
     "locked": true,
     "schema_version": 3,
     "solution": false,
     "task": false
    },
    "tags": []
   },
   "source": [
    "#### Use the training dataset to train the model for 100 epochs. Use a mini-batch gradient descent with **‘Adam’** optimizer with learning rate of **0.001**, and **batch size = 256**. Implement early stopping with patience of **3**."
   ]
  },
  {
   "cell_type": "markdown",
   "id": "fc79c097-e526-474a-803f-354465ac02d7",
   "metadata": {
    "deletable": false,
    "editable": false,
    "id": "fc79c097-e526-474a-803f-354465ac02d7",
    "nbgrader": {
     "cell_type": "markdown",
     "checksum": "45710c8274bd2b7689ccd170af7be67c",
     "grade": false,
     "grade_id": "a1_3_1",
     "locked": true,
     "schema_version": 3,
     "solution": false,
     "task": false
    },
    "tags": []
   },
   "source": [
    "1. Define a Pytorch Dataset and Dataloaders.  "
   ]
  },
  {
   "cell_type": "code",
   "execution_count": 5,
   "id": "578b3050-9720-432b-9ef0-c29feba29e68",
   "metadata": {
    "deletable": false,
    "id": "578b3050-9720-432b-9ef0-c29feba29e68",
    "nbgrader": {
     "cell_type": "code",
     "checksum": "808e279fafed9a2b06f06e824dc5fffe",
     "grade": false,
     "grade_id": "pytorch_dataset",
     "locked": false,
     "schema_version": 3,
     "solution": true,
     "task": false
    },
    "tags": []
   },
   "outputs": [],
   "source": [
    "from sklearn.preprocessing import LabelEncoder\n",
    "\n",
    "label_encoder = LabelEncoder()\n",
    "y_train = label_encoder.fit_transform(y_train)\n",
    "y_test = label_encoder.transform(y_test)\n",
    "\n",
    "class CustomDataset(Dataset):\n",
    "    def __init__(self, features, labels):\n",
    "        self.features = torch.tensor(features, dtype=torch.float32)\n",
    "        self.labels = torch.tensor(labels, dtype=torch.float32)\n",
    "\n",
    "    def __len__(self):\n",
    "        return len(self.features)\n",
    "\n",
    "    def __getitem__(self, idx):\n",
    "        return self.features[idx], self.labels[idx]\n",
    "\n",
    "# Function to initialize Dataloaders\n",
    "def initialize_loaders(X_train_scaled, y_train, X_test_scaled, y_test, batch_size):\n",
    "    train_dataset = CustomDataset(X_train_scaled, y_train)\n",
    "    test_dataset = CustomDataset(X_test_scaled, y_test)\n",
    "\n",
    "    train_dataloader = DataLoader(train_dataset, batch_size=batch_size, shuffle=True)\n",
    "    test_dataloader = DataLoader(test_dataset, batch_size=batch_size, shuffle=False)\n",
    "\n",
    "    return train_dataloader, test_dataloader\n",
    "\n",
    "batch_size = 256\n",
    "train_dataloader, test_dataloader = initialize_loaders(X_train_scaled, y_train, X_test_scaled, y_test, batch_size)\n"
   ]
  },
  {
   "cell_type": "code",
   "execution_count": null,
   "id": "ebe01c6c-7011-4990-89bc-0b3c39df05c1",
   "metadata": {
    "deletable": false,
    "editable": false,
    "id": "ebe01c6c-7011-4990-89bc-0b3c39df05c1",
    "nbgrader": {
     "cell_type": "code",
     "checksum": "29ad35220b667d0ccbddf8567df4bbe7",
     "grade": true,
     "grade_id": "correct_pytorch_dataset",
     "locked": true,
     "points": 1,
     "schema_version": 3,
     "solution": false,
     "task": false
    },
    "tags": []
   },
   "outputs": [],
   "source": []
  },
  {
   "cell_type": "code",
   "execution_count": null,
   "id": "30df1d63-bef3-47cb-926f-f32809ccb204",
   "metadata": {
    "deletable": false,
    "editable": false,
    "id": "30df1d63-bef3-47cb-926f-f32809ccb204",
    "nbgrader": {
     "cell_type": "code",
     "checksum": "c4726e1ddc39f6641b2893a082b241ab",
     "grade": true,
     "grade_id": "correct_pytorch_dataset2",
     "locked": true,
     "points": 1,
     "schema_version": 3,
     "solution": false,
     "task": false
    },
    "tags": []
   },
   "outputs": [],
   "source": []
  },
  {
   "cell_type": "code",
   "execution_count": null,
   "id": "718bf3c6-261a-400b-937c-fe092b7e0c6d",
   "metadata": {
    "deletable": false,
    "editable": false,
    "id": "718bf3c6-261a-400b-937c-fe092b7e0c6d",
    "nbgrader": {
     "cell_type": "code",
     "checksum": "20387d776dca6b012684e3a9f6df77dc",
     "grade": true,
     "grade_id": "correct_datasets_loaders",
     "locked": true,
     "points": 1,
     "schema_version": 3,
     "solution": false,
     "task": false
    },
    "tags": []
   },
   "outputs": [],
   "source": []
  },
  {
   "cell_type": "code",
   "execution_count": null,
   "id": "c50c1c87-c3ff-47b2-b051-833bca799d38",
   "metadata": {
    "deletable": false,
    "editable": false,
    "id": "c50c1c87-c3ff-47b2-b051-833bca799d38",
    "nbgrader": {
     "cell_type": "code",
     "checksum": "74ae76c28374fc22d0d54dd664be5a4d",
     "grade": true,
     "grade_id": "correct_datasets_loaders2",
     "locked": true,
     "points": 1,
     "schema_version": 3,
     "solution": false,
     "task": false
    },
    "tags": []
   },
   "outputs": [],
   "source": []
  },
  {
   "cell_type": "markdown",
   "id": "648cceb4-adb2-4e4d-bcc5-6cb9f9e252c6",
   "metadata": {
    "deletable": false,
    "editable": false,
    "id": "648cceb4-adb2-4e4d-bcc5-6cb9f9e252c6",
    "nbgrader": {
     "cell_type": "markdown",
     "checksum": "18d61ee1922cd394e81ef773a74489eb",
     "grade": false,
     "grade_id": "a1_3_3",
     "locked": true,
     "schema_version": 3,
     "solution": false,
     "task": false
    },
    "tags": []
   },
   "source": [
    "2. Next, define the model, optimizer and loss function."
   ]
  },
  {
   "cell_type": "code",
   "execution_count": 6,
   "id": "6608f93a-891f-4bbf-b066-761b56b542df",
   "metadata": {
    "deletable": false,
    "id": "6608f93a-891f-4bbf-b066-761b56b542df",
    "nbgrader": {
     "cell_type": "code",
     "checksum": "b3b057f96943875a86bf5e3bf1cbceb6",
     "grade": false,
     "grade_id": "model_optimizer",
     "locked": false,
     "schema_version": 3,
     "solution": true,
     "task": false
    },
    "tags": []
   },
   "outputs": [],
   "source": [
    "# YOUR CODE HERE\n",
    "import torch.optim as optim\n",
    "model = MLP(no_features=77, no_hidden=128, no_labels=1)\n",
    "optimizer = optim.Adam(model.parameters(), lr=0.001,weight_decay=0.001)\n",
    "loss_fn = nn.BCELoss()"
   ]
  },
  {
   "cell_type": "code",
   "execution_count": null,
   "id": "33a4488b-0db9-4710-a08b-508b06440e49",
   "metadata": {
    "deletable": false,
    "editable": false,
    "id": "33a4488b-0db9-4710-a08b-508b06440e49",
    "nbgrader": {
     "cell_type": "code",
     "checksum": "bdd1ad303e792ab0dda5dc0f5da7f4aa",
     "grade": true,
     "grade_id": "correct_model_optimizer",
     "locked": true,
     "points": 1,
     "schema_version": 3,
     "solution": false,
     "task": false
    },
    "tags": []
   },
   "outputs": [],
   "source": []
  },
  {
   "cell_type": "code",
   "execution_count": null,
   "id": "94b1f0fc-fefe-410f-b6bc-00340688505b",
   "metadata": {
    "deletable": false,
    "editable": false,
    "id": "94b1f0fc-fefe-410f-b6bc-00340688505b",
    "nbgrader": {
     "cell_type": "code",
     "checksum": "865e009af2828a7aa6d2503ff3c2f14e",
     "grade": true,
     "grade_id": "correct_model_optimizer2",
     "locked": true,
     "points": 1,
     "schema_version": 3,
     "solution": false,
     "task": false
    },
    "tags": []
   },
   "outputs": [],
   "source": []
  },
  {
   "cell_type": "code",
   "execution_count": null,
   "id": "0b0445ac-1139-40ac-b803-c67b3fa1d9c4",
   "metadata": {
    "deletable": false,
    "editable": false,
    "id": "0b0445ac-1139-40ac-b803-c67b3fa1d9c4",
    "nbgrader": {
     "cell_type": "code",
     "checksum": "e3e8f1ffbea729b1e38b9921031433bf",
     "grade": true,
     "grade_id": "correct_loss_fn",
     "locked": true,
     "points": 1,
     "schema_version": 3,
     "solution": false,
     "task": false
    },
    "tags": []
   },
   "outputs": [],
   "source": []
  },
  {
   "cell_type": "markdown",
   "id": "20e178c6-bc5a-4932-9a0a-9a8ab5189c78",
   "metadata": {
    "deletable": false,
    "editable": false,
    "id": "20e178c6-bc5a-4932-9a0a-9a8ab5189c78",
    "nbgrader": {
     "cell_type": "markdown",
     "checksum": "7831e2b9dd6b053fce7ebc058a3c5574",
     "grade": false,
     "grade_id": "a1_3_5",
     "locked": true,
     "schema_version": 3,
     "solution": false,
     "task": false
    },
    "tags": []
   },
   "source": [
    "3. Train model for 100 epochs. Record down train and test accuracies. Implement early stopping."
   ]
  },
  {
   "cell_type": "code",
   "execution_count": 7,
   "id": "57924156-c046-4610-b4dd-cebeb683a6d5",
   "metadata": {
    "deletable": false,
    "id": "57924156-c046-4610-b4dd-cebeb683a6d5",
    "nbgrader": {
     "cell_type": "code",
     "checksum": "94cfe370d3e2676874c81aa42b52b1e1",
     "grade": true,
     "grade_id": "training",
     "locked": false,
     "points": 4,
     "schema_version": 3,
     "solution": true,
     "task": false
    },
    "scrolled": true,
    "tags": []
   },
   "outputs": [
    {
     "name": "stdout",
     "output_type": "stream",
     "text": [
      "Epoch [1/100] - Train Loss: 22.6865 - Train Accuracy: 0.5377 - Test Accuracy: 0.5710 - Test Loss: 10.2168\n",
      "Epoch [2/100] - Train Loss: 22.2729 - Train Accuracy: 0.5800 - Test Accuracy: 0.6017 - Test Loss: 10.0476\n",
      "Epoch [3/100] - Train Loss: 21.8566 - Train Accuracy: 0.6054 - Test Accuracy: 0.6249 - Test Loss: 9.8390\n",
      "Epoch [4/100] - Train Loss: 21.3597 - Train Accuracy: 0.6248 - Test Accuracy: 0.6172 - Test Loss: 9.7632\n",
      "Epoch [5/100] - Train Loss: 20.9005 - Train Accuracy: 0.6385 - Test Accuracy: 0.6592 - Test Loss: 9.4983\n",
      "Epoch [6/100] - Train Loss: 20.4849 - Train Accuracy: 0.6593 - Test Accuracy: 0.6570 - Test Loss: 9.3930\n",
      "Epoch [7/100] - Train Loss: 20.1208 - Train Accuracy: 0.6656 - Test Accuracy: 0.6686 - Test Loss: 9.2709\n",
      "Epoch [8/100] - Train Loss: 19.6671 - Train Accuracy: 0.6782 - Test Accuracy: 0.6777 - Test Loss: 9.0550\n",
      "Epoch [9/100] - Train Loss: 19.0828 - Train Accuracy: 0.6966 - Test Accuracy: 0.6777 - Test Loss: 9.0235\n",
      "Epoch [10/100] - Train Loss: 18.7629 - Train Accuracy: 0.7008 - Test Accuracy: 0.6993 - Test Loss: 8.6787\n",
      "Epoch [11/100] - Train Loss: 18.3259 - Train Accuracy: 0.7137 - Test Accuracy: 0.7018 - Test Loss: 8.6992\n",
      "Epoch [12/100] - Train Loss: 17.8892 - Train Accuracy: 0.7251 - Test Accuracy: 0.7084 - Test Loss: 8.5680\n",
      "Epoch [13/100] - Train Loss: 17.4646 - Train Accuracy: 0.7381 - Test Accuracy: 0.7117 - Test Loss: 8.4846\n",
      "Epoch [14/100] - Train Loss: 17.2426 - Train Accuracy: 0.7405 - Test Accuracy: 0.7092 - Test Loss: 8.5546\n",
      "Epoch [15/100] - Train Loss: 16.5712 - Train Accuracy: 0.7546 - Test Accuracy: 0.7275 - Test Loss: 8.3620\n",
      "Epoch [16/100] - Train Loss: 16.1396 - Train Accuracy: 0.7650 - Test Accuracy: 0.7059 - Test Loss: 8.5855\n",
      "Epoch [17/100] - Train Loss: 16.4237 - Train Accuracy: 0.7533 - Test Accuracy: 0.7272 - Test Loss: 8.0714\n",
      "Epoch [18/100] - Train Loss: 15.7788 - Train Accuracy: 0.7668 - Test Accuracy: 0.7319 - Test Loss: 8.2576\n",
      "Epoch [19/100] - Train Loss: 15.3130 - Train Accuracy: 0.7810 - Test Accuracy: 0.7322 - Test Loss: 8.0163\n",
      "Epoch [20/100] - Train Loss: 15.0637 - Train Accuracy: 0.7850 - Test Accuracy: 0.7383 - Test Loss: 7.9008\n",
      "Epoch [21/100] - Train Loss: 15.0886 - Train Accuracy: 0.7782 - Test Accuracy: 0.7391 - Test Loss: 7.7874\n",
      "Epoch [22/100] - Train Loss: 14.3569 - Train Accuracy: 0.7971 - Test Accuracy: 0.7388 - Test Loss: 7.7715\n",
      "Epoch [23/100] - Train Loss: 14.1498 - Train Accuracy: 0.8007 - Test Accuracy: 0.7471 - Test Loss: 7.7735\n",
      "Epoch [24/100] - Train Loss: 13.8923 - Train Accuracy: 0.8082 - Test Accuracy: 0.7355 - Test Loss: 7.9994\n",
      "Epoch [25/100] - Train Loss: 13.9748 - Train Accuracy: 0.8087 - Test Accuracy: 0.7438 - Test Loss: 7.8343\n",
      "Early stopping after epoch 25\n"
     ]
    }
   ],
   "source": [
    "from common_utils import EarlyStopper\n",
    "\n",
    "early_stopper = EarlyStopper(patience=3, min_delta=0)\n",
    "\n",
    "train_losses = []\n",
    "test_losses = []\n",
    "\n",
    "best_val_loss = float('inf')\n",
    "counter = 0\n",
    "\n",
    "train_accuracies = []\n",
    "test_accuracies = []\n",
    "\n",
    "for epoch in range(100):\n",
    "    # Training loop\n",
    "    model.train()\n",
    "    train_loss = 0.0\n",
    "    correct_train = 0\n",
    "    total_train = 0\n",
    "\n",
    "    for batch_idx, (inputs, labels) in enumerate(train_dataloader):\n",
    "        optimizer.zero_grad()\n",
    "        outputs = model(inputs)\n",
    "        loss = loss_fn(outputs, labels.view(-1, 1))\n",
    "        loss.backward()\n",
    "        optimizer.step()\n",
    "        train_loss += loss.item()\n",
    "\n",
    "        predicted_train = (outputs > 0.5).float()\n",
    "        correct_train += (predicted_train == labels.view(-1, 1)).sum().item()\n",
    "        total_train += labels.size(0)\n",
    "\n",
    "    train_accuracy = correct_train / total_train\n",
    "    train_accuracies.append(train_accuracy)\n",
    "\n",
    "    # Validation loop\n",
    "    model.eval()\n",
    "    val_loss = 0.0\n",
    "    correct_test = 0\n",
    "    total_test = 0\n",
    "\n",
    "    with torch.no_grad():\n",
    "        for inputs, labels in test_dataloader:\n",
    "            outputs = model(inputs)\n",
    "            loss = loss_fn(outputs, labels.view(-1, 1))\n",
    "            val_loss += loss.item()\n",
    "\n",
    "            predicted_test = (outputs > 0.5).float()\n",
    "            total_test += labels.size(0)\n",
    "            correct_test += (predicted_test == labels.view(-1, 1)).sum().item()\n",
    "\n",
    "    test_accuracy = correct_test / total_test\n",
    "    test_accuracies.append(test_accuracy)\n",
    "\n",
    "    train_losses.append(train_loss / (batch_idx + 1))\n",
    "    test_losses.append(val_loss / len(test_dataloader))\n",
    "\n",
    "    print(f\"Epoch [{epoch + 1}/100] - Train Loss: {train_loss:.4f} - Train Accuracy: {train_accuracy:.4f} - Test Accuracy: {test_accuracy:.4f} - Test Loss: {val_loss:.4f}\")\n",
    "\n",
    "    # Check for early stopping\n",
    "    if early_stopper.early_stop(val_loss):\n",
    "        print(f\"Early stopping after epoch {epoch + 1}\")\n",
    "        break\n"
   ]
  },
  {
   "cell_type": "markdown",
   "id": "5deafd80-4525-4bff-8a5f-dfee0bfede04",
   "metadata": {
    "deletable": false,
    "editable": false,
    "id": "5deafd80-4525-4bff-8a5f-dfee0bfede04",
    "nbgrader": {
     "cell_type": "markdown",
     "checksum": "4f0d29724a79a38566c9153287e31469",
     "grade": false,
     "grade_id": "a1_4",
     "locked": true,
     "schema_version": 3,
     "solution": false,
     "task": false
    },
    "tags": []
   },
   "source": [
    "#### Plot train and test accuracies and losses on training and test data against training epochs and comment on the line plots.\n"
   ]
  },
  {
   "cell_type": "code",
   "execution_count": 8,
   "id": "f808a519",
   "metadata": {},
   "outputs": [
    {
     "name": "stdout",
     "output_type": "stream",
     "text": [
      "Train Accuracies (first 10 epochs): [0.537741438559071, 0.5800450290318758, 0.6054034838250978, 0.624837066003081, 0.6384642730181301, 0.6593198246237706, 0.6656001895959237, 0.6781609195402298, 0.6966465220997748, 0.700793932930442]\n",
      "Test Accuracies (first 10 epochs): [0.5710337202874516, 0.6017136539524599, 0.624930901050304, 0.617191818684356, 0.6592039800995025, 0.6569928137092316, 0.6686014372581537, 0.677722498618021, 0.677722498618021, 0.699281370923162]\n",
      "Train Losses (first 10 epochs): [0.6874698129567233, 0.6749362602378383, 0.6623225988763751, 0.647262206583312, 0.6333497275005687, 0.6207539023775043, 0.6097201036684441, 0.595973840265563, 0.5782664273724412, 0.5685740095196348]\n",
      "Test Losses (first 10 epochs): [0.6811181346575419, 0.669841468334198, 0.6559338092803955, 0.6508827567100525, 0.6332204739252726, 0.6262002984682719, 0.6180581649144491, 0.6036634564399719, 0.6015647570292155, 0.5785782217979432]\n"
     ]
    }
   ],
   "source": [
    "print(\"Train Accuracies (first 10 epochs):\", train_accuracies[:10])\n",
    "print(\"Test Accuracies (first 10 epochs):\", test_accuracies[:10])\n",
    "print(\"Train Losses (first 10 epochs):\", train_losses[:10])\n",
    "print(\"Test Losses (first 10 epochs):\", test_losses[:10])"
   ]
  },
  {
   "cell_type": "code",
   "execution_count": 9,
   "id": "b25bf720-a4e3-4e70-b90c-456180f18dcf",
   "metadata": {
    "deletable": false,
    "id": "b25bf720-a4e3-4e70-b90c-456180f18dcf",
    "nbgrader": {
     "cell_type": "code",
     "checksum": "c9ce6934b35dea460dcc15bb9a6dedf4",
     "grade": true,
     "grade_id": "plot",
     "locked": false,
     "points": 0,
     "schema_version": 3,
     "solution": true,
     "task": false
    },
    "scrolled": true,
    "tags": []
   },
   "outputs": [
    {
     "data": {
      "image/png": "[encoded data removed]",
      "text/plain": [
       "<Figure size 864x288 with 2 Axes>"
      ]
     },
     "metadata": {
      "needs_background": "light"
     },
     "output_type": "display_data"
    }
   ],
   "source": [
    "# YOUR CODE HERE\n",
    "# Plot train and test accuracies\n",
    "plt.figure(figsize=(12, 4))\n",
    "plt.subplot(1, 2, 1)\n",
    "plt.plot(range(1, len(train_accuracies) + 1), train_accuracies, label='Train Accuracy')\n",
    "plt.plot(range(1, len(test_accuracies) + 1), test_accuracies, label='Test Accuracy')\n",
    "plt.xlabel('Epochs')\n",
    "plt.ylabel('Accuracy')\n",
    "plt.legend()\n",
    "plt.title('Train and Test Accuracies vs. Epochs')\n",
    "\n",
    "# Plot train and test losses\n",
    "plt.subplot(1, 2, 2)\n",
    "plt.plot(range(1, len(train_losses) + 1), train_losses, label='Train Loss')\n",
    "plt.plot(range(1, len(test_losses) + 1), test_losses, label='Test Loss')\n",
    "plt.xlabel('Epochs')\n",
    "plt.ylabel('Loss')\n",
    "plt.legend()\n",
    "plt.title('Train and Test Losses vs. Epochs')\n",
    "\n",
    "plt.tight_layout()\n",
    "plt.show()"
   ]
  },
  {
   "cell_type": "markdown",
   "id": "3307014b-6a6c-406e-a139-94acc919f5f4",
   "metadata": {
    "deletable": false,
    "editable": false,
    "id": "3307014b-6a6c-406e-a139-94acc919f5f4",
    "nbgrader": {
     "cell_type": "markdown",
     "checksum": "0973f053aaa2d1bde7a2261c1d8cd9c4",
     "grade": false,
     "grade_id": "a1_4_2",
     "locked": true,
     "schema_version": 3,
     "solution": false,
     "task": false
    },
    "tags": []
   },
   "source": [
    "2. Comment on line plots."
   ]
  },
  {
   "cell_type": "markdown",
   "id": "dadefa8b",
   "metadata": {
    "deletable": false,
    "id": "b71af7e2-6ed7-4457-940a-df915d349ee0",
    "nbgrader": {
     "cell_type": "code",
     "checksum": "d2a6f6433369930987c9e7342cb667b0",
     "grade": false,
     "grade_id": "comment_plots",
     "locked": false,
     "schema_version": 3,
     "solution": true,
     "task": false
    },
    "tags": []
   },
   "source": [
    "answer = \"Train and Test Accuracies vs. Epochs: Both training and testing accuracies show an increasing trend as the number of epochs increases, which is expected during the training of a neural network.Initially, the training accuracy is significantly lower than the testing accuracy in the first few epochs, which might indicate that the model is underfitting. As training progresses, the training accuracy catches up with the testing accuracy, and they converge to a similar value. There is no evidence of overfitting, as the testing accuracy remains relatively stable and does not decrease significantly as the training accuracy increases.\n",
    "\n",
    "Train and Test Losses vs. Epochs:Both training and testing losses exhibit a decreasing trend as the number of epochs increases. The training loss decreases more rapidly than the testing loss initially, indicating that the model is learning from the training data. The training loss continues to decrease, while the testing loss stabilizes after a certain point, indicating that the model might have reached a point of diminishing returns, and further training may not significantly improve test performance.\""
   ]
  },
  {
   "cell_type": "code",
   "execution_count": null,
   "id": "6219db24-33e9-4fbc-880c-218cd7503482",
   "metadata": {
    "deletable": false,
    "editable": false,
    "id": "6219db24-33e9-4fbc-880c-218cd7503482",
    "nbgrader": {
     "cell_type": "code",
     "checksum": "309410e29156bb4709bef54f79a15acc",
     "grade": true,
     "grade_id": "correct_comment_plots",
     "locked": true,
     "points": 1,
     "schema_version": 3,
     "solution": false,
     "task": false
    },
    "tags": []
   },
   "outputs": [],
   "source": []
  }
 ],
 "metadata": {
  "colab": {
   "provenance": []
  },
  "kernelspec": {
   "display_name": "Python 3 (ipykernel)",
   "language": "python",
   "name": "python3"
  },
  "language_info": {
   "codemirror_mode": {
    "name": "ipython",
    "version": 3
   },
   "file_extension": ".py",
   "mimetype": "text/x-python",
   "name": "python",
   "nbconvert_exporter": "python",
   "pygments_lexer": "ipython3",
   "version": "3.9.7"
  }
 },
 "nbformat": 4,
 "nbformat_minor": 5
}
