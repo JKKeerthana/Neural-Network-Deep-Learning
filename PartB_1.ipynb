{
 "cells": [
  {
   "cell_type": "markdown",
   "metadata": {
    "id": "jnRX6LUnqBpw"
   },
   "source": [
    "CS4001/4042 Assignment 1, Part B, Q1\n",
    "---\n",
    "\n",
    "Real world datasets often have a mix of numeric and categorical features – this dataset is one example. To build models on such data, categorical features have to be encoded or embedded.\n",
    "\n",
    "PyTorch Tabular is a library that makes it very convenient to build neural networks for tabular data. It is built on top of PyTorch Lightning, which abstracts away boilerplate model training code and makes it easy to integrate other tools, e.g. TensorBoard for experiment tracking.\n",
    "\n",
    "For questions B1 and B2, the following features should be used:   \n",
    "- **Numeric / Continuous** features: dist_to_nearest_stn, dist_to_dhoby, degree_centrality, eigenvector_centrality, remaining_lease_years, floor_area_sqm\n",
    "- **Categorical** features: month, town, flat_model_type, storey_range"
   ]
  },
  {
   "cell_type": "markdown",
   "metadata": {
    "id": "Kn0j2MRKqKVs"
   },
   "source": [
    "\n",
    "\n",
    "---\n",
    "\n"
   ]
  },
  {
   "cell_type": "code",
   "execution_count": 1,
   "metadata": {
    "id": "jA67PbIY3PnH"
   },
   "outputs": [
    {
     "name": "stdout",
     "output_type": "stream",
     "text": [
      "Requirement already satisfied: pytorch_tabular[extra] in c:\\users\\keerthana\\anaconda3\\new folder\\lib\\site-packages (1.0.2)\n",
      "Requirement already satisfied: torch>=1.9.0 in c:\\users\\keerthana\\anaconda3\\new folder\\lib\\site-packages (from pytorch_tabular[extra]) (1.13.1)\n",
      "Requirement already satisfied: protobuf<4.23.0,>=3.20.0 in c:\\users\\keerthana\\anaconda3\\new folder\\lib\\site-packages (from pytorch_tabular[extra]) (4.22.5)\n",
      "Requirement already satisfied: einops<0.7.0,>=0.6.0 in c:\\users\\keerthana\\anaconda3\\new folder\\lib\\site-packages (from pytorch_tabular[extra]) (0.6.1)\n",
      "Requirement already satisfied: matplotlib>3.1 in c:\\users\\keerthana\\anaconda3\\new folder\\lib\\site-packages (from pytorch_tabular[extra]) (3.4.3)\n",
      "Requirement already satisfied: scikit-learn>=1.0.0 in c:\\users\\keerthana\\anaconda3\\new folder\\lib\\site-packages (from pytorch_tabular[extra]) (1.3.1)\n",
      "Requirement already satisfied: ipywidgets in c:\\users\\keerthana\\anaconda3\\new folder\\lib\\site-packages (from pytorch_tabular[extra]) (7.6.5)\n",
      "Requirement already satisfied: pandas>=1.1.5 in c:\\users\\keerthana\\anaconda3\\new folder\\lib\\site-packages (from pytorch_tabular[extra]) (2.0.3)\n",
      "Requirement already satisfied: category-encoders<2.7.0,>=2.6.0 in c:\\users\\keerthana\\anaconda3\\new folder\\lib\\site-packages (from pytorch_tabular[extra]) (2.6.2)\n",
      "Requirement already satisfied: pytorch-tabnet==4.0 in c:\\users\\keerthana\\anaconda3\\new folder\\lib\\site-packages (from pytorch_tabular[extra]) (4.0)\n",
      "Requirement already satisfied: torchmetrics<0.12.0,>=0.10.0 in c:\\users\\keerthana\\anaconda3\\new folder\\lib\\site-packages (from pytorch_tabular[extra]) (0.11.4)\n",
      "Requirement already satisfied: PyYAML<6.1.0,>=5.4 in c:\\users\\keerthana\\anaconda3\\new folder\\lib\\site-packages (from pytorch_tabular[extra]) (6.0)\n",
      "Requirement already satisfied: pytorch-lightning<2.0.0,>=1.8.0 in c:\\users\\keerthana\\anaconda3\\new folder\\lib\\site-packages (from pytorch_tabular[extra]) (1.9.5)\n",
      "Requirement already satisfied: rich>=11.0.0 in c:\\users\\keerthana\\anaconda3\\new folder\\lib\\site-packages (from pytorch_tabular[extra]) (13.6.0)\n",
      "Requirement already satisfied: tensorboard!=2.5.0,>2.2.0 in c:\\users\\keerthana\\anaconda3\\new folder\\lib\\site-packages (from pytorch_tabular[extra]) (2.14.1)\n",
      "Requirement already satisfied: omegaconf>=2.1.0 in c:\\users\\keerthana\\anaconda3\\new folder\\lib\\site-packages (from pytorch_tabular[extra]) (2.3.0)\n",
      "Requirement already satisfied: numpy>=1.17.2 in c:\\users\\keerthana\\anaconda3\\new folder\\lib\\site-packages (from pytorch_tabular[extra]) (1.20.3)\n",
      "Requirement already satisfied: plotly<5.15.0,>=5.13.0 in c:\\users\\keerthana\\anaconda3\\new folder\\lib\\site-packages (from pytorch_tabular[extra]) (5.14.1)\n",
      "Requirement already satisfied: kaleido==0.2.* in c:\\users\\keerthana\\anaconda3\\new folder\\lib\\site-packages (from pytorch_tabular[extra]) (0.2.1)\n",
      "Requirement already satisfied: wandb==0.13.* in c:\\users\\keerthana\\anaconda3\\new folder\\lib\\site-packages (from pytorch_tabular[extra]) (0.13.11)\n",
      "Requirement already satisfied: scipy>1.4 in c:\\users\\keerthana\\anaconda3\\new folder\\lib\\site-packages (from pytorch-tabnet==4.0->pytorch_tabular[extra]) (1.10.1)\n",
      "Requirement already satisfied: tqdm<5.0,>=4.36 in c:\\users\\keerthana\\anaconda3\\new folder\\lib\\site-packages (from pytorch-tabnet==4.0->pytorch_tabular[extra]) (4.62.3)\n",
      "Requirement already satisfied: psutil>=5.0.0 in c:\\users\\keerthana\\anaconda3\\new folder\\lib\\site-packages (from wandb==0.13.*->pytorch_tabular[extra]) (5.8.0)\n",
      "Requirement already satisfied: setproctitle in c:\\users\\keerthana\\anaconda3\\new folder\\lib\\site-packages (from wandb==0.13.*->pytorch_tabular[extra]) (1.3.2)\n",
      "Requirement already satisfied: sentry-sdk>=1.0.0 in c:\\users\\keerthana\\anaconda3\\new folder\\lib\\site-packages (from wandb==0.13.*->pytorch_tabular[extra]) (1.31.0)\n",
      "Requirement already satisfied: typing-extensions in c:\\users\\keerthana\\anaconda3\\new folder\\lib\\site-packages (from wandb==0.13.*->pytorch_tabular[extra]) (4.8.0)\n",
      "Requirement already satisfied: pathtools in c:\\users\\keerthana\\anaconda3\\new folder\\lib\\site-packages (from wandb==0.13.*->pytorch_tabular[extra]) (0.1.2)\n",
      "Requirement already satisfied: appdirs>=1.4.3 in c:\\users\\keerthana\\anaconda3\\new folder\\lib\\site-packages (from wandb==0.13.*->pytorch_tabular[extra]) (1.4.4)\n",
      "Requirement already satisfied: docker-pycreds>=0.4.0 in c:\\users\\keerthana\\anaconda3\\new folder\\lib\\site-packages (from wandb==0.13.*->pytorch_tabular[extra]) (0.4.0)\n",
      "Requirement already satisfied: Click!=8.0.0,>=7.0 in c:\\users\\keerthana\\anaconda3\\new folder\\lib\\site-packages (from wandb==0.13.*->pytorch_tabular[extra]) (8.0.3)\n",
      "Requirement already satisfied: GitPython!=3.1.29,>=1.0.0 in c:\\users\\keerthana\\anaconda3\\new folder\\lib\\site-packages (from wandb==0.13.*->pytorch_tabular[extra]) (3.1.37)\n",
      "Requirement already satisfied: requests<3,>=2.0.0 in c:\\users\\keerthana\\anaconda3\\new folder\\lib\\site-packages (from wandb==0.13.*->pytorch_tabular[extra]) (2.26.0)\n",
      "Requirement already satisfied: setuptools in c:\\users\\keerthana\\anaconda3\\new folder\\lib\\site-packages (from wandb==0.13.*->pytorch_tabular[extra]) (58.0.4)\n",
      "Requirement already satisfied: patsy>=0.5.1 in c:\\users\\keerthana\\anaconda3\\new folder\\lib\\site-packages (from category-encoders<2.7.0,>=2.6.0->pytorch_tabular[extra]) (0.5.2)\n",
      "Requirement already satisfied: statsmodels>=0.9.0 in c:\\users\\keerthana\\anaconda3\\new folder\\lib\\site-packages (from category-encoders<2.7.0,>=2.6.0->pytorch_tabular[extra]) (0.12.2)\n",
      "Requirement already satisfied: colorama in c:\\users\\keerthana\\anaconda3\\new folder\\lib\\site-packages (from Click!=8.0.0,>=7.0->wandb==0.13.*->pytorch_tabular[extra]) (0.4.6)\n",
      "Requirement already satisfied: six>=1.4.0 in c:\\users\\keerthana\\anaconda3\\new folder\\lib\\site-packages (from docker-pycreds>=0.4.0->wandb==0.13.*->pytorch_tabular[extra]) (1.16.0)\n",
      "Requirement already satisfied: gitdb<5,>=4.0.1 in c:\\users\\keerthana\\anaconda3\\new folder\\lib\\site-packages (from GitPython!=3.1.29,>=1.0.0->wandb==0.13.*->pytorch_tabular[extra]) (4.0.10)\n",
      "Requirement already satisfied: smmap<6,>=3.0.1 in c:\\users\\keerthana\\anaconda3\\new folder\\lib\\site-packages (from gitdb<5,>=4.0.1->GitPython!=3.1.29,>=1.0.0->wandb==0.13.*->pytorch_tabular[extra]) (5.0.1)\n",
      "Requirement already satisfied: kiwisolver>=1.0.1 in c:\\users\\keerthana\\anaconda3\\new folder\\lib\\site-packages (from matplotlib>3.1->pytorch_tabular[extra]) (1.3.1)\n",
      "Requirement already satisfied: python-dateutil>=2.7 in c:\\users\\keerthana\\anaconda3\\new folder\\lib\\site-packages (from matplotlib>3.1->pytorch_tabular[extra]) (2.8.2)\n",
      "Requirement already satisfied: cycler>=0.10 in c:\\users\\keerthana\\anaconda3\\new folder\\lib\\site-packages (from matplotlib>3.1->pytorch_tabular[extra]) (0.10.0)\n",
      "Requirement already satisfied: pyparsing>=2.2.1 in c:\\users\\keerthana\\anaconda3\\new folder\\lib\\site-packages (from matplotlib>3.1->pytorch_tabular[extra]) (3.0.4)\n",
      "Requirement already satisfied: pillow>=6.2.0 in c:\\users\\keerthana\\anaconda3\\new folder\\lib\\site-packages (from matplotlib>3.1->pytorch_tabular[extra]) (8.4.0)\n",
      "Requirement already satisfied: antlr4-python3-runtime==4.9.* in c:\\users\\keerthana\\anaconda3\\new folder\\lib\\site-packages (from omegaconf>=2.1.0->pytorch_tabular[extra]) (4.9.3)\n",
      "Requirement already satisfied: pytz>=2020.1 in c:\\users\\keerthana\\anaconda3\\new folder\\lib\\site-packages (from pandas>=1.1.5->pytorch_tabular[extra]) (2021.3)\n",
      "Requirement already satisfied: tzdata>=2022.1 in c:\\users\\keerthana\\anaconda3\\new folder\\lib\\site-packages (from pandas>=1.1.5->pytorch_tabular[extra]) (2023.3)\n",
      "Requirement already satisfied: tenacity>=6.2.0 in c:\\users\\keerthana\\anaconda3\\new folder\\lib\\site-packages (from plotly<5.15.0,>=5.13.0->pytorch_tabular[extra]) (8.2.3)\n",
      "Requirement already satisfied: packaging in c:\\users\\keerthana\\anaconda3\\new folder\\lib\\site-packages (from plotly<5.15.0,>=5.13.0->pytorch_tabular[extra]) (21.0)\n",
      "Requirement already satisfied: fsspec[http]>2021.06.0 in c:\\users\\keerthana\\anaconda3\\new folder\\lib\\site-packages (from pytorch-lightning<2.0.0,>=1.8.0->pytorch_tabular[extra]) (2021.10.1)\n",
      "Requirement already satisfied: lightning-utilities>=0.6.0.post0 in c:\\users\\keerthana\\anaconda3\\new folder\\lib\\site-packages (from pytorch-lightning<2.0.0,>=1.8.0->pytorch_tabular[extra]) (0.9.0)\n",
      "Requirement already satisfied: aiohttp in c:\\users\\keerthana\\anaconda3\\new folder\\lib\\site-packages (from fsspec[http]>2021.06.0->pytorch-lightning<2.0.0,>=1.8.0->pytorch_tabular[extra]) (3.8.5)\n",
      "Requirement already satisfied: charset-normalizer~=2.0.0 in c:\\users\\keerthana\\anaconda3\\new folder\\lib\\site-packages (from requests<3,>=2.0.0->wandb==0.13.*->pytorch_tabular[extra]) (2.0.4)\n",
      "Requirement already satisfied: idna<4,>=2.5 in c:\\users\\keerthana\\anaconda3\\new folder\\lib\\site-packages (from requests<3,>=2.0.0->wandb==0.13.*->pytorch_tabular[extra]) (3.2)\n",
      "Requirement already satisfied: certifi>=2017.4.17 in c:\\users\\keerthana\\anaconda3\\new folder\\lib\\site-packages (from requests<3,>=2.0.0->wandb==0.13.*->pytorch_tabular[extra]) (2021.10.8)\n",
      "Requirement already satisfied: urllib3<1.27,>=1.21.1 in c:\\users\\keerthana\\anaconda3\\new folder\\lib\\site-packages (from requests<3,>=2.0.0->wandb==0.13.*->pytorch_tabular[extra]) (1.26.16)\n",
      "Requirement already satisfied: markdown-it-py>=2.2.0 in c:\\users\\keerthana\\anaconda3\\new folder\\lib\\site-packages (from rich>=11.0.0->pytorch_tabular[extra]) (3.0.0)\n",
      "Requirement already satisfied: pygments<3.0.0,>=2.13.0 in c:\\users\\keerthana\\anaconda3\\new folder\\lib\\site-packages (from rich>=11.0.0->pytorch_tabular[extra]) (2.16.1)\n",
      "Requirement already satisfied: mdurl~=0.1 in c:\\users\\keerthana\\anaconda3\\new folder\\lib\\site-packages (from markdown-it-py>=2.2.0->rich>=11.0.0->pytorch_tabular[extra]) (0.1.2)\n",
      "Requirement already satisfied: joblib>=1.1.1 in c:\\users\\keerthana\\anaconda3\\new folder\\lib\\site-packages (from scikit-learn>=1.0.0->pytorch_tabular[extra]) (1.3.2)\n",
      "Requirement already satisfied: threadpoolctl>=2.0.0 in c:\\users\\keerthana\\anaconda3\\new folder\\lib\\site-packages (from scikit-learn>=1.0.0->pytorch_tabular[extra]) (2.2.0)\n",
      "Requirement already satisfied: grpcio>=1.48.2 in c:\\users\\keerthana\\anaconda3\\new folder\\lib\\site-packages (from tensorboard!=2.5.0,>2.2.0->pytorch_tabular[extra]) (1.59.0)\n",
      "Requirement already satisfied: markdown>=2.6.8 in c:\\users\\keerthana\\anaconda3\\new folder\\lib\\site-packages (from tensorboard!=2.5.0,>2.2.0->pytorch_tabular[extra]) (3.4.4)\n",
      "Requirement already satisfied: google-auth<3,>=1.6.3 in c:\\users\\keerthana\\anaconda3\\new folder\\lib\\site-packages (from tensorboard!=2.5.0,>2.2.0->pytorch_tabular[extra]) (2.23.2)\n",
      "Requirement already satisfied: werkzeug>=1.0.1 in c:\\users\\keerthana\\anaconda3\\new folder\\lib\\site-packages (from tensorboard!=2.5.0,>2.2.0->pytorch_tabular[extra]) (2.0.2)\n",
      "Requirement already satisfied: google-auth-oauthlib<1.1,>=0.5 in c:\\users\\keerthana\\anaconda3\\new folder\\lib\\site-packages (from tensorboard!=2.5.0,>2.2.0->pytorch_tabular[extra]) (1.0.0)\n",
      "Requirement already satisfied: absl-py>=0.4 in c:\\users\\keerthana\\anaconda3\\new folder\\lib\\site-packages (from tensorboard!=2.5.0,>2.2.0->pytorch_tabular[extra]) (2.0.0)\n",
      "Requirement already satisfied: tensorboard-data-server<0.8.0,>=0.7.0 in c:\\users\\keerthana\\anaconda3\\new folder\\lib\\site-packages (from tensorboard!=2.5.0,>2.2.0->pytorch_tabular[extra]) (0.7.1)\n",
      "Requirement already satisfied: rsa<5,>=3.1.4 in c:\\users\\keerthana\\anaconda3\\new folder\\lib\\site-packages (from google-auth<3,>=1.6.3->tensorboard!=2.5.0,>2.2.0->pytorch_tabular[extra]) (4.9)\n",
      "Requirement already satisfied: pyasn1-modules>=0.2.1 in c:\\users\\keerthana\\anaconda3\\new folder\\lib\\site-packages (from google-auth<3,>=1.6.3->tensorboard!=2.5.0,>2.2.0->pytorch_tabular[extra]) (0.3.0)\n",
      "Requirement already satisfied: cachetools<6.0,>=2.0.0 in c:\\users\\keerthana\\anaconda3\\new folder\\lib\\site-packages (from google-auth<3,>=1.6.3->tensorboard!=2.5.0,>2.2.0->pytorch_tabular[extra]) (5.3.1)\n",
      "Requirement already satisfied: requests-oauthlib>=0.7.0 in c:\\users\\keerthana\\anaconda3\\new folder\\lib\\site-packages (from google-auth-oauthlib<1.1,>=0.5->tensorboard!=2.5.0,>2.2.0->pytorch_tabular[extra]) (1.3.1)\n",
      "Requirement already satisfied: importlib-metadata>=4.4 in c:\\users\\keerthana\\anaconda3\\new folder\\lib\\site-packages (from markdown>=2.6.8->tensorboard!=2.5.0,>2.2.0->pytorch_tabular[extra]) (4.8.1)\n",
      "Requirement already satisfied: zipp>=0.5 in c:\\users\\keerthana\\anaconda3\\new folder\\lib\\site-packages (from importlib-metadata>=4.4->markdown>=2.6.8->tensorboard!=2.5.0,>2.2.0->pytorch_tabular[extra]) (3.6.0)\n",
      "Requirement already satisfied: pyasn1<0.6.0,>=0.4.6 in c:\\users\\keerthana\\anaconda3\\new folder\\lib\\site-packages (from pyasn1-modules>=0.2.1->google-auth<3,>=1.6.3->tensorboard!=2.5.0,>2.2.0->pytorch_tabular[extra]) (0.5.0)\n",
      "Requirement already satisfied: oauthlib>=3.0.0 in c:\\users\\keerthana\\anaconda3\\new folder\\lib\\site-packages (from requests-oauthlib>=0.7.0->google-auth-oauthlib<1.1,>=0.5->tensorboard!=2.5.0,>2.2.0->pytorch_tabular[extra]) (3.2.2)\n",
      "Requirement already satisfied: aiosignal>=1.1.2 in c:\\users\\keerthana\\anaconda3\\new folder\\lib\\site-packages (from aiohttp->fsspec[http]>2021.06.0->pytorch-lightning<2.0.0,>=1.8.0->pytorch_tabular[extra]) (1.3.1)\n",
      "Requirement already satisfied: yarl<2.0,>=1.0 in c:\\users\\keerthana\\anaconda3\\new folder\\lib\\site-packages (from aiohttp->fsspec[http]>2021.06.0->pytorch-lightning<2.0.0,>=1.8.0->pytorch_tabular[extra]) (1.9.2)\n",
      "Requirement already satisfied: async-timeout<5.0,>=4.0.0a3 in c:\\users\\keerthana\\anaconda3\\new folder\\lib\\site-packages (from aiohttp->fsspec[http]>2021.06.0->pytorch-lightning<2.0.0,>=1.8.0->pytorch_tabular[extra]) (4.0.3)\n",
      "Requirement already satisfied: multidict<7.0,>=4.5 in c:\\users\\keerthana\\anaconda3\\new folder\\lib\\site-packages (from aiohttp->fsspec[http]>2021.06.0->pytorch-lightning<2.0.0,>=1.8.0->pytorch_tabular[extra]) (6.0.4)\n",
      "Requirement already satisfied: attrs>=17.3.0 in c:\\users\\keerthana\\anaconda3\\new folder\\lib\\site-packages (from aiohttp->fsspec[http]>2021.06.0->pytorch-lightning<2.0.0,>=1.8.0->pytorch_tabular[extra]) (21.2.0)\n",
      "Requirement already satisfied: frozenlist>=1.1.1 in c:\\users\\keerthana\\anaconda3\\new folder\\lib\\site-packages (from aiohttp->fsspec[http]>2021.06.0->pytorch-lightning<2.0.0,>=1.8.0->pytorch_tabular[extra]) (1.4.0)\n",
      "Requirement already satisfied: jupyterlab-widgets>=1.0.0 in c:\\users\\keerthana\\anaconda3\\new folder\\lib\\site-packages (from ipywidgets->pytorch_tabular[extra]) (1.0.0)\n",
      "Requirement already satisfied: nbformat>=4.2.0 in c:\\users\\keerthana\\anaconda3\\new folder\\lib\\site-packages (from ipywidgets->pytorch_tabular[extra]) (5.1.3)\n",
      "Requirement already satisfied: traitlets>=4.3.1 in c:\\users\\keerthana\\anaconda3\\new folder\\lib\\site-packages (from ipywidgets->pytorch_tabular[extra]) (5.1.0)\n",
      "Requirement already satisfied: ipython>=4.0.0 in c:\\users\\keerthana\\anaconda3\\new folder\\lib\\site-packages (from ipywidgets->pytorch_tabular[extra]) (7.29.0)\n",
      "Requirement already satisfied: widgetsnbextension~=3.5.0 in c:\\users\\keerthana\\anaconda3\\new folder\\lib\\site-packages (from ipywidgets->pytorch_tabular[extra]) (3.5.1)\n",
      "Requirement already satisfied: ipython-genutils~=0.2.0 in c:\\users\\keerthana\\anaconda3\\new folder\\lib\\site-packages (from ipywidgets->pytorch_tabular[extra]) (0.2.0)\n",
      "Requirement already satisfied: ipykernel>=4.5.1 in c:\\users\\keerthana\\anaconda3\\new folder\\lib\\site-packages (from ipywidgets->pytorch_tabular[extra]) (6.4.1)\n",
      "Requirement already satisfied: matplotlib-inline<0.2.0,>=0.1.0 in c:\\users\\keerthana\\anaconda3\\new folder\\lib\\site-packages (from ipykernel>=4.5.1->ipywidgets->pytorch_tabular[extra]) (0.1.2)\n",
      "Requirement already satisfied: tornado<7.0,>=4.2 in c:\\users\\keerthana\\anaconda3\\new folder\\lib\\site-packages (from ipykernel>=4.5.1->ipywidgets->pytorch_tabular[extra]) (6.1)\n",
      "Requirement already satisfied: jupyter-client<8.0 in c:\\users\\keerthana\\anaconda3\\new folder\\lib\\site-packages (from ipykernel>=4.5.1->ipywidgets->pytorch_tabular[extra]) (6.1.12)\n",
      "Requirement already satisfied: debugpy<2.0,>=1.0.0 in c:\\users\\keerthana\\anaconda3\\new folder\\lib\\site-packages (from ipykernel>=4.5.1->ipywidgets->pytorch_tabular[extra]) (1.4.1)\n",
      "Requirement already satisfied: prompt-toolkit!=3.0.0,!=3.0.1,<3.1.0,>=2.0.0 in c:\\users\\keerthana\\anaconda3\\new folder\\lib\\site-packages (from ipython>=4.0.0->ipywidgets->pytorch_tabular[extra]) (3.0.20)\n",
      "Requirement already satisfied: decorator in c:\\users\\keerthana\\anaconda3\\new folder\\lib\\site-packages (from ipython>=4.0.0->ipywidgets->pytorch_tabular[extra]) (5.1.0)\n",
      "Requirement already satisfied: backcall in c:\\users\\keerthana\\anaconda3\\new folder\\lib\\site-packages (from ipython>=4.0.0->ipywidgets->pytorch_tabular[extra]) (0.2.0)\n",
      "Requirement already satisfied: pickleshare in c:\\users\\keerthana\\anaconda3\\new folder\\lib\\site-packages (from ipython>=4.0.0->ipywidgets->pytorch_tabular[extra]) (0.7.5)\n",
      "Requirement already satisfied: jedi>=0.16 in c:\\users\\keerthana\\anaconda3\\new folder\\lib\\site-packages (from ipython>=4.0.0->ipywidgets->pytorch_tabular[extra]) (0.18.0)\n",
      "Requirement already satisfied: parso<0.9.0,>=0.8.0 in c:\\users\\keerthana\\anaconda3\\new folder\\lib\\site-packages (from jedi>=0.16->ipython>=4.0.0->ipywidgets->pytorch_tabular[extra]) (0.8.2)\n",
      "Requirement already satisfied: jupyter-core>=4.6.0 in c:\\users\\keerthana\\anaconda3\\new folder\\lib\\site-packages (from jupyter-client<8.0->ipykernel>=4.5.1->ipywidgets->pytorch_tabular[extra]) (4.8.1)\n",
      "Requirement already satisfied: pyzmq>=13 in c:\\users\\keerthana\\anaconda3\\new folder\\lib\\site-packages (from jupyter-client<8.0->ipykernel>=4.5.1->ipywidgets->pytorch_tabular[extra]) (22.2.1)\n",
      "Requirement already satisfied: pywin32>=1.0 in c:\\users\\keerthana\\anaconda3\\new folder\\lib\\site-packages (from jupyter-core>=4.6.0->jupyter-client<8.0->ipykernel>=4.5.1->ipywidgets->pytorch_tabular[extra]) (228)\n",
      "Requirement already satisfied: jsonschema!=2.5.0,>=2.4 in c:\\users\\keerthana\\anaconda3\\new folder\\lib\\site-packages (from nbformat>=4.2.0->ipywidgets->pytorch_tabular[extra]) (3.2.0)\n",
      "Requirement already satisfied: pyrsistent>=0.14.0 in c:\\users\\keerthana\\anaconda3\\new folder\\lib\\site-packages (from jsonschema!=2.5.0,>=2.4->nbformat>=4.2.0->ipywidgets->pytorch_tabular[extra]) (0.18.0)\n",
      "Requirement already satisfied: wcwidth in c:\\users\\keerthana\\anaconda3\\new folder\\lib\\site-packages (from prompt-toolkit!=3.0.0,!=3.0.1,<3.1.0,>=2.0.0->ipython>=4.0.0->ipywidgets->pytorch_tabular[extra]) (0.2.5)\n",
      "Requirement already satisfied: notebook>=4.4.1 in c:\\users\\keerthana\\anaconda3\\new folder\\lib\\site-packages (from widgetsnbextension~=3.5.0->ipywidgets->pytorch_tabular[extra]) (6.4.5)\n",
      "Requirement already satisfied: prometheus-client in c:\\users\\keerthana\\anaconda3\\new folder\\lib\\site-packages (from notebook>=4.4.1->widgetsnbextension~=3.5.0->ipywidgets->pytorch_tabular[extra]) (0.11.0)\n",
      "Requirement already satisfied: jinja2 in c:\\users\\keerthana\\anaconda3\\new folder\\lib\\site-packages (from notebook>=4.4.1->widgetsnbextension~=3.5.0->ipywidgets->pytorch_tabular[extra]) (2.11.3)\n",
      "Requirement already satisfied: Send2Trash>=1.5.0 in c:\\users\\keerthana\\anaconda3\\new folder\\lib\\site-packages (from notebook>=4.4.1->widgetsnbextension~=3.5.0->ipywidgets->pytorch_tabular[extra]) (1.8.0)\n",
      "Requirement already satisfied: terminado>=0.8.3 in c:\\users\\keerthana\\anaconda3\\new folder\\lib\\site-packages (from notebook>=4.4.1->widgetsnbextension~=3.5.0->ipywidgets->pytorch_tabular[extra]) (0.9.4)\n",
      "Requirement already satisfied: nbconvert in c:\\users\\keerthana\\anaconda3\\new folder\\lib\\site-packages (from notebook>=4.4.1->widgetsnbextension~=3.5.0->ipywidgets->pytorch_tabular[extra]) (6.1.0)\n",
      "Requirement already satisfied: argon2-cffi in c:\\users\\keerthana\\anaconda3\\new folder\\lib\\site-packages (from notebook>=4.4.1->widgetsnbextension~=3.5.0->ipywidgets->pytorch_tabular[extra]) (20.1.0)\n",
      "Requirement already satisfied: pywinpty>=0.5 in c:\\users\\keerthana\\anaconda3\\new folder\\lib\\site-packages (from terminado>=0.8.3->notebook>=4.4.1->widgetsnbextension~=3.5.0->ipywidgets->pytorch_tabular[extra]) (0.5.7)\n",
      "Requirement already satisfied: cffi>=1.0.0 in c:\\users\\keerthana\\anaconda3\\new folder\\lib\\site-packages (from argon2-cffi->notebook>=4.4.1->widgetsnbextension~=3.5.0->ipywidgets->pytorch_tabular[extra]) (1.14.6)\n",
      "Requirement already satisfied: pycparser in c:\\users\\keerthana\\anaconda3\\new folder\\lib\\site-packages (from cffi>=1.0.0->argon2-cffi->notebook>=4.4.1->widgetsnbextension~=3.5.0->ipywidgets->pytorch_tabular[extra]) (2.20)\n",
      "Requirement already satisfied: MarkupSafe>=0.23 in c:\\users\\keerthana\\anaconda3\\new folder\\lib\\site-packages (from jinja2->notebook>=4.4.1->widgetsnbextension~=3.5.0->ipywidgets->pytorch_tabular[extra]) (1.1.1)\n",
      "Requirement already satisfied: jupyterlab-pygments in c:\\users\\keerthana\\anaconda3\\new folder\\lib\\site-packages (from nbconvert->notebook>=4.4.1->widgetsnbextension~=3.5.0->ipywidgets->pytorch_tabular[extra]) (0.1.2)\n",
      "Requirement already satisfied: testpath in c:\\users\\keerthana\\anaconda3\\new folder\\lib\\site-packages (from nbconvert->notebook>=4.4.1->widgetsnbextension~=3.5.0->ipywidgets->pytorch_tabular[extra]) (0.5.0)\n",
      "Requirement already satisfied: pandocfilters>=1.4.1 in c:\\users\\keerthana\\anaconda3\\new folder\\lib\\site-packages (from nbconvert->notebook>=4.4.1->widgetsnbextension~=3.5.0->ipywidgets->pytorch_tabular[extra]) (1.4.3)\n",
      "Requirement already satisfied: defusedxml in c:\\users\\keerthana\\anaconda3\\new folder\\lib\\site-packages (from nbconvert->notebook>=4.4.1->widgetsnbextension~=3.5.0->ipywidgets->pytorch_tabular[extra]) (0.7.1)\n",
      "Requirement already satisfied: nbclient<0.6.0,>=0.5.0 in c:\\users\\keerthana\\anaconda3\\new folder\\lib\\site-packages (from nbconvert->notebook>=4.4.1->widgetsnbextension~=3.5.0->ipywidgets->pytorch_tabular[extra]) (0.5.3)\n",
      "Requirement already satisfied: bleach in c:\\users\\keerthana\\anaconda3\\new folder\\lib\\site-packages (from nbconvert->notebook>=4.4.1->widgetsnbextension~=3.5.0->ipywidgets->pytorch_tabular[extra]) (4.0.0)\n",
      "Requirement already satisfied: mistune<2,>=0.8.1 in c:\\users\\keerthana\\anaconda3\\new folder\\lib\\site-packages (from nbconvert->notebook>=4.4.1->widgetsnbextension~=3.5.0->ipywidgets->pytorch_tabular[extra]) (0.8.4)\n",
      "Requirement already satisfied: entrypoints>=0.2.2 in c:\\users\\keerthana\\anaconda3\\new folder\\lib\\site-packages (from nbconvert->notebook>=4.4.1->widgetsnbextension~=3.5.0->ipywidgets->pytorch_tabular[extra]) (0.3)\n",
      "Requirement already satisfied: nest-asyncio in c:\\users\\keerthana\\anaconda3\\new folder\\lib\\site-packages (from nbclient<0.6.0,>=0.5.0->nbconvert->notebook>=4.4.1->widgetsnbextension~=3.5.0->ipywidgets->pytorch_tabular[extra]) (1.5.1)\n",
      "Requirement already satisfied: async-generator in c:\\users\\keerthana\\anaconda3\\new folder\\lib\\site-packages (from nbclient<0.6.0,>=0.5.0->nbconvert->notebook>=4.4.1->widgetsnbextension~=3.5.0->ipywidgets->pytorch_tabular[extra]) (1.10)\n",
      "Requirement already satisfied: webencodings in c:\\users\\keerthana\\anaconda3\\new folder\\lib\\site-packages (from bleach->nbconvert->notebook>=4.4.1->widgetsnbextension~=3.5.0->ipywidgets->pytorch_tabular[extra]) (0.5.1)\n"
     ]
    }
   ],
   "source": [
    "!pip install pytorch_tabular[extra]"
   ]
  },
  {
   "cell_type": "code",
   "execution_count": 2,
   "metadata": {
    "id": "Jr6P3U7w3NVl"
   },
   "outputs": [
    {
     "name": "stderr",
     "output_type": "stream",
     "text": [
      "C:\\Users\\Keerthana\\anaconda3\\New folder\\lib\\site-packages\\torchvision\\io\\image.py:13: UserWarning: Failed to load image Python extension: '[WinError 127] The specified procedure could not be found'If you don't plan on using image functionality from `torchvision.io`, you can ignore this warning. Otherwise, there might be something wrong with your environment. Did you have `libjpeg` or `libpng` installed before building `torchvision` from source?\n",
      "  warn(\n"
     ]
    }
   ],
   "source": [
    "SEED = 42\n",
    "\n",
    "import os\n",
    "\n",
    "import random\n",
    "random.seed(42)\n",
    "\n",
    "import numpy as np\n",
    "np.random.seed(SEED)\n",
    "\n",
    "import pandas as pd\n",
    "\n",
    "from pytorch_tabular import TabularModel\n",
    "from pytorch_tabular.models import CategoryEmbeddingModelConfig\n",
    "from pytorch_tabular.config import (\n",
    "    DataConfig,\n",
    "    OptimizerConfig,\n",
    "    TrainerConfig,\n",
    ")\n",
    "\n",
    "from sklearn.metrics import mean_squared_error, r2_score\n",
    "import math"
   ]
  },
  {
   "cell_type": "markdown",
   "metadata": {
    "id": "zGyEWcVlqKTz"
   },
   "source": [
    "> Divide the dataset (‘hdb_price_prediction.csv’) into train, validation and test sets by using entries from year 2019 and before as training data, year 2020 as validation data and year 2021 as test data.\n",
    "**Do not** use data from year 2022 and year 2023.\n",
    "\n"
   ]
  },
  {
   "cell_type": "code",
   "execution_count": 3,
   "metadata": {
    "id": "hoCPcOWupw5Y"
   },
   "outputs": [],
   "source": [
    "df = pd.read_csv('hdb_price_prediction.csv')\n",
    "\n",
    "# Divide the dataset into train, validation, and test sets\n",
    "train_data = df[df['year'] <= 2019]\n",
    "val_data = df[df['year'] == 2020]\n",
    "test_data = df[df['year'] == 2021]\n",
    "\n",
    "# Define target variable and features\n",
    "target= ['resale_price']\n",
    "continuous_features = ['dist_to_nearest_stn', 'dist_to_dhoby', 'degree_centrality', \n",
    "                       'eigenvector_centrality', 'remaining_lease_years', 'floor_area_sqm']\n",
    "categorical_features = ['month', 'town', 'flat_model_type', 'storey_range']"
   ]
  },
  {
   "cell_type": "markdown",
   "metadata": {
    "id": "sebMgSuzqPe7"
   },
   "source": [
    "> Refer to the documentation of **PyTorch Tabular** and perform the following tasks: https://pytorch-tabular.readthedocs.io/en/latest/#usage\n",
    "- Use **[DataConfig](https://pytorch-tabular.readthedocs.io/en/latest/data/)** to define the target variable, as well as the names of the continuous and categorical variables.\n",
    "- Use **[TrainerConfig](https://pytorch-tabular.readthedocs.io/en/latest/training/)** to automatically tune the learning rate. Set batch_size to be 1024 and set max_epoch as 50.\n",
    "- Use **[CategoryEmbeddingModelConfig](https://pytorch-tabular.readthedocs.io/en/latest/models/#category-embedding-model)** to create a feedforward neural network with 1 hidden layer containing 50 neurons.\n",
    "- Use **[OptimizerConfig](https://pytorch-tabular.readthedocs.io/en/latest/optimizer/)** to choose Adam optimiser. There is no need to set the learning rate (since it will be tuned automatically) nor scheduler.\n",
    "- Use **[TabularModel](https://pytorch-tabular.readthedocs.io/en/latest/tabular_model/)** to initialise the model and put all the configs together."
   ]
  },
  {
   "cell_type": "code",
   "execution_count": 4,
   "metadata": {
    "id": "ZZWAYdNhqPzh",
    "scrolled": true
   },
   "outputs": [
    {
     "name": "stderr",
     "output_type": "stream",
     "text": [
      "2023-10-13 20:35:43,158 - {pytorch_tabular.tabular_model:105} - INFO - Experiment Tracking is turned off\n",
      "Global seed set to 42\n",
      "2023-10-13 20:35:43,194 - {pytorch_tabular.tabular_model:473} - INFO - Preparing the DataLoaders\n",
      "2023-10-13 20:35:43,194 - {pytorch_tabular.tabular_datamodule:290} - INFO - Setting up the datamodule for regression task\n",
      "2023-10-13 20:35:43,285 - {pytorch_tabular.tabular_model:521} - INFO - Preparing the Model: CategoryEmbeddingModel\n",
      "2023-10-13 20:35:43,319 - {pytorch_tabular.tabular_model:268} - INFO - Preparing the Trainer\n",
      "C:\\Users\\Keerthana\\anaconda3\\New folder\\lib\\site-packages\\pytorch_lightning\\trainer\\connectors\\accelerator_connector.py:589: LightningDeprecationWarning: The Trainer argument `auto_select_gpus` has been deprecated in v1.9.0 and will be removed in v2.0.0. Please use the function `pytorch_lightning.accelerators.find_usable_cuda_devices` instead.\n",
      "  rank_zero_deprecation(\n",
      "GPU available: False, used: False\n",
      "TPU available: False, using: 0 TPU cores\n",
      "IPU available: False, using: 0 IPUs\n",
      "HPU available: False, using: 0 HPUs\n",
      "2023-10-13 20:35:43,552 - {pytorch_tabular.tabular_model:573} - INFO - Auto LR Find Started\n",
      "C:\\Users\\Keerthana\\anaconda3\\New folder\\lib\\site-packages\\pytorch_lightning\\trainer\\connectors\\data_connector.py:224: PossibleUserWarning: The dataloader, train_dataloader, does not have many workers which may be a bottleneck. Consider increasing the value of the `num_workers` argument` (try 8 which is the number of cpus on this machine) in the `DataLoader` init to improve performance.\n",
      "  rank_zero_warn(\n",
      "C:\\Users\\Keerthana\\anaconda3\\New folder\\lib\\site-packages\\pytorch_lightning\\trainer\\connectors\\data_connector.py:224: PossibleUserWarning: The dataloader, val_dataloader 0, does not have many workers which may be a bottleneck. Consider increasing the value of the `num_workers` argument` (try 8 which is the number of cpus on this machine) in the `DataLoader` init to improve performance.\n",
      "  rank_zero_warn(\n",
      "C:\\Users\\Keerthana\\anaconda3\\New folder\\lib\\site-packages\\pytorch_lightning\\core\\module.py:493: UserWarning: You called `self.log('valid_loss', ..., logger=True)` but have no logger configured. You can enable one by doing `Trainer(logger=ALogger(...))`\n",
      "  rank_zero_warn(\n",
      "C:\\Users\\Keerthana\\anaconda3\\New folder\\lib\\site-packages\\pytorch_lightning\\core\\module.py:493: UserWarning: You called `self.log('valid_mean_squared_error', ..., logger=True)` but have no logger configured. You can enable one by doing `Trainer(logger=ALogger(...))`\n",
      "  rank_zero_warn(\n"
     ]
    },
    {
     "data": {
      "application/vnd.jupyter.widget-view+json": {
       "model_id": "7ad0b6b1bc274113b662d011d4d4ebf2",
       "version_major": 2,
       "version_minor": 0
      },
      "text/plain": [
       "Finding best initial lr:   0%|          | 0/100 [00:00<?, ?it/s]"
      ]
     },
     "metadata": {},
     "output_type": "display_data"
    },
    {
     "name": "stderr",
     "output_type": "stream",
     "text": [
      "C:\\Users\\Keerthana\\anaconda3\\New folder\\lib\\site-packages\\pytorch_lightning\\core\\module.py:493: UserWarning: You called `self.log('train_loss', ..., logger=True)` but have no logger configured. You can enable one by doing `Trainer(logger=ALogger(...))`\n",
      "  rank_zero_warn(\n",
      "C:\\Users\\Keerthana\\anaconda3\\New folder\\lib\\site-packages\\pytorch_lightning\\core\\module.py:493: UserWarning: You called `self.log('train_mean_squared_error', ..., logger=True)` but have no logger configured. You can enable one by doing `Trainer(logger=ALogger(...))`\n",
      "  rank_zero_warn(\n",
      "`Trainer.fit` stopped: `max_steps=100` reached.\n",
      "Learning rate set to 0.5754399373371567\n",
      "Restoring states from the checkpoint path at C:\\Users\\Keerthana\\SC4001 Assignment\\.lr_find_e1131849-1c70-4c8d-ad61-23daea637bc7.ckpt\n",
      "Restored all states from the checkpoint file at C:\\Users\\Keerthana\\SC4001 Assignment\\.lr_find_e1131849-1c70-4c8d-ad61-23daea637bc7.ckpt\n",
      "2023-10-13 20:35:47,005 - {pytorch_tabular.tabular_model:575} - INFO - Suggested LR: 0.5754399373371567. For plot and detailed analysis, use `find_learning_rate` method.\n",
      "2023-10-13 20:35:47,006 - {pytorch_tabular.tabular_model:582} - INFO - Training Started\n"
     ]
    },
    {
     "data": {
      "text/html": [
       "<pre style=\"white-space:pre;overflow-x:auto;line-height:normal;font-family:Menlo,'DejaVu Sans Mono',consolas,'Courier New',monospace\">┏━━━┳━━━━━━━━━━━━━━━━━━┳━━━━━━━━━━━━━━━━━━━━━━━━━━━┳━━━━━━━━┓\n",
       "┃<span style=\"color: #800080; text-decoration-color: #800080; font-weight: bold\">   </span>┃<span style=\"color: #800080; text-decoration-color: #800080; font-weight: bold\"> Name             </span>┃<span style=\"color: #800080; text-decoration-color: #800080; font-weight: bold\"> Type                      </span>┃<span style=\"color: #800080; text-decoration-color: #800080; font-weight: bold\"> Params </span>┃\n",
       "┡━━━╇━━━━━━━━━━━━━━━━━━╇━━━━━━━━━━━━━━━━━━━━━━━━━━━╇━━━━━━━━┩\n",
       "│<span style=\"color: #7f7f7f; text-decoration-color: #7f7f7f\"> 0 </span>│ _backbone        │ CategoryEmbeddingBackbone │  2.9 K │\n",
       "│<span style=\"color: #7f7f7f; text-decoration-color: #7f7f7f\"> 1 </span>│ _embedding_layer │ Embedding1dLayer          │  1.5 K │\n",
       "│<span style=\"color: #7f7f7f; text-decoration-color: #7f7f7f\"> 2 </span>│ head             │ LinearHead                │     51 │\n",
       "│<span style=\"color: #7f7f7f; text-decoration-color: #7f7f7f\"> 3 </span>│ loss             │ MSELoss                   │      0 │\n",
       "└───┴──────────────────┴───────────────────────────┴────────┘\n",
       "</pre>\n"
      ],
      "text/plain": [
       "┏━━━┳━━━━━━━━━━━━━━━━━━┳━━━━━━━━━━━━━━━━━━━━━━━━━━━┳━━━━━━━━┓\n",
       "┃\u001b[1;35m \u001b[0m\u001b[1;35m \u001b[0m\u001b[1;35m \u001b[0m┃\u001b[1;35m \u001b[0m\u001b[1;35mName            \u001b[0m\u001b[1;35m \u001b[0m┃\u001b[1;35m \u001b[0m\u001b[1;35mType                     \u001b[0m\u001b[1;35m \u001b[0m┃\u001b[1;35m \u001b[0m\u001b[1;35mParams\u001b[0m\u001b[1;35m \u001b[0m┃\n",
       "┡━━━╇━━━━━━━━━━━━━━━━━━╇━━━━━━━━━━━━━━━━━━━━━━━━━━━╇━━━━━━━━┩\n",
       "│\u001b[2m \u001b[0m\u001b[2m0\u001b[0m\u001b[2m \u001b[0m│ _backbone        │ CategoryEmbeddingBackbone │  2.9 K │\n",
       "│\u001b[2m \u001b[0m\u001b[2m1\u001b[0m\u001b[2m \u001b[0m│ _embedding_layer │ Embedding1dLayer          │  1.5 K │\n",
       "│\u001b[2m \u001b[0m\u001b[2m2\u001b[0m\u001b[2m \u001b[0m│ head             │ LinearHead                │     51 │\n",
       "│\u001b[2m \u001b[0m\u001b[2m3\u001b[0m\u001b[2m \u001b[0m│ loss             │ MSELoss                   │      0 │\n",
       "└───┴──────────────────┴───────────────────────────┴────────┘\n"
      ]
     },
     "metadata": {},
     "output_type": "display_data"
    },
    {
     "data": {
      "text/html": [
       "<pre style=\"white-space:pre;overflow-x:auto;line-height:normal;font-family:Menlo,'DejaVu Sans Mono',consolas,'Courier New',monospace\"><span style=\"font-weight: bold\">Trainable params</span>: 4.5 K                                                                                            \n",
       "<span style=\"font-weight: bold\">Non-trainable params</span>: 0                                                                                            \n",
       "<span style=\"font-weight: bold\">Total params</span>: 4.5 K                                                                                                \n",
       "<span style=\"font-weight: bold\">Total estimated model params size (MB)</span>: 0                                                                          \n",
       "</pre>\n"
      ],
      "text/plain": [
       "\u001b[1mTrainable params\u001b[0m: 4.5 K                                                                                            \n",
       "\u001b[1mNon-trainable params\u001b[0m: 0                                                                                            \n",
       "\u001b[1mTotal params\u001b[0m: 4.5 K                                                                                                \n",
       "\u001b[1mTotal estimated model params size (MB)\u001b[0m: 0                                                                          \n"
      ]
     },
     "metadata": {},
     "output_type": "display_data"
    },
    {
     "data": {
      "application/vnd.jupyter.widget-view+json": {
       "model_id": "a139da474fd34ffdb47f2d0fabbf581a",
       "version_major": 2,
       "version_minor": 0
      },
      "text/plain": [
       "Output()"
      ]
     },
     "metadata": {},
     "output_type": "display_data"
    },
    {
     "data": {
      "text/html": [
       "<pre style=\"white-space:pre;overflow-x:auto;line-height:normal;font-family:Menlo,'DejaVu Sans Mono',consolas,'Courier New',monospace\"></pre>\n"
      ],
      "text/plain": []
     },
     "metadata": {},
     "output_type": "display_data"
    },
    {
     "data": {
      "text/html": [
       "<pre style=\"white-space:pre;overflow-x:auto;line-height:normal;font-family:Menlo,'DejaVu Sans Mono',consolas,'Courier New',monospace\">\n",
       "</pre>\n"
      ],
      "text/plain": [
       "\n"
      ]
     },
     "metadata": {},
     "output_type": "display_data"
    },
    {
     "name": "stderr",
     "output_type": "stream",
     "text": [
      "2023-10-13 20:36:15,746 - {pytorch_tabular.tabular_model:584} - INFO - Training the model completed\n",
      "2023-10-13 20:36:15,746 - {pytorch_tabular.tabular_model:1258} - INFO - Loading the best model\n",
      "C:\\Users\\Keerthana\\anaconda3\\New folder\\lib\\site-packages\\pytorch_lightning\\utilities\\cloud_io.py:33: LightningDeprecationWarning: `pytorch_lightning.utilities.cloud_io.get_filesystem` has been deprecated in v1.8.0 and will be removed in v2.0.0. Please use `lightning_fabric.utilities.cloud_io.get_filesystem` instead.\n",
      "  rank_zero_deprecation(\n"
     ]
    },
    {
     "data": {
      "text/plain": [
       "<pytorch_lightning.trainer.trainer.Trainer at 0x1ff84b87be0>"
      ]
     },
     "execution_count": 4,
     "metadata": {},
     "output_type": "execute_result"
    }
   ],
   "source": [
    "# TODO: Enter your code here\n",
    "data_config = DataConfig(\n",
    "    target=['resale_price'], \n",
    "    continuous_cols=continuous_features, \n",
    "    categorical_cols=categorical_features\n",
    ")\n",
    "\n",
    "trainer_config = TrainerConfig(\n",
    "    auto_lr_find=True,\n",
    "    max_epochs=50,\n",
    "    batch_size=1024\n",
    ")\n",
    "\n",
    "model_config = CategoryEmbeddingModelConfig(\n",
    "    task=\"regression\",\n",
    "    layers=\"50\", \n",
    "    activation=\"ReLU\",\n",
    "    learning_rate=0.001\n",
    ")\n",
    "\n",
    "optimizer_config = OptimizerConfig(optimizer=\"Adam\")\n",
    "\n",
    "model = TabularModel(\n",
    "    data_config=data_config,\n",
    "    model_config=model_config,\n",
    "    optimizer_config=optimizer_config,\n",
    "    trainer_config=trainer_config\n",
    ")\n",
    "\n",
    "model.fit(train=train_data, validation=val_data)"
   ]
  },
  {
   "cell_type": "code",
   "execution_count": 5,
   "metadata": {},
   "outputs": [
    {
     "data": {
      "application/vnd.jupyter.widget-view+json": {
       "model_id": "745fbb2b69344bd19044345eec72d756",
       "version_major": 2,
       "version_minor": 0
      },
      "text/plain": [
       "Output()"
      ]
     },
     "metadata": {},
     "output_type": "display_data"
    },
    {
     "data": {
      "text/html": [
       "<pre style=\"white-space:pre;overflow-x:auto;line-height:normal;font-family:Menlo,'DejaVu Sans Mono',consolas,'Courier New',monospace\"></pre>\n"
      ],
      "text/plain": []
     },
     "metadata": {},
     "output_type": "display_data"
    },
    {
     "data": {
      "text/html": [
       "<pre style=\"white-space:pre;overflow-x:auto;line-height:normal;font-family:Menlo,'DejaVu Sans Mono',consolas,'Courier New',monospace\">\n",
       "</pre>\n"
      ],
      "text/plain": [
       "\n"
      ]
     },
     "metadata": {},
     "output_type": "display_data"
    },
    {
     "name": "stdout",
     "output_type": "stream",
     "text": [
      "Test RMSE: 76696.92\n",
      "Test R2: 0.78\n"
     ]
    }
   ],
   "source": [
    "predictions = model.predict(test_data)\n",
    "\n",
    "predictions_array = predictions['resale_price_prediction'].values\n",
    "\n",
    "# Calculate RMSE\n",
    "test_rmse = math.sqrt(mean_squared_error(test_data['resale_price'], predictions_array))\n",
    "\n",
    "# Calculate R2 score\n",
    "test_r2 = r2_score(test_data['resale_price'], predictions_array)\n",
    "\n",
    "print(f\"Test RMSE: {test_rmse:.2f}\")\n",
    "print(f\"Test R2: {test_r2:.2f}\")"
   ]
  },
  {
   "cell_type": "markdown",
   "metadata": {
    "id": "-2UXPKq0qWQG"
   },
   "source": [
    "> Report the test RMSE error and the test R2 value that you obtained.\n",
    "\n"
   ]
  },
  {
   "cell_type": "markdown",
   "metadata": {
    "id": "zmE9Bc7Nqadi"
   },
   "source": [
    "\\# TODO: \\<Enter your answer here\\>\n",
    "\n",
    "Test RMSE: 76696.92\n",
    "\n",
    "Test R2: 0.78"
   ]
  },
  {
   "cell_type": "markdown",
   "metadata": {
    "id": "NEJhRU18qX22"
   },
   "source": [
    "> Print out the corresponding rows in the dataframe for the top 25 test samples with the largest errors. Identify a trend in these poor predictions and suggest a way to reduce these errors.\n",
    "\n"
   ]
  },
  {
   "cell_type": "code",
   "execution_count": 6,
   "metadata": {
    "id": "5ma5K9vKqZEq"
   },
   "outputs": [
    {
     "name": "stdout",
     "output_type": "stream",
     "text": [
      "        month  year          town                full_address    nearest_stn  \\\n",
      "92405      11  2021   BUKIT MERAH            46 SENG POH ROAD    Tiong Bahru   \n",
      "90957       6  2021   BUKIT BATOK  288A BUKIT BATOK STREET 25    Bukit Batok   \n",
      "112128     12  2021      TAMPINES      156 TAMPINES STREET 12       Tampines   \n",
      "90608      12  2021        BISHAN       273B BISHAN STREET 24         Bishan   \n",
      "106192     12  2021    QUEENSTOWN              89 DAWSON ROAD     Queenstown   \n",
      "91871       6  2021   BUKIT MERAH         17 TIONG BAHRU ROAD    Tiong Bahru   \n",
      "93825       8  2021  CENTRAL AREA       4 TANJONG PAGAR PLAZA  Tanjong Pagar   \n",
      "92504      12  2021   BUKIT MERAH            49 KIM PONG ROAD    Tiong Bahru   \n",
      "105695      6  2021    QUEENSTOWN              91 DAWSON ROAD     Queenstown   \n",
      "90432       8  2021        BISHAN       275A BISHAN STREET 24         Bishan   \n",
      "92299      10  2021   BUKIT MERAH         36 MOH GUAN TERRACE    Tiong Bahru   \n",
      "92442      11  2021   BUKIT MERAH          127D KIM TIAN ROAD    Tiong Bahru   \n",
      "93895      11  2021  CENTRAL AREA       3 TANJONG PAGAR PLAZA  Tanjong Pagar   \n",
      "105699      6  2021    QUEENSTOWN              91 DAWSON ROAD     Queenstown   \n",
      "88081       8  2021    ANG MO KIO    310A ANG MO KIO AVENUE 1     Ang Mo Kio   \n",
      "106057     10  2021    QUEENSTOWN              92 DAWSON ROAD     Queenstown   \n",
      "90521      10  2021        BISHAN        237 BISHAN STREET 22         Bishan   \n",
      "92340      10  2021   BUKIT MERAH            56 HAVELOCK ROAD    Tiong Bahru   \n",
      "91694       4  2021   BUKIT MERAH          35 LIM LIAK STREET    Tiong Bahru   \n",
      "98379      12  2021       HOUGANG        615 HOUGANG AVENUE 8        Hougang   \n",
      "92226       9  2021   BUKIT MERAH          96A HENDERSON ROAD    Tiong Bahru   \n",
      "105468      3  2021    QUEENSTOWN              90 DAWSON ROAD     Queenstown   \n",
      "92533      12  2021   BUKIT MERAH          2C BOON TIONG ROAD    Tiong Bahru   \n",
      "105966      9  2021    QUEENSTOWN              91 DAWSON ROAD     Queenstown   \n",
      "92066       8  2021   BUKIT MERAH         48 MOH GUAN TERRACE    Tiong Bahru   \n",
      "\n",
      "        dist_to_nearest_stn  dist_to_dhoby  degree_centrality  \\\n",
      "92405              0.581977       2.309477           0.016807   \n",
      "90957              1.292540      10.763777           0.016807   \n",
      "112128             0.370873      12.479752           0.033613   \n",
      "90608              0.776182       6.297489           0.033613   \n",
      "106192             0.658035       3.807573           0.016807   \n",
      "91871              0.693391       2.058774           0.016807   \n",
      "93825              0.451637       2.594828           0.016807   \n",
      "92504              0.468378       2.365532           0.016807   \n",
      "105695             0.745596       3.720593           0.016807   \n",
      "90432              0.827889       6.370404           0.033613   \n",
      "92299              0.490926       2.278805           0.016807   \n",
      "92442              0.686789       2.664024           0.016807   \n",
      "93895              0.490378       2.630876           0.016807   \n",
      "105699             0.745596       3.720593           0.016807   \n",
      "88081              0.860056       7.263401           0.016807   \n",
      "106057             0.584731       3.882019           0.016807   \n",
      "90521              0.947205       6.663943           0.033613   \n",
      "92340              0.451387       2.128424           0.016807   \n",
      "91694              0.481551       2.262574           0.016807   \n",
      "98379              0.899849       8.828235           0.016807   \n",
      "92226              0.586629       2.932814           0.016807   \n",
      "105468             0.701852       3.763948           0.016807   \n",
      "92533              0.656363       1.982722           0.016807   \n",
      "105966             0.745596       3.720593           0.016807   \n",
      "92066              0.538563       2.345844           0.016807   \n",
      "\n",
      "        eigenvector_centrality                 flat_model_type  \\\n",
      "92405                 0.047782                3 ROOM, Standard   \n",
      "90957                 0.000217            EXECUTIVE, Apartment   \n",
      "112128                0.000229           EXECUTIVE, Maisonette   \n",
      "90608                 0.015854                    5 ROOM, DBSS   \n",
      "106192                0.008342  4 ROOM, Premium Apartment Loft   \n",
      "91871                 0.047782                3 ROOM, Standard   \n",
      "93825                 0.103876           5 ROOM, Adjoined flat   \n",
      "92504                 0.047782                3 ROOM, Standard   \n",
      "105695                0.008342  4 ROOM, Premium Apartment Loft   \n",
      "90432                 0.015854                    5 ROOM, DBSS   \n",
      "92299                 0.047782                3 ROOM, Standard   \n",
      "92442                 0.047782                5 ROOM, Improved   \n",
      "93895                 0.103876           5 ROOM, Adjoined flat   \n",
      "105699                0.008342  4 ROOM, Premium Apartment Loft   \n",
      "88081                 0.006243                5 ROOM, Improved   \n",
      "106057                0.008342  4 ROOM, Premium Apartment Loft   \n",
      "90521                 0.015854                5 ROOM, Improved   \n",
      "92340                 0.047782                5 ROOM, Improved   \n",
      "91694                 0.047782                3 ROOM, Standard   \n",
      "98379                 0.001507            EXECUTIVE, Apartment   \n",
      "92226                 0.047782                5 ROOM, Improved   \n",
      "105468                0.008342  4 ROOM, Premium Apartment Loft   \n",
      "92533                 0.047782                5 ROOM, Improved   \n",
      "105966                0.008342  4 ROOM, Premium Apartment Loft   \n",
      "92066                 0.047782                3 ROOM, Standard   \n",
      "\n",
      "        remaining_lease_years  floor_area_sqm storey_range  resale_price  \\\n",
      "92405               50.166667            88.0     01 TO 03      780000.0   \n",
      "90957               75.583333           144.0     10 TO 12      968000.0   \n",
      "112128              61.750000           148.0     01 TO 03      998000.0   \n",
      "90608               88.833333           120.0     37 TO 39     1360000.0   \n",
      "106192              93.333333           109.0     04 TO 06      968000.0   \n",
      "91871               50.583333            88.0     01 TO 03      680888.0   \n",
      "93825               54.583333           118.0     16 TO 18      938000.0   \n",
      "92504               50.166667            88.0     01 TO 03      695000.0   \n",
      "105695              93.916667            97.0     07 TO 09      930000.0   \n",
      "90432               88.916667           120.0     25 TO 27     1280000.0   \n",
      "92299               50.333333            88.0     01 TO 03      690000.0   \n",
      "92442               90.333333           113.0     16 TO 18     1165000.0   \n",
      "93895               54.250000           139.0     07 TO 09      958000.0   \n",
      "105699              93.916667           109.0     31 TO 33     1032888.0   \n",
      "88081               90.166667           121.0     28 TO 30     1100000.0   \n",
      "106057              93.500000            97.0     13 TO 15      958000.0   \n",
      "90521               69.583333           121.0     07 TO 09      988000.0   \n",
      "92340               90.750000           114.0     34 TO 36     1245000.0   \n",
      "91694               50.833333            88.0     01 TO 03      680000.0   \n",
      "98379               63.666667           142.0     04 TO 06      873000.0   \n",
      "92226               96.750000           113.0     28 TO 30     1220000.0   \n",
      "105468              94.166667            95.0     10 TO 12      920000.0   \n",
      "92533               78.083333           115.0     28 TO 30     1130000.0   \n",
      "105966              93.666667            97.0     25 TO 27      968800.0   \n",
      "92066               50.500000            77.0     01 TO 03      628000.0   \n",
      "\n",
      "        absolute_error  \n",
      "92405     415313.46875  \n",
      "90957     353501.68750  \n",
      "112128    342406.43750  \n",
      "90608     339411.37500  \n",
      "106192    332061.18750  \n",
      "91871     322531.21875  \n",
      "93825     320045.87500  \n",
      "92504     318997.71875  \n",
      "105695    317532.25000  \n",
      "90432     317021.87500  \n",
      "92299     314059.75000  \n",
      "92442     313182.75000  \n",
      "93895     310048.62500  \n",
      "105699    308654.31250  \n",
      "88081     308230.93750  \n",
      "106057    307846.43750  \n",
      "90521     307658.06250  \n",
      "92340     303950.93750  \n",
      "91694     303329.43750  \n",
      "98379     302085.93750  \n",
      "92226     299094.43750  \n",
      "105468    298485.81250  \n",
      "92533     298479.75000  \n",
      "105966    295921.12500  \n",
      "92066     295535.56250  \n"
     ]
    },
    {
     "name": "stderr",
     "output_type": "stream",
     "text": [
      "C:\\Users\\Keerthana\\AppData\\Local\\Temp/ipykernel_2444/523807589.py:2: SettingWithCopyWarning: \n",
      "A value is trying to be set on a copy of a slice from a DataFrame.\n",
      "Try using .loc[row_indexer,col_indexer] = value instead\n",
      "\n",
      "See the caveats in the documentation: https://pandas.pydata.org/pandas-docs/stable/user_guide/indexing.html#returning-a-view-versus-a-copy\n",
      "  test_data['absolute_error'] = abs(test_data['resale_price'] - predictions_array)\n"
     ]
    }
   ],
   "source": [
    "# TODO: Enter your code here\n",
    "test_data['absolute_error'] = abs(test_data['resale_price'] - predictions_array)\n",
    "\n",
    "top_25_errors = test_data.sort_values(by='absolute_error', ascending=False).head(25)\n",
    "\n",
    "# Print the top 25 rows with the largest errors\n",
    "print(top_25_errors)"
   ]
  },
  {
   "cell_type": "markdown",
   "metadata": {
    "id": "bX5zy7V3qaGp"
   },
   "source": [
    "\\# TODO: \\<Enter your answer here\\>\n",
    "\n",
    "The properties with the largest errors in predictions are generally high-value properties. These properties have significantly higher resale prices compared to others in the dataset."
   ]
  }
 ],
 "metadata": {
  "colab": {
   "authorship_tag": "ABX9TyOG8ZhA98h3O6fnefkjOU9w",
   "provenance": []
  },
  "kernelspec": {
   "display_name": "Python 3 (ipykernel)",
   "language": "python",
   "name": "python3"
  },
  "language_info": {
   "codemirror_mode": {
    "name": "ipython",
    "version": 3
   },
   "file_extension": ".py",
   "mimetype": "text/x-python",
   "name": "python",
   "nbconvert_exporter": "python",
   "pygments_lexer": "ipython3",
   "version": "3.9.7"
  }
 },
 "nbformat": 4,
 "nbformat_minor": 1
}
