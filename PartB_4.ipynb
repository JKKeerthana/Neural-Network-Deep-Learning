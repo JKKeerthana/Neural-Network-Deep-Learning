{
 "cells": [
  {
   "cell_type": "markdown",
   "metadata": {
    "id": "Pp6KAX1UXqaK"
   },
   "source": [
    "CS4001/4042 Assignment 1, Part B, Q4\n",
    "---\n",
    "\n",
    "Model degradation is a common issue faced when deploying machine learning models (including neural networks) in the real world. New data points could exhibit a different pattern from older data points due to factors such as changes in government policy or market sentiments. For instance, housing prices in Singapore have been increasing and the Singapore government has introduced 3 rounds of cooling measures over the past years (16 December 2021, 30 September 2022, 27 April 2023).\n",
    "\n",
    "In such situations, the distribution of the new data points could differ from the original data distribution which the models were trained on. Recall that machine learning models often work with the assumption that the test distribution should be similar to train distribution. When this assumption is violated, model performance will be adversely impacted.  In the last part of this assignment, we will investigate to what extent model degradation has occurred.\n"
   ]
  },
  {
   "cell_type": "markdown",
   "metadata": {
    "id": "WsfKoCAMj9uo"
   },
   "source": [
    "\n",
    "\n",
    "---\n",
    "\n",
    "\n",
    "\n",
    "---\n",
    "\n"
   ]
  },
  {
   "cell_type": "markdown",
   "metadata": {
    "id": "Rjdf67uIarDX"
   },
   "source": [
    "Your co-investigators used a linear regression model to rapidly test out several combinations of train/test splits and shared with you their findings in a brief report attached in Appendix A below. You wish to investigate whether your deep learning model corroborates with their findings."
   ]
  },
  {
   "cell_type": "code",
   "execution_count": 1,
   "metadata": {
    "id": "M3-BW2LW4Icq"
   },
   "outputs": [
    {
     "name": "stdout",
     "output_type": "stream",
     "text": [
      "Requirement already satisfied: alibi-detect in c:\\users\\keerthana\\appdata\\roaming\\python\\python39\\site-packages (0.11.4)"
     ]
    },
    {
     "name": "stderr",
     "output_type": "stream",
     "text": [
      "ERROR: Could not install packages due to an OSError: [WinError 5] Access is denied: 'C:\\\\Users\\\\Keerthana\\\\anaconda3\\\\New folder\\\\Lib\\\\site-packages\\\\~5mpy.libs\\\\libopenblas64__v0.3.23-293-gc2f4bdbb-gcc_10_3_0-65e29aac85b9409a6008e2dc84b1cc09.dll'\n",
      "Consider using the `--user` option or check the permissions.\n",
      "\n"
     ]
    },
    {
     "name": "stdout",
     "output_type": "stream",
     "text": [
      "\n",
      "Requirement already satisfied: opencv-python<5.0.0,>=3.2.0 in c:\\users\\keerthana\\appdata\\roaming\\python\\python39\\site-packages (from alibi-detect) (4.8.1.78)\n",
      "Requirement already satisfied: pydantic<2.0.0,>=1.8.0 in c:\\users\\keerthana\\appdata\\roaming\\python\\python39\\site-packages (from alibi-detect) (1.10.13)\n",
      "Requirement already satisfied: numba!=0.54.0,<0.58.0,>=0.50.0 in c:\\users\\keerthana\\anaconda3\\new folder\\lib\\site-packages (from alibi-detect) (0.54.1)\n",
      "Requirement already satisfied: dill<0.4.0,>=0.3.0 in c:\\users\\keerthana\\appdata\\roaming\\python\\python39\\site-packages (from alibi-detect) (0.3.7)\n",
      "Requirement already satisfied: numpy<2.0.0,>=1.16.2 in c:\\users\\keerthana\\anaconda3\\new folder\\lib\\site-packages (from alibi-detect) (1.26.0)\n",
      "Requirement already satisfied: catalogue<3.0.0,>=2.0.0 in c:\\users\\keerthana\\anaconda3\\new folder\\lib\\site-packages (from alibi-detect) (2.0.10)\n",
      "Requirement already satisfied: transformers<5.0.0,>=4.0.0 in c:\\users\\keerthana\\appdata\\roaming\\python\\python39\\site-packages (from alibi-detect) (4.34.0)\n",
      "Requirement already satisfied: requests<3.0.0,>=2.21.0 in c:\\users\\keerthana\\anaconda3\\new folder\\lib\\site-packages (from alibi-detect) (2.26.0)\n",
      "Requirement already satisfied: typing-extensions>=3.7.4.3 in c:\\users\\keerthana\\anaconda3\\new folder\\lib\\site-packages (from alibi-detect) (4.8.0)\n",
      "Requirement already satisfied: scikit-image!=0.17.1,<0.22,>=0.14.2 in c:\\users\\keerthana\\anaconda3\\new folder\\lib\\site-packages (from alibi-detect) (0.18.3)\n",
      "Requirement already satisfied: toml<1.0.0,>=0.10.1 in c:\\users\\keerthana\\anaconda3\\new folder\\lib\\site-packages (from alibi-detect) (0.10.2)\n",
      "Requirement already satisfied: tqdm<5.0.0,>=4.28.1 in c:\\users\\keerthana\\anaconda3\\new folder\\lib\\site-packages (from alibi-detect) (4.62.3)\n",
      "Requirement already satisfied: scikit-learn<2.0.0,>=0.20.2 in c:\\users\\keerthana\\anaconda3\\new folder\\lib\\site-packages (from alibi-detect) (1.3.1)\n",
      "Requirement already satisfied: matplotlib<4.0.0,>=3.0.0 in c:\\users\\keerthana\\anaconda3\\new folder\\lib\\site-packages (from alibi-detect) (3.4.3)\n",
      "Requirement already satisfied: scipy<2.0.0,>=1.3.0 in c:\\users\\keerthana\\anaconda3\\new folder\\lib\\site-packages (from alibi-detect) (1.10.1)\n",
      "Requirement already satisfied: pandas<3.0.0,>=1.0.0 in c:\\users\\keerthana\\anaconda3\\new folder\\lib\\site-packages (from alibi-detect) (2.0.3)\n",
      "Requirement already satisfied: Pillow<10.0.0,>=5.4.1 in c:\\users\\keerthana\\anaconda3\\new folder\\lib\\site-packages (from alibi-detect) (8.4.0)\n",
      "Requirement already satisfied: cycler>=0.10 in c:\\users\\keerthana\\anaconda3\\new folder\\lib\\site-packages (from matplotlib<4.0.0,>=3.0.0->alibi-detect) (0.10.0)\n",
      "Requirement already satisfied: python-dateutil>=2.7 in c:\\users\\keerthana\\anaconda3\\new folder\\lib\\site-packages (from matplotlib<4.0.0,>=3.0.0->alibi-detect) (2.8.2)\n",
      "Requirement already satisfied: kiwisolver>=1.0.1 in c:\\users\\keerthana\\anaconda3\\new folder\\lib\\site-packages (from matplotlib<4.0.0,>=3.0.0->alibi-detect) (1.3.1)\n",
      "Requirement already satisfied: pyparsing>=2.2.1 in c:\\users\\keerthana\\anaconda3\\new folder\\lib\\site-packages (from matplotlib<4.0.0,>=3.0.0->alibi-detect) (3.0.4)\n",
      "Requirement already satisfied: six in c:\\users\\keerthana\\anaconda3\\new folder\\lib\\site-packages (from cycler>=0.10->matplotlib<4.0.0,>=3.0.0->alibi-detect) (1.16.0)\n",
      "Requirement already satisfied: setuptools in c:\\users\\keerthana\\anaconda3\\new folder\\lib\\site-packages (from numba!=0.54.0,<0.58.0,>=0.50.0->alibi-detect) (58.0.4)\n",
      "Collecting numpy<2.0.0,>=1.16.2\n",
      "  Using cached numpy-1.20.3-cp39-cp39-win_amd64.whl (13.7 MB)\n",
      "Requirement already satisfied: llvmlite<0.38,>=0.37.0rc1 in c:\\users\\keerthana\\anaconda3\\new folder\\lib\\site-packages (from numba!=0.54.0,<0.58.0,>=0.50.0->alibi-detect) (0.37.0)\n",
      "Requirement already satisfied: tzdata>=2022.1 in c:\\users\\keerthana\\anaconda3\\new folder\\lib\\site-packages (from pandas<3.0.0,>=1.0.0->alibi-detect) (2023.3)\n",
      "Requirement already satisfied: pytz>=2020.1 in c:\\users\\keerthana\\anaconda3\\new folder\\lib\\site-packages (from pandas<3.0.0,>=1.0.0->alibi-detect) (2021.3)\n",
      "Requirement already satisfied: idna<4,>=2.5 in c:\\users\\keerthana\\anaconda3\\new folder\\lib\\site-packages (from requests<3.0.0,>=2.21.0->alibi-detect) (3.2)\n",
      "Requirement already satisfied: charset-normalizer~=2.0.0 in c:\\users\\keerthana\\anaconda3\\new folder\\lib\\site-packages (from requests<3.0.0,>=2.21.0->alibi-detect) (2.0.4)\n",
      "Requirement already satisfied: certifi>=2017.4.17 in c:\\users\\keerthana\\anaconda3\\new folder\\lib\\site-packages (from requests<3.0.0,>=2.21.0->alibi-detect) (2021.10.8)\n",
      "Requirement already satisfied: urllib3<1.27,>=1.21.1 in c:\\users\\keerthana\\anaconda3\\new folder\\lib\\site-packages (from requests<3.0.0,>=2.21.0->alibi-detect) (1.26.16)\n",
      "Requirement already satisfied: networkx>=2.0 in c:\\users\\keerthana\\anaconda3\\new folder\\lib\\site-packages (from scikit-image!=0.17.1,<0.22,>=0.14.2->alibi-detect) (2.6.3)\n",
      "Requirement already satisfied: imageio>=2.3.0 in c:\\users\\keerthana\\anaconda3\\new folder\\lib\\site-packages (from scikit-image!=0.17.1,<0.22,>=0.14.2->alibi-detect) (2.9.0)\n",
      "Requirement already satisfied: tifffile>=2019.7.26 in c:\\users\\keerthana\\anaconda3\\new folder\\lib\\site-packages (from scikit-image!=0.17.1,<0.22,>=0.14.2->alibi-detect) (2021.7.2)\n",
      "Requirement already satisfied: PyWavelets>=1.1.1 in c:\\users\\keerthana\\anaconda3\\new folder\\lib\\site-packages (from scikit-image!=0.17.1,<0.22,>=0.14.2->alibi-detect) (1.1.1)\n",
      "Requirement already satisfied: threadpoolctl>=2.0.0 in c:\\users\\keerthana\\anaconda3\\new folder\\lib\\site-packages (from scikit-learn<2.0.0,>=0.20.2->alibi-detect) (2.2.0)\n",
      "Requirement already satisfied: joblib>=1.1.1 in c:\\users\\keerthana\\anaconda3\\new folder\\lib\\site-packages (from scikit-learn<2.0.0,>=0.20.2->alibi-detect) (1.3.2)\n",
      "Requirement already satisfied: colorama in c:\\users\\keerthana\\anaconda3\\new folder\\lib\\site-packages (from tqdm<5.0.0,>=4.28.1->alibi-detect) (0.4.6)\n",
      "Requirement already satisfied: tokenizers<0.15,>=0.14 in c:\\users\\keerthana\\appdata\\roaming\\python\\python39\\site-packages (from transformers<5.0.0,>=4.0.0->alibi-detect) (0.14.0)\n",
      "Requirement already satisfied: huggingface-hub<1.0,>=0.16.4 in c:\\users\\keerthana\\appdata\\roaming\\python\\python39\\site-packages (from transformers<5.0.0,>=4.0.0->alibi-detect) (0.16.4)\n",
      "Requirement already satisfied: filelock in c:\\users\\keerthana\\anaconda3\\new folder\\lib\\site-packages (from transformers<5.0.0,>=4.0.0->alibi-detect) (3.3.1)\n",
      "Requirement already satisfied: packaging>=20.0 in c:\\users\\keerthana\\anaconda3\\new folder\\lib\\site-packages (from transformers<5.0.0,>=4.0.0->alibi-detect) (21.0)\n",
      "Requirement already satisfied: regex!=2019.12.17 in c:\\users\\keerthana\\anaconda3\\new folder\\lib\\site-packages (from transformers<5.0.0,>=4.0.0->alibi-detect) (2021.8.3)\n",
      "Requirement already satisfied: safetensors>=0.3.1 in c:\\users\\keerthana\\appdata\\roaming\\python\\python39\\site-packages (from transformers<5.0.0,>=4.0.0->alibi-detect) (0.3.3)\n",
      "Requirement already satisfied: pyyaml>=5.1 in c:\\users\\keerthana\\anaconda3\\new folder\\lib\\site-packages (from transformers<5.0.0,>=4.0.0->alibi-detect) (6.0)\n",
      "Requirement already satisfied: fsspec in c:\\users\\keerthana\\anaconda3\\new folder\\lib\\site-packages (from huggingface-hub<1.0,>=0.16.4->transformers<5.0.0,>=4.0.0->alibi-detect) (2021.10.1)\n",
      "Installing collected packages: numpy\n",
      "  Attempting uninstall: numpy\n",
      "    Found existing installation: numpy 1.26.0\n",
      "    Uninstalling numpy-1.26.0:\n",
      "      Successfully uninstalled numpy-1.26.0\n",
      "Requirement already satisfied: pytorch_tabular[extra] in c:\\users\\keerthana\\anaconda3\\new folder\\lib\\site-packages (1.0.2)\n",
      "Requirement already satisfied: einops<0.7.0,>=0.6.0 in c:\\users\\keerthana\\anaconda3\\new folder\\lib\\site-packages (from pytorch_tabular[extra]) (0.6.1)\n",
      "Requirement already satisfied: tensorboard!=2.5.0,>2.2.0 in c:\\users\\keerthana\\anaconda3\\new folder\\lib\\site-packages (from pytorch_tabular[extra]) (2.14.1)\n",
      "Requirement already satisfied: rich>=11.0.0 in c:\\users\\keerthana\\anaconda3\\new folder\\lib\\site-packages (from pytorch_tabular[extra]) (13.6.0)\n",
      "Requirement already satisfied: omegaconf>=2.1.0 in c:\\users\\keerthana\\anaconda3\\new folder\\lib\\site-packages (from pytorch_tabular[extra]) (2.3.0)\n",
      "Requirement already satisfied: pytorch-tabnet==4.0 in c:\\users\\keerthana\\anaconda3\\new folder\\lib\\site-packages (from pytorch_tabular[extra]) (4.0)\n",
      "Requirement already satisfied: protobuf<4.23.0,>=3.20.0 in c:\\users\\keerthana\\anaconda3\\new folder\\lib\\site-packages (from pytorch_tabular[extra]) (4.22.5)\n",
      "Requirement already satisfied: PyYAML<6.1.0,>=5.4 in c:\\users\\keerthana\\anaconda3\\new folder\\lib\\site-packages (from pytorch_tabular[extra]) (6.0)\n",
      "Requirement already satisfied: torchmetrics<0.12.0,>=0.10.0 in c:\\users\\keerthana\\anaconda3\\new folder\\lib\\site-packages (from pytorch_tabular[extra]) (0.11.4)\n",
      "Requirement already satisfied: pytorch-lightning<2.0.0,>=1.8.0 in c:\\users\\keerthana\\anaconda3\\new folder\\lib\\site-packages (from pytorch_tabular[extra]) (1.9.5)\n",
      "Requirement already satisfied: numpy>=1.17.2 in c:\\users\\keerthana\\anaconda3\\new folder\\lib\\site-packages (from pytorch_tabular[extra]) (1.20.3)\n",
      "Requirement already satisfied: matplotlib>3.1 in c:\\users\\keerthana\\anaconda3\\new folder\\lib\\site-packages (from pytorch_tabular[extra]) (3.4.3)\n",
      "Requirement already satisfied: torch>=1.9.0 in c:\\users\\keerthana\\anaconda3\\new folder\\lib\\site-packages (from pytorch_tabular[extra]) (2.0.1)\n",
      "Requirement already satisfied: pandas>=1.1.5 in c:\\users\\keerthana\\anaconda3\\new folder\\lib\\site-packages (from pytorch_tabular[extra]) (2.0.3)\n",
      "Requirement already satisfied: category-encoders<2.7.0,>=2.6.0 in c:\\users\\keerthana\\anaconda3\\new folder\\lib\\site-packages (from pytorch_tabular[extra]) (2.6.2)\n",
      "Requirement already satisfied: scikit-learn>=1.0.0 in c:\\users\\keerthana\\anaconda3\\new folder\\lib\\site-packages (from pytorch_tabular[extra]) (1.3.1)\n",
      "Requirement already satisfied: ipywidgets in c:\\users\\keerthana\\anaconda3\\new folder\\lib\\site-packages (from pytorch_tabular[extra]) (7.6.5)\n",
      "Requirement already satisfied: wandb==0.13.* in c:\\users\\keerthana\\anaconda3\\new folder\\lib\\site-packages (from pytorch_tabular[extra]) (0.13.11)\n",
      "Requirement already satisfied: kaleido==0.2.* in c:\\users\\keerthana\\anaconda3\\new folder\\lib\\site-packages (from pytorch_tabular[extra]) (0.2.1)\n",
      "Requirement already satisfied: plotly<5.15.0,>=5.13.0 in c:\\users\\keerthana\\anaconda3\\new folder\\lib\\site-packages (from pytorch_tabular[extra]) (5.14.1)\n",
      "Collecting torch>=1.9.0\n",
      "  Using cached torch-1.13.1-cp39-cp39-win_amd64.whl (162.5 MB)\n",
      "Requirement already satisfied: scipy>1.4 in c:\\users\\keerthana\\anaconda3\\new folder\\lib\\site-packages (from pytorch-tabnet==4.0->pytorch_tabular[extra]) (1.10.1)\n",
      "Requirement already satisfied: tqdm<5.0,>=4.36 in c:\\users\\keerthana\\anaconda3\\new folder\\lib\\site-packages (from pytorch-tabnet==4.0->pytorch_tabular[extra]) (4.62.3)\n",
      "Requirement already satisfied: appdirs>=1.4.3 in c:\\users\\keerthana\\anaconda3\\new folder\\lib\\site-packages (from wandb==0.13.*->pytorch_tabular[extra]) (1.4.4)\n",
      "Requirement already satisfied: docker-pycreds>=0.4.0 in c:\\users\\keerthana\\anaconda3\\new folder\\lib\\site-packages (from wandb==0.13.*->pytorch_tabular[extra]) (0.4.0)\n",
      "Requirement already satisfied: setuptools in c:\\users\\keerthana\\anaconda3\\new folder\\lib\\site-packages (from wandb==0.13.*->pytorch_tabular[extra]) (58.0.4)\n",
      "Requirement already satisfied: requests<3,>=2.0.0 in c:\\users\\keerthana\\anaconda3\\new folder\\lib\\site-packages (from wandb==0.13.*->pytorch_tabular[extra]) (2.26.0)\n",
      "Requirement already satisfied: setproctitle in c:\\users\\keerthana\\anaconda3\\new folder\\lib\\site-packages (from wandb==0.13.*->pytorch_tabular[extra]) (1.3.2)\n",
      "Requirement already satisfied: sentry-sdk>=1.0.0 in c:\\users\\keerthana\\anaconda3\\new folder\\lib\\site-packages (from wandb==0.13.*->pytorch_tabular[extra]) (1.31.0)\n",
      "Requirement already satisfied: GitPython!=3.1.29,>=1.0.0 in c:\\users\\keerthana\\anaconda3\\new folder\\lib\\site-packages (from wandb==0.13.*->pytorch_tabular[extra]) (3.1.37)\n",
      "Requirement already satisfied: Click!=8.0.0,>=7.0 in c:\\users\\keerthana\\anaconda3\\new folder\\lib\\site-packages (from wandb==0.13.*->pytorch_tabular[extra]) (8.0.3)\n",
      "Requirement already satisfied: pathtools in c:\\users\\keerthana\\anaconda3\\new folder\\lib\\site-packages (from wandb==0.13.*->pytorch_tabular[extra]) (0.1.2)\n",
      "Requirement already satisfied: typing-extensions in c:\\users\\keerthana\\anaconda3\\new folder\\lib\\site-packages (from wandb==0.13.*->pytorch_tabular[extra]) (4.8.0)\n",
      "Requirement already satisfied: psutil>=5.0.0 in c:\\users\\keerthana\\anaconda3\\new folder\\lib\\site-packages (from wandb==0.13.*->pytorch_tabular[extra]) (5.8.0)\n",
      "Requirement already satisfied: patsy>=0.5.1 in c:\\users\\keerthana\\anaconda3\\new folder\\lib\\site-packages (from category-encoders<2.7.0,>=2.6.0->pytorch_tabular[extra]) (0.5.2)\n",
      "Requirement already satisfied: statsmodels>=0.9.0 in c:\\users\\keerthana\\anaconda3\\new folder\\lib\\site-packages (from category-encoders<2.7.0,>=2.6.0->pytorch_tabular[extra]) (0.12.2)\n",
      "Requirement already satisfied: colorama in c:\\users\\keerthana\\anaconda3\\new folder\\lib\\site-packages (from Click!=8.0.0,>=7.0->wandb==0.13.*->pytorch_tabular[extra]) (0.4.6)\n",
      "Requirement already satisfied: six>=1.4.0 in c:\\users\\keerthana\\anaconda3\\new folder\\lib\\site-packages (from docker-pycreds>=0.4.0->wandb==0.13.*->pytorch_tabular[extra]) (1.16.0)\n",
      "Requirement already satisfied: gitdb<5,>=4.0.1 in c:\\users\\keerthana\\anaconda3\\new folder\\lib\\site-packages (from GitPython!=3.1.29,>=1.0.0->wandb==0.13.*->pytorch_tabular[extra]) (4.0.10)\n",
      "Requirement already satisfied: smmap<6,>=3.0.1 in c:\\users\\keerthana\\anaconda3\\new folder\\lib\\site-packages (from gitdb<5,>=4.0.1->GitPython!=3.1.29,>=1.0.0->wandb==0.13.*->pytorch_tabular[extra]) (5.0.1)\n",
      "Requirement already satisfied: cycler>=0.10 in c:\\users\\keerthana\\anaconda3\\new folder\\lib\\site-packages (from matplotlib>3.1->pytorch_tabular[extra]) (0.10.0)\n",
      "Requirement already satisfied: python-dateutil>=2.7 in c:\\users\\keerthana\\anaconda3\\new folder\\lib\\site-packages (from matplotlib>3.1->pytorch_tabular[extra]) (2.8.2)\n",
      "Requirement already satisfied: pillow>=6.2.0 in c:\\users\\keerthana\\anaconda3\\new folder\\lib\\site-packages (from matplotlib>3.1->pytorch_tabular[extra]) (8.4.0)\n",
      "Requirement already satisfied: kiwisolver>=1.0.1 in c:\\users\\keerthana\\anaconda3\\new folder\\lib\\site-packages (from matplotlib>3.1->pytorch_tabular[extra]) (1.3.1)\n",
      "Requirement already satisfied: pyparsing>=2.2.1 in c:\\users\\keerthana\\anaconda3\\new folder\\lib\\site-packages (from matplotlib>3.1->pytorch_tabular[extra]) (3.0.4)\n",
      "Requirement already satisfied: antlr4-python3-runtime==4.9.* in c:\\users\\keerthana\\anaconda3\\new folder\\lib\\site-packages (from omegaconf>=2.1.0->pytorch_tabular[extra]) (4.9.3)\n",
      "Requirement already satisfied: pytz>=2020.1 in c:\\users\\keerthana\\anaconda3\\new folder\\lib\\site-packages (from pandas>=1.1.5->pytorch_tabular[extra]) (2021.3)\n",
      "Requirement already satisfied: tzdata>=2022.1 in c:\\users\\keerthana\\anaconda3\\new folder\\lib\\site-packages (from pandas>=1.1.5->pytorch_tabular[extra]) (2023.3)\n",
      "Requirement already satisfied: packaging in c:\\users\\keerthana\\anaconda3\\new folder\\lib\\site-packages (from plotly<5.15.0,>=5.13.0->pytorch_tabular[extra]) (21.0)\n",
      "Requirement already satisfied: tenacity>=6.2.0 in c:\\users\\keerthana\\anaconda3\\new folder\\lib\\site-packages (from plotly<5.15.0,>=5.13.0->pytorch_tabular[extra]) (8.2.3)\n",
      "Requirement already satisfied: lightning-utilities>=0.6.0.post0 in c:\\users\\keerthana\\anaconda3\\new folder\\lib\\site-packages (from pytorch-lightning<2.0.0,>=1.8.0->pytorch_tabular[extra]) (0.9.0)\n",
      "Requirement already satisfied: fsspec[http]>2021.06.0 in c:\\users\\keerthana\\anaconda3\\new folder\\lib\\site-packages (from pytorch-lightning<2.0.0,>=1.8.0->pytorch_tabular[extra]) (2021.10.1)\n",
      "Requirement already satisfied: aiohttp in c:\\users\\keerthana\\anaconda3\\new folder\\lib\\site-packages (from fsspec[http]>2021.06.0->pytorch-lightning<2.0.0,>=1.8.0->pytorch_tabular[extra]) (3.8.5)\n",
      "Requirement already satisfied: idna<4,>=2.5 in c:\\users\\keerthana\\anaconda3\\new folder\\lib\\site-packages (from requests<3,>=2.0.0->wandb==0.13.*->pytorch_tabular[extra]) (3.2)\n",
      "Requirement already satisfied: certifi>=2017.4.17 in c:\\users\\keerthana\\anaconda3\\new folder\\lib\\site-packages (from requests<3,>=2.0.0->wandb==0.13.*->pytorch_tabular[extra]) (2021.10.8)\n",
      "Requirement already satisfied: urllib3<1.27,>=1.21.1 in c:\\users\\keerthana\\anaconda3\\new folder\\lib\\site-packages (from requests<3,>=2.0.0->wandb==0.13.*->pytorch_tabular[extra]) (1.26.16)\n",
      "Requirement already satisfied: charset-normalizer~=2.0.0 in c:\\users\\keerthana\\anaconda3\\new folder\\lib\\site-packages (from requests<3,>=2.0.0->wandb==0.13.*->pytorch_tabular[extra]) (2.0.4)\n",
      "Requirement already satisfied: markdown-it-py>=2.2.0 in c:\\users\\keerthana\\anaconda3\\new folder\\lib\\site-packages (from rich>=11.0.0->pytorch_tabular[extra]) (3.0.0)\n",
      "Requirement already satisfied: pygments<3.0.0,>=2.13.0 in c:\\users\\keerthana\\anaconda3\\new folder\\lib\\site-packages (from rich>=11.0.0->pytorch_tabular[extra]) (2.16.1)\n",
      "Requirement already satisfied: mdurl~=0.1 in c:\\users\\keerthana\\anaconda3\\new folder\\lib\\site-packages (from markdown-it-py>=2.2.0->rich>=11.0.0->pytorch_tabular[extra]) (0.1.2)\n",
      "Requirement already satisfied: joblib>=1.1.1 in c:\\users\\keerthana\\anaconda3\\new folder\\lib\\site-packages (from scikit-learn>=1.0.0->pytorch_tabular[extra]) (1.3.2)\n",
      "Requirement already satisfied: threadpoolctl>=2.0.0 in c:\\users\\keerthana\\anaconda3\\new folder\\lib\\site-packages (from scikit-learn>=1.0.0->pytorch_tabular[extra]) (2.2.0)\n",
      "Requirement already satisfied: grpcio>=1.48.2 in c:\\users\\keerthana\\anaconda3\\new folder\\lib\\site-packages (from tensorboard!=2.5.0,>2.2.0->pytorch_tabular[extra]) (1.59.0)\n",
      "Requirement already satisfied: werkzeug>=1.0.1 in c:\\users\\keerthana\\anaconda3\\new folder\\lib\\site-packages (from tensorboard!=2.5.0,>2.2.0->pytorch_tabular[extra]) (2.0.2)\n",
      "Requirement already satisfied: markdown>=2.6.8 in c:\\users\\keerthana\\anaconda3\\new folder\\lib\\site-packages (from tensorboard!=2.5.0,>2.2.0->pytorch_tabular[extra]) (3.4.4)\n",
      "Requirement already satisfied: google-auth<3,>=1.6.3 in c:\\users\\keerthana\\anaconda3\\new folder\\lib\\site-packages (from tensorboard!=2.5.0,>2.2.0->pytorch_tabular[extra]) (2.23.2)\n",
      "Requirement already satisfied: google-auth-oauthlib<1.1,>=0.5 in c:\\users\\keerthana\\anaconda3\\new folder\\lib\\site-packages (from tensorboard!=2.5.0,>2.2.0->pytorch_tabular[extra]) (1.0.0)\n",
      "Requirement already satisfied: absl-py>=0.4 in c:\\users\\keerthana\\anaconda3\\new folder\\lib\\site-packages (from tensorboard!=2.5.0,>2.2.0->pytorch_tabular[extra]) (2.0.0)\n",
      "Requirement already satisfied: tensorboard-data-server<0.8.0,>=0.7.0 in c:\\users\\keerthana\\anaconda3\\new folder\\lib\\site-packages (from tensorboard!=2.5.0,>2.2.0->pytorch_tabular[extra]) (0.7.1)\n",
      "Requirement already satisfied: cachetools<6.0,>=2.0.0 in c:\\users\\keerthana\\anaconda3\\new folder\\lib\\site-packages (from google-auth<3,>=1.6.3->tensorboard!=2.5.0,>2.2.0->pytorch_tabular[extra]) (5.3.1)\n",
      "Requirement already satisfied: rsa<5,>=3.1.4 in c:\\users\\keerthana\\anaconda3\\new folder\\lib\\site-packages (from google-auth<3,>=1.6.3->tensorboard!=2.5.0,>2.2.0->pytorch_tabular[extra]) (4.9)\n",
      "Requirement already satisfied: pyasn1-modules>=0.2.1 in c:\\users\\keerthana\\anaconda3\\new folder\\lib\\site-packages (from google-auth<3,>=1.6.3->tensorboard!=2.5.0,>2.2.0->pytorch_tabular[extra]) (0.3.0)\n",
      "Requirement already satisfied: requests-oauthlib>=0.7.0 in c:\\users\\keerthana\\anaconda3\\new folder\\lib\\site-packages (from google-auth-oauthlib<1.1,>=0.5->tensorboard!=2.5.0,>2.2.0->pytorch_tabular[extra]) (1.3.1)\n",
      "Requirement already satisfied: importlib-metadata>=4.4 in c:\\users\\keerthana\\anaconda3\\new folder\\lib\\site-packages (from markdown>=2.6.8->tensorboard!=2.5.0,>2.2.0->pytorch_tabular[extra]) (4.8.1)\n",
      "Requirement already satisfied: zipp>=0.5 in c:\\users\\keerthana\\anaconda3\\new folder\\lib\\site-packages (from importlib-metadata>=4.4->markdown>=2.6.8->tensorboard!=2.5.0,>2.2.0->pytorch_tabular[extra]) (3.6.0)\n",
      "Requirement already satisfied: pyasn1<0.6.0,>=0.4.6 in c:\\users\\keerthana\\anaconda3\\new folder\\lib\\site-packages (from pyasn1-modules>=0.2.1->google-auth<3,>=1.6.3->tensorboard!=2.5.0,>2.2.0->pytorch_tabular[extra]) (0.5.0)\n",
      "Requirement already satisfied: oauthlib>=3.0.0 in c:\\users\\keerthana\\anaconda3\\new folder\\lib\\site-packages (from requests-oauthlib>=0.7.0->google-auth-oauthlib<1.1,>=0.5->tensorboard!=2.5.0,>2.2.0->pytorch_tabular[extra]) (3.2.2)\n",
      "Requirement already satisfied: aiosignal>=1.1.2 in c:\\users\\keerthana\\anaconda3\\new folder\\lib\\site-packages (from aiohttp->fsspec[http]>2021.06.0->pytorch-lightning<2.0.0,>=1.8.0->pytorch_tabular[extra]) (1.3.1)\n",
      "Requirement already satisfied: async-timeout<5.0,>=4.0.0a3 in c:\\users\\keerthana\\anaconda3\\new folder\\lib\\site-packages (from aiohttp->fsspec[http]>2021.06.0->pytorch-lightning<2.0.0,>=1.8.0->pytorch_tabular[extra]) (4.0.3)\n",
      "Requirement already satisfied: yarl<2.0,>=1.0 in c:\\users\\keerthana\\anaconda3\\new folder\\lib\\site-packages (from aiohttp->fsspec[http]>2021.06.0->pytorch-lightning<2.0.0,>=1.8.0->pytorch_tabular[extra]) (1.9.2)\n",
      "Requirement already satisfied: frozenlist>=1.1.1 in c:\\users\\keerthana\\anaconda3\\new folder\\lib\\site-packages (from aiohttp->fsspec[http]>2021.06.0->pytorch-lightning<2.0.0,>=1.8.0->pytorch_tabular[extra]) (1.4.0)\n",
      "Requirement already satisfied: attrs>=17.3.0 in c:\\users\\keerthana\\anaconda3\\new folder\\lib\\site-packages (from aiohttp->fsspec[http]>2021.06.0->pytorch-lightning<2.0.0,>=1.8.0->pytorch_tabular[extra]) (21.2.0)\n",
      "Requirement already satisfied: multidict<7.0,>=4.5 in c:\\users\\keerthana\\anaconda3\\new folder\\lib\\site-packages (from aiohttp->fsspec[http]>2021.06.0->pytorch-lightning<2.0.0,>=1.8.0->pytorch_tabular[extra]) (6.0.4)\n",
      "Requirement already satisfied: jupyterlab-widgets>=1.0.0 in c:\\users\\keerthana\\anaconda3\\new folder\\lib\\site-packages (from ipywidgets->pytorch_tabular[extra]) (1.0.0)\n",
      "Requirement already satisfied: traitlets>=4.3.1 in c:\\users\\keerthana\\anaconda3\\new folder\\lib\\site-packages (from ipywidgets->pytorch_tabular[extra]) (5.1.0)\n",
      "Requirement already satisfied: nbformat>=4.2.0 in c:\\users\\keerthana\\anaconda3\\new folder\\lib\\site-packages (from ipywidgets->pytorch_tabular[extra]) (5.1.3)\n",
      "Requirement already satisfied: ipython>=4.0.0 in c:\\users\\keerthana\\anaconda3\\new folder\\lib\\site-packages (from ipywidgets->pytorch_tabular[extra]) (7.29.0)\n",
      "Requirement already satisfied: ipykernel>=4.5.1 in c:\\users\\keerthana\\anaconda3\\new folder\\lib\\site-packages (from ipywidgets->pytorch_tabular[extra]) (6.4.1)\n",
      "Requirement already satisfied: widgetsnbextension~=3.5.0 in c:\\users\\keerthana\\anaconda3\\new folder\\lib\\site-packages (from ipywidgets->pytorch_tabular[extra]) (3.5.1)\n",
      "Requirement already satisfied: ipython-genutils~=0.2.0 in c:\\users\\keerthana\\anaconda3\\new folder\\lib\\site-packages (from ipywidgets->pytorch_tabular[extra]) (0.2.0)\n",
      "Requirement already satisfied: debugpy<2.0,>=1.0.0 in c:\\users\\keerthana\\anaconda3\\new folder\\lib\\site-packages (from ipykernel>=4.5.1->ipywidgets->pytorch_tabular[extra]) (1.4.1)\n",
      "Requirement already satisfied: matplotlib-inline<0.2.0,>=0.1.0 in c:\\users\\keerthana\\anaconda3\\new folder\\lib\\site-packages (from ipykernel>=4.5.1->ipywidgets->pytorch_tabular[extra]) (0.1.2)\n",
      "Requirement already satisfied: tornado<7.0,>=4.2 in c:\\users\\keerthana\\anaconda3\\new folder\\lib\\site-packages (from ipykernel>=4.5.1->ipywidgets->pytorch_tabular[extra]) (6.1)\n",
      "Requirement already satisfied: jupyter-client<8.0 in c:\\users\\keerthana\\anaconda3\\new folder\\lib\\site-packages (from ipykernel>=4.5.1->ipywidgets->pytorch_tabular[extra]) (6.1.12)\n",
      "Requirement already satisfied: prompt-toolkit!=3.0.0,!=3.0.1,<3.1.0,>=2.0.0 in c:\\users\\keerthana\\anaconda3\\new folder\\lib\\site-packages (from ipython>=4.0.0->ipywidgets->pytorch_tabular[extra]) (3.0.20)\n",
      "Requirement already satisfied: decorator in c:\\users\\keerthana\\anaconda3\\new folder\\lib\\site-packages (from ipython>=4.0.0->ipywidgets->pytorch_tabular[extra]) (5.1.0)\n",
      "Requirement already satisfied: jedi>=0.16 in c:\\users\\keerthana\\anaconda3\\new folder\\lib\\site-packages (from ipython>=4.0.0->ipywidgets->pytorch_tabular[extra]) (0.18.0)\n",
      "Requirement already satisfied: backcall in c:\\users\\keerthana\\anaconda3\\new folder\\lib\\site-packages (from ipython>=4.0.0->ipywidgets->pytorch_tabular[extra]) (0.2.0)\n",
      "Requirement already satisfied: pickleshare in c:\\users\\keerthana\\anaconda3\\new folder\\lib\\site-packages (from ipython>=4.0.0->ipywidgets->pytorch_tabular[extra]) (0.7.5)\n",
      "Requirement already satisfied: parso<0.9.0,>=0.8.0 in c:\\users\\keerthana\\anaconda3\\new folder\\lib\\site-packages (from jedi>=0.16->ipython>=4.0.0->ipywidgets->pytorch_tabular[extra]) (0.8.2)\n",
      "Requirement already satisfied: pyzmq>=13 in c:\\users\\keerthana\\anaconda3\\new folder\\lib\\site-packages (from jupyter-client<8.0->ipykernel>=4.5.1->ipywidgets->pytorch_tabular[extra]) (22.2.1)\n",
      "Requirement already satisfied: jupyter-core>=4.6.0 in c:\\users\\keerthana\\anaconda3\\new folder\\lib\\site-packages (from jupyter-client<8.0->ipykernel>=4.5.1->ipywidgets->pytorch_tabular[extra]) (4.8.1)\n",
      "Requirement already satisfied: pywin32>=1.0 in c:\\users\\keerthana\\anaconda3\\new folder\\lib\\site-packages (from jupyter-core>=4.6.0->jupyter-client<8.0->ipykernel>=4.5.1->ipywidgets->pytorch_tabular[extra]) (228)\n",
      "Requirement already satisfied: jsonschema!=2.5.0,>=2.4 in c:\\users\\keerthana\\anaconda3\\new folder\\lib\\site-packages (from nbformat>=4.2.0->ipywidgets->pytorch_tabular[extra]) (3.2.0)\n",
      "Requirement already satisfied: pyrsistent>=0.14.0 in c:\\users\\keerthana\\anaconda3\\new folder\\lib\\site-packages (from jsonschema!=2.5.0,>=2.4->nbformat>=4.2.0->ipywidgets->pytorch_tabular[extra]) (0.18.0)\n",
      "Requirement already satisfied: wcwidth in c:\\users\\keerthana\\anaconda3\\new folder\\lib\\site-packages (from prompt-toolkit!=3.0.0,!=3.0.1,<3.1.0,>=2.0.0->ipython>=4.0.0->ipywidgets->pytorch_tabular[extra]) (0.2.5)\n",
      "Requirement already satisfied: notebook>=4.4.1 in c:\\users\\keerthana\\anaconda3\\new folder\\lib\\site-packages (from widgetsnbextension~=3.5.0->ipywidgets->pytorch_tabular[extra]) (6.4.5)\n",
      "Requirement already satisfied: nbconvert in c:\\users\\keerthana\\anaconda3\\new folder\\lib\\site-packages (from notebook>=4.4.1->widgetsnbextension~=3.5.0->ipywidgets->pytorch_tabular[extra]) (6.1.0)\n",
      "Requirement already satisfied: terminado>=0.8.3 in c:\\users\\keerthana\\anaconda3\\new folder\\lib\\site-packages (from notebook>=4.4.1->widgetsnbextension~=3.5.0->ipywidgets->pytorch_tabular[extra]) (0.9.4)\n",
      "Requirement already satisfied: jinja2 in c:\\users\\keerthana\\anaconda3\\new folder\\lib\\site-packages (from notebook>=4.4.1->widgetsnbextension~=3.5.0->ipywidgets->pytorch_tabular[extra]) (2.11.3)\n",
      "Requirement already satisfied: argon2-cffi in c:\\users\\keerthana\\anaconda3\\new folder\\lib\\site-packages (from notebook>=4.4.1->widgetsnbextension~=3.5.0->ipywidgets->pytorch_tabular[extra]) (20.1.0)\n",
      "Requirement already satisfied: prometheus-client in c:\\users\\keerthana\\anaconda3\\new folder\\lib\\site-packages (from notebook>=4.4.1->widgetsnbextension~=3.5.0->ipywidgets->pytorch_tabular[extra]) (0.11.0)\n",
      "Requirement already satisfied: Send2Trash>=1.5.0 in c:\\users\\keerthana\\anaconda3\\new folder\\lib\\site-packages (from notebook>=4.4.1->widgetsnbextension~=3.5.0->ipywidgets->pytorch_tabular[extra]) (1.8.0)\n",
      "Requirement already satisfied: pywinpty>=0.5 in c:\\users\\keerthana\\anaconda3\\new folder\\lib\\site-packages (from terminado>=0.8.3->notebook>=4.4.1->widgetsnbextension~=3.5.0->ipywidgets->pytorch_tabular[extra]) (0.5.7)\n",
      "Requirement already satisfied: cffi>=1.0.0 in c:\\users\\keerthana\\anaconda3\\new folder\\lib\\site-packages (from argon2-cffi->notebook>=4.4.1->widgetsnbextension~=3.5.0->ipywidgets->pytorch_tabular[extra]) (1.14.6)\n",
      "Requirement already satisfied: pycparser in c:\\users\\keerthana\\anaconda3\\new folder\\lib\\site-packages (from cffi>=1.0.0->argon2-cffi->notebook>=4.4.1->widgetsnbextension~=3.5.0->ipywidgets->pytorch_tabular[extra]) (2.20)\n",
      "Requirement already satisfied: MarkupSafe>=0.23 in c:\\users\\keerthana\\anaconda3\\new folder\\lib\\site-packages (from jinja2->notebook>=4.4.1->widgetsnbextension~=3.5.0->ipywidgets->pytorch_tabular[extra]) (1.1.1)\n",
      "Requirement already satisfied: testpath in c:\\users\\keerthana\\anaconda3\\new folder\\lib\\site-packages (from nbconvert->notebook>=4.4.1->widgetsnbextension~=3.5.0->ipywidgets->pytorch_tabular[extra]) (0.5.0)\n",
      "Requirement already satisfied: nbclient<0.6.0,>=0.5.0 in c:\\users\\keerthana\\anaconda3\\new folder\\lib\\site-packages (from nbconvert->notebook>=4.4.1->widgetsnbextension~=3.5.0->ipywidgets->pytorch_tabular[extra]) (0.5.3)\n",
      "Requirement already satisfied: defusedxml in c:\\users\\keerthana\\anaconda3\\new folder\\lib\\site-packages (from nbconvert->notebook>=4.4.1->widgetsnbextension~=3.5.0->ipywidgets->pytorch_tabular[extra]) (0.7.1)\n",
      "Requirement already satisfied: pandocfilters>=1.4.1 in c:\\users\\keerthana\\anaconda3\\new folder\\lib\\site-packages (from nbconvert->notebook>=4.4.1->widgetsnbextension~=3.5.0->ipywidgets->pytorch_tabular[extra]) (1.4.3)\n",
      "Requirement already satisfied: entrypoints>=0.2.2 in c:\\users\\keerthana\\anaconda3\\new folder\\lib\\site-packages (from nbconvert->notebook>=4.4.1->widgetsnbextension~=3.5.0->ipywidgets->pytorch_tabular[extra]) (0.3)\n",
      "Requirement already satisfied: bleach in c:\\users\\keerthana\\anaconda3\\new folder\\lib\\site-packages (from nbconvert->notebook>=4.4.1->widgetsnbextension~=3.5.0->ipywidgets->pytorch_tabular[extra]) (4.0.0)\n",
      "Requirement already satisfied: mistune<2,>=0.8.1 in c:\\users\\keerthana\\anaconda3\\new folder\\lib\\site-packages (from nbconvert->notebook>=4.4.1->widgetsnbextension~=3.5.0->ipywidgets->pytorch_tabular[extra]) (0.8.4)\n",
      "Requirement already satisfied: jupyterlab-pygments in c:\\users\\keerthana\\anaconda3\\new folder\\lib\\site-packages (from nbconvert->notebook>=4.4.1->widgetsnbextension~=3.5.0->ipywidgets->pytorch_tabular[extra]) (0.1.2)\n",
      "Requirement already satisfied: async-generator in c:\\users\\keerthana\\anaconda3\\new folder\\lib\\site-packages (from nbclient<0.6.0,>=0.5.0->nbconvert->notebook>=4.4.1->widgetsnbextension~=3.5.0->ipywidgets->pytorch_tabular[extra]) (1.10)\n",
      "Requirement already satisfied: nest-asyncio in c:\\users\\keerthana\\anaconda3\\new folder\\lib\\site-packages (from nbclient<0.6.0,>=0.5.0->nbconvert->notebook>=4.4.1->widgetsnbextension~=3.5.0->ipywidgets->pytorch_tabular[extra]) (1.5.1)\n",
      "Requirement already satisfied: webencodings in c:\\users\\keerthana\\anaconda3\\new folder\\lib\\site-packages (from bleach->nbconvert->notebook>=4.4.1->widgetsnbextension~=3.5.0->ipywidgets->pytorch_tabular[extra]) (0.5.1)\n",
      "Installing collected packages: torch\n",
      "  Attempting uninstall: torch\n",
      "    Found existing installation: torch 2.0.1\n",
      "    Uninstalling torch-2.0.1:\n",
      "      Successfully uninstalled torch-2.0.1\n"
     ]
    },
    {
     "name": "stderr",
     "output_type": "stream",
     "text": [
      "ERROR: Could not install packages due to an OSError: [WinError 5] Access is denied: 'C:\\\\Users\\\\Keerthana\\\\anaconda3\\\\New folder\\\\Lib\\\\site-packages\\\\~8rch\\\\lib\\\\asmjit.dll'\n",
      "Consider using the `--user` option or check the permissions.\n",
      "\n"
     ]
    }
   ],
   "source": [
    "!pip install alibi-detect\n",
    "!pip install -U pytorch_tabular[extra]"
   ]
  },
  {
   "cell_type": "code",
   "execution_count": 2,
   "metadata": {
    "id": "E7dD3Ihi4GF9"
   },
   "outputs": [
    {
     "name": "stderr",
     "output_type": "stream",
     "text": [
      "C:\\Users\\Keerthana\\anaconda3\\New folder\\lib\\site-packages\\torchvision\\io\\image.py:13: UserWarning: Failed to load image Python extension: '[WinError 127] The specified procedure could not be found'If you don't plan on using image functionality from `torchvision.io`, you can ignore this warning. Otherwise, there might be something wrong with your environment. Did you have `libjpeg` or `libpng` installed before building `torchvision` from source?\n",
      "  warn(\n"
     ]
    }
   ],
   "source": [
    "SEED = 42\n",
    "\n",
    "import os\n",
    "\n",
    "import random\n",
    "random.seed(SEED)\n",
    "\n",
    "import numpy as np\n",
    "np.random.seed(SEED)\n",
    "\n",
    "import pandas as pd\n",
    "\n",
    "from alibi_detect.cd import TabularDrift\n",
    "from pytorch_tabular import TabularModel\n",
    "from pytorch_tabular.models import CategoryEmbeddingModelConfig\n",
    "from pytorch_tabular.config import (\n",
    "    DataConfig,\n",
    "    OptimizerConfig,\n",
    "    TrainerConfig,\n",
    ")\n",
    "\n",
    "from sklearn.metrics import mean_squared_error, r2_score\n",
    "import math"
   ]
  },
  {
   "cell_type": "markdown",
   "metadata": {
    "id": "xJjXNMOqcHVJ"
   },
   "source": [
    "> Evaluate your model from B1 on data from year 2022 and report the test R2."
   ]
  },
  {
   "cell_type": "code",
   "execution_count": 3,
   "metadata": {},
   "outputs": [
    {
     "name": "stderr",
     "output_type": "stream",
     "text": [
      "2023-10-13 18:53:02,825 - {pytorch_tabular.tabular_model:105} - INFO - Experiment Tracking is turned off\n",
      "Global seed set to 42\n",
      "2023-10-13 18:53:02,861 - {pytorch_tabular.tabular_model:473} - INFO - Preparing the DataLoaders\n",
      "2023-10-13 18:53:02,865 - {pytorch_tabular.tabular_datamodule:290} - INFO - Setting up the datamodule for regression task\n",
      "2023-10-13 18:53:02,951 - {pytorch_tabular.tabular_model:521} - INFO - Preparing the Model: CategoryEmbeddingModel\n",
      "2023-10-13 18:53:03,026 - {pytorch_tabular.tabular_model:268} - INFO - Preparing the Trainer\n",
      "C:\\Users\\Keerthana\\anaconda3\\New folder\\lib\\site-packages\\pytorch_lightning\\trainer\\connectors\\accelerator_connector.py:589: LightningDeprecationWarning: The Trainer argument `auto_select_gpus` has been deprecated in v1.9.0 and will be removed in v2.0.0. Please use the function `pytorch_lightning.accelerators.find_usable_cuda_devices` instead.\n",
      "  rank_zero_deprecation(\n",
      "GPU available: False, used: False\n",
      "TPU available: False, using: 0 TPU cores\n",
      "IPU available: False, using: 0 IPUs\n",
      "HPU available: False, using: 0 HPUs\n",
      "2023-10-13 18:53:03,260 - {pytorch_tabular.tabular_model:573} - INFO - Auto LR Find Started\n",
      "C:\\Users\\Keerthana\\anaconda3\\New folder\\lib\\site-packages\\pytorch_lightning\\callbacks\\model_checkpoint.py:613: UserWarning: Checkpoint directory C:\\Users\\Keerthana\\SC4001 Assignment 1\\saved_models exists and is not empty.\n",
      "  rank_zero_warn(f\"Checkpoint directory {dirpath} exists and is not empty.\")\n",
      "C:\\Users\\Keerthana\\anaconda3\\New folder\\lib\\site-packages\\pytorch_lightning\\trainer\\connectors\\data_connector.py:224: PossibleUserWarning: The dataloader, train_dataloader, does not have many workers which may be a bottleneck. Consider increasing the value of the `num_workers` argument` (try 8 which is the number of cpus on this machine) in the `DataLoader` init to improve performance.\n",
      "  rank_zero_warn(\n",
      "C:\\Users\\Keerthana\\anaconda3\\New folder\\lib\\site-packages\\pytorch_lightning\\trainer\\connectors\\data_connector.py:224: PossibleUserWarning: The dataloader, val_dataloader 0, does not have many workers which may be a bottleneck. Consider increasing the value of the `num_workers` argument` (try 8 which is the number of cpus on this machine) in the `DataLoader` init to improve performance.\n",
      "  rank_zero_warn(\n",
      "C:\\Users\\Keerthana\\anaconda3\\New folder\\lib\\site-packages\\pytorch_lightning\\core\\module.py:493: UserWarning: You called `self.log('valid_loss', ..., logger=True)` but have no logger configured. You can enable one by doing `Trainer(logger=ALogger(...))`\n",
      "  rank_zero_warn(\n",
      "C:\\Users\\Keerthana\\anaconda3\\New folder\\lib\\site-packages\\pytorch_lightning\\core\\module.py:493: UserWarning: You called `self.log('valid_mean_squared_error', ..., logger=True)` but have no logger configured. You can enable one by doing `Trainer(logger=ALogger(...))`\n",
      "  rank_zero_warn(\n"
     ]
    },
    {
     "data": {
      "application/vnd.jupyter.widget-view+json": {
       "model_id": "3484adf602d94b1b9da7622372943b9e",
       "version_major": 2,
       "version_minor": 0
      },
      "text/plain": [
       "Finding best initial lr:   0%|          | 0/100 [00:00<?, ?it/s]"
      ]
     },
     "metadata": {},
     "output_type": "display_data"
    },
    {
     "name": "stderr",
     "output_type": "stream",
     "text": [
      "C:\\Users\\Keerthana\\anaconda3\\New folder\\lib\\site-packages\\pytorch_lightning\\core\\module.py:493: UserWarning: You called `self.log('train_loss', ..., logger=True)` but have no logger configured. You can enable one by doing `Trainer(logger=ALogger(...))`\n",
      "  rank_zero_warn(\n",
      "C:\\Users\\Keerthana\\anaconda3\\New folder\\lib\\site-packages\\pytorch_lightning\\core\\module.py:493: UserWarning: You called `self.log('train_mean_squared_error', ..., logger=True)` but have no logger configured. You can enable one by doing `Trainer(logger=ALogger(...))`\n",
      "  rank_zero_warn(\n",
      "`Trainer.fit` stopped: `max_steps=100` reached.\n",
      "Learning rate set to 0.5754399373371567\n",
      "Restoring states from the checkpoint path at C:\\Users\\Keerthana\\SC4001 Assignment 1\\.lr_find_258c0506-ba72-459f-95fa-bb42fdec384f.ckpt\n",
      "Restored all states from the checkpoint file at C:\\Users\\Keerthana\\SC4001 Assignment 1\\.lr_find_258c0506-ba72-459f-95fa-bb42fdec384f.ckpt\n",
      "2023-10-13 18:53:06,830 - {pytorch_tabular.tabular_model:575} - INFO - Suggested LR: 0.5754399373371567. For plot and detailed analysis, use `find_learning_rate` method.\n",
      "2023-10-13 18:53:06,831 - {pytorch_tabular.tabular_model:582} - INFO - Training Started\n"
     ]
    },
    {
     "data": {
      "text/html": [
       "<pre style=\"white-space:pre;overflow-x:auto;line-height:normal;font-family:Menlo,'DejaVu Sans Mono',consolas,'Courier New',monospace\">┏━━━┳━━━━━━━━━━━━━━━━━━┳━━━━━━━━━━━━━━━━━━━━━━━━━━━┳━━━━━━━━┓\n",
       "┃<span style=\"color: #800080; text-decoration-color: #800080; font-weight: bold\">   </span>┃<span style=\"color: #800080; text-decoration-color: #800080; font-weight: bold\"> Name             </span>┃<span style=\"color: #800080; text-decoration-color: #800080; font-weight: bold\"> Type                      </span>┃<span style=\"color: #800080; text-decoration-color: #800080; font-weight: bold\"> Params </span>┃\n",
       "┡━━━╇━━━━━━━━━━━━━━━━━━╇━━━━━━━━━━━━━━━━━━━━━━━━━━━╇━━━━━━━━┩\n",
       "│<span style=\"color: #7f7f7f; text-decoration-color: #7f7f7f\"> 0 </span>│ _backbone        │ CategoryEmbeddingBackbone │  2.9 K │\n",
       "│<span style=\"color: #7f7f7f; text-decoration-color: #7f7f7f\"> 1 </span>│ _embedding_layer │ Embedding1dLayer          │  1.5 K │\n",
       "│<span style=\"color: #7f7f7f; text-decoration-color: #7f7f7f\"> 2 </span>│ head             │ LinearHead                │     51 │\n",
       "│<span style=\"color: #7f7f7f; text-decoration-color: #7f7f7f\"> 3 </span>│ loss             │ MSELoss                   │      0 │\n",
       "└───┴──────────────────┴───────────────────────────┴────────┘\n",
       "</pre>\n"
      ],
      "text/plain": [
       "┏━━━┳━━━━━━━━━━━━━━━━━━┳━━━━━━━━━━━━━━━━━━━━━━━━━━━┳━━━━━━━━┓\n",
       "┃\u001b[1;35m \u001b[0m\u001b[1;35m \u001b[0m\u001b[1;35m \u001b[0m┃\u001b[1;35m \u001b[0m\u001b[1;35mName            \u001b[0m\u001b[1;35m \u001b[0m┃\u001b[1;35m \u001b[0m\u001b[1;35mType                     \u001b[0m\u001b[1;35m \u001b[0m┃\u001b[1;35m \u001b[0m\u001b[1;35mParams\u001b[0m\u001b[1;35m \u001b[0m┃\n",
       "┡━━━╇━━━━━━━━━━━━━━━━━━╇━━━━━━━━━━━━━━━━━━━━━━━━━━━╇━━━━━━━━┩\n",
       "│\u001b[2m \u001b[0m\u001b[2m0\u001b[0m\u001b[2m \u001b[0m│ _backbone        │ CategoryEmbeddingBackbone │  2.9 K │\n",
       "│\u001b[2m \u001b[0m\u001b[2m1\u001b[0m\u001b[2m \u001b[0m│ _embedding_layer │ Embedding1dLayer          │  1.5 K │\n",
       "│\u001b[2m \u001b[0m\u001b[2m2\u001b[0m\u001b[2m \u001b[0m│ head             │ LinearHead                │     51 │\n",
       "│\u001b[2m \u001b[0m\u001b[2m3\u001b[0m\u001b[2m \u001b[0m│ loss             │ MSELoss                   │      0 │\n",
       "└───┴──────────────────┴───────────────────────────┴────────┘\n"
      ]
     },
     "metadata": {},
     "output_type": "display_data"
    },
    {
     "data": {
      "text/html": [
       "<pre style=\"white-space:pre;overflow-x:auto;line-height:normal;font-family:Menlo,'DejaVu Sans Mono',consolas,'Courier New',monospace\"><span style=\"font-weight: bold\">Trainable params</span>: 4.5 K                                                                                            \n",
       "<span style=\"font-weight: bold\">Non-trainable params</span>: 0                                                                                            \n",
       "<span style=\"font-weight: bold\">Total params</span>: 4.5 K                                                                                                \n",
       "<span style=\"font-weight: bold\">Total estimated model params size (MB)</span>: 0                                                                          \n",
       "</pre>\n"
      ],
      "text/plain": [
       "\u001b[1mTrainable params\u001b[0m: 4.5 K                                                                                            \n",
       "\u001b[1mNon-trainable params\u001b[0m: 0                                                                                            \n",
       "\u001b[1mTotal params\u001b[0m: 4.5 K                                                                                                \n",
       "\u001b[1mTotal estimated model params size (MB)\u001b[0m: 0                                                                          \n"
      ]
     },
     "metadata": {},
     "output_type": "display_data"
    },
    {
     "data": {
      "application/vnd.jupyter.widget-view+json": {
       "model_id": "db457c6240b647698a242b659e6dd3af",
       "version_major": 2,
       "version_minor": 0
      },
      "text/plain": [
       "Output()"
      ]
     },
     "metadata": {},
     "output_type": "display_data"
    },
    {
     "data": {
      "text/html": [
       "<pre style=\"white-space:pre;overflow-x:auto;line-height:normal;font-family:Menlo,'DejaVu Sans Mono',consolas,'Courier New',monospace\"></pre>\n"
      ],
      "text/plain": []
     },
     "metadata": {},
     "output_type": "display_data"
    },
    {
     "data": {
      "text/html": [
       "<pre style=\"white-space:pre;overflow-x:auto;line-height:normal;font-family:Menlo,'DejaVu Sans Mono',consolas,'Courier New',monospace\">\n",
       "</pre>\n"
      ],
      "text/plain": [
       "\n"
      ]
     },
     "metadata": {},
     "output_type": "display_data"
    },
    {
     "name": "stderr",
     "output_type": "stream",
     "text": [
      "2023-10-13 18:53:42,558 - {pytorch_tabular.tabular_model:584} - INFO - Training the model completed\n",
      "2023-10-13 18:53:42,559 - {pytorch_tabular.tabular_model:1258} - INFO - Loading the best model\n"
     ]
    },
    {
     "data": {
      "application/vnd.jupyter.widget-view+json": {
       "model_id": "f7b6dce7e89641e786fb7a26ccc3dc63",
       "version_major": 2,
       "version_minor": 0
      },
      "text/plain": [
       "Output()"
      ]
     },
     "metadata": {},
     "output_type": "display_data"
    },
    {
     "name": "stderr",
     "output_type": "stream",
     "text": [
      "C:\\Users\\Keerthana\\anaconda3\\New folder\\lib\\site-packages\\pytorch_lightning\\utilities\\cloud_io.py:33: LightningDeprecationWarning: `pytorch_lightning.utilities.cloud_io.get_filesystem` has been deprecated in v1.8.0 and will be removed in v2.0.0. Please use `lightning_fabric.utilities.cloud_io.get_filesystem` instead.\n",
      "  rank_zero_deprecation(\n"
     ]
    },
    {
     "data": {
      "text/html": [
       "<pre style=\"white-space:pre;overflow-x:auto;line-height:normal;font-family:Menlo,'DejaVu Sans Mono',consolas,'Courier New',monospace\"></pre>\n"
      ],
      "text/plain": []
     },
     "metadata": {},
     "output_type": "display_data"
    },
    {
     "data": {
      "text/html": [
       "<pre style=\"white-space:pre;overflow-x:auto;line-height:normal;font-family:Menlo,'DejaVu Sans Mono',consolas,'Courier New',monospace\">\n",
       "</pre>\n"
      ],
      "text/plain": [
       "\n"
      ]
     },
     "metadata": {},
     "output_type": "display_data"
    },
    {
     "name": "stdout",
     "output_type": "stream",
     "text": [
      "Test R2 (2022): 0.45\n"
     ]
    }
   ],
   "source": [
    "# Load the data\n",
    "df = pd.read_csv('hdb_price_prediction.csv')\n",
    "\n",
    "\n",
    "train_data = df[df['year'] <= 2019]\n",
    "test_data_2022 = df[df['year'] == 2022]\n",
    "\n",
    "target = ['resale_price']\n",
    "continuous_features = ['dist_to_nearest_stn', 'dist_to_dhoby', 'degree_centrality', \n",
    "                       'eigenvector_centrality', 'remaining_lease_years', 'floor_area_sqm']\n",
    "categorical_features = ['month', 'town', 'flat_model_type', 'storey_range']\n",
    "\n",
    "data_config = DataConfig(\n",
    "    target=['resale_price'], \n",
    "    continuous_cols=continuous_features, \n",
    "    categorical_cols=categorical_features\n",
    ")\n",
    "\n",
    "trainer_config = TrainerConfig(\n",
    "    auto_lr_find=True,\n",
    "    max_epochs=50,\n",
    "    batch_size=1024\n",
    ")\n",
    "\n",
    "model_config = CategoryEmbeddingModelConfig(\n",
    "    task=\"regression\",\n",
    "    layers=\"50\", \n",
    "    activation=\"ReLU\",\n",
    "    learning_rate=0.001\n",
    ")\n",
    "\n",
    "optimizer_config = OptimizerConfig(optimizer=\"Adam\")\n",
    "\n",
    "model = TabularModel(\n",
    "    data_config=data_config,\n",
    "    model_config=model_config,\n",
    "    optimizer_config=optimizer_config,\n",
    "    trainer_config=trainer_config\n",
    ")\n",
    "\n",
    "model.fit(train=train_data)\n",
    "\n",
    "predictions_2022 = model.predict(test_data_2022)\n",
    "predictions_array_2022 = predictions_2022['resale_price_prediction'].values\n",
    "test_r2_2022 = r2_score(test_data_2022['resale_price'], predictions_array_2022)\n",
    "print(f\"Test R2 (2022): {test_r2_2022:.2f}\")"
   ]
  },
  {
   "cell_type": "markdown",
   "metadata": {
    "id": "Gsbs0iMiaUy-"
   },
   "source": [
    "> Evaluate your model from B1 on data from year 2023 and report the test R2."
   ]
  },
  {
   "cell_type": "code",
   "execution_count": 4,
   "metadata": {
    "id": "B4FLRQfBaRS-"
   },
   "outputs": [
    {
     "name": "stderr",
     "output_type": "stream",
     "text": [
      "2023-10-13 18:53:44,059 - {pytorch_tabular.tabular_model:105} - INFO - Experiment Tracking is turned off\n",
      "Global seed set to 42\n",
      "2023-10-13 18:53:44,110 - {pytorch_tabular.tabular_model:473} - INFO - Preparing the DataLoaders\n",
      "2023-10-13 18:53:44,115 - {pytorch_tabular.tabular_datamodule:290} - INFO - Setting up the datamodule for regression task\n",
      "2023-10-13 18:53:44,249 - {pytorch_tabular.tabular_model:521} - INFO - Preparing the Model: CategoryEmbeddingModel\n",
      "2023-10-13 18:53:44,284 - {pytorch_tabular.tabular_model:268} - INFO - Preparing the Trainer\n",
      "C:\\Users\\Keerthana\\anaconda3\\New folder\\lib\\site-packages\\pytorch_lightning\\trainer\\connectors\\accelerator_connector.py:589: LightningDeprecationWarning: The Trainer argument `auto_select_gpus` has been deprecated in v1.9.0 and will be removed in v2.0.0. Please use the function `pytorch_lightning.accelerators.find_usable_cuda_devices` instead.\n",
      "  rank_zero_deprecation(\n",
      "GPU available: False, used: False\n",
      "TPU available: False, using: 0 TPU cores\n",
      "IPU available: False, using: 0 IPUs\n",
      "HPU available: False, using: 0 HPUs\n",
      "2023-10-13 18:53:44,500 - {pytorch_tabular.tabular_model:573} - INFO - Auto LR Find Started\n",
      "C:\\Users\\Keerthana\\anaconda3\\New folder\\lib\\site-packages\\pytorch_lightning\\callbacks\\model_checkpoint.py:613: UserWarning: Checkpoint directory C:\\Users\\Keerthana\\SC4001 Assignment 1\\saved_models exists and is not empty.\n",
      "  rank_zero_warn(f\"Checkpoint directory {dirpath} exists and is not empty.\")\n",
      "C:\\Users\\Keerthana\\anaconda3\\New folder\\lib\\site-packages\\pytorch_lightning\\trainer\\connectors\\data_connector.py:224: PossibleUserWarning: The dataloader, train_dataloader, does not have many workers which may be a bottleneck. Consider increasing the value of the `num_workers` argument` (try 8 which is the number of cpus on this machine) in the `DataLoader` init to improve performance.\n",
      "  rank_zero_warn(\n",
      "C:\\Users\\Keerthana\\anaconda3\\New folder\\lib\\site-packages\\pytorch_lightning\\trainer\\connectors\\data_connector.py:224: PossibleUserWarning: The dataloader, val_dataloader 0, does not have many workers which may be a bottleneck. Consider increasing the value of the `num_workers` argument` (try 8 which is the number of cpus on this machine) in the `DataLoader` init to improve performance.\n",
      "  rank_zero_warn(\n",
      "C:\\Users\\Keerthana\\anaconda3\\New folder\\lib\\site-packages\\pytorch_lightning\\core\\module.py:493: UserWarning: You called `self.log('valid_loss', ..., logger=True)` but have no logger configured. You can enable one by doing `Trainer(logger=ALogger(...))`\n",
      "  rank_zero_warn(\n",
      "C:\\Users\\Keerthana\\anaconda3\\New folder\\lib\\site-packages\\pytorch_lightning\\core\\module.py:493: UserWarning: You called `self.log('valid_mean_squared_error', ..., logger=True)` but have no logger configured. You can enable one by doing `Trainer(logger=ALogger(...))`\n",
      "  rank_zero_warn(\n"
     ]
    },
    {
     "data": {
      "application/vnd.jupyter.widget-view+json": {
       "model_id": "6ef4df1c24704a1ebba374ab4fab4070",
       "version_major": 2,
       "version_minor": 0
      },
      "text/plain": [
       "Finding best initial lr:   0%|          | 0/100 [00:00<?, ?it/s]"
      ]
     },
     "metadata": {},
     "output_type": "display_data"
    },
    {
     "name": "stderr",
     "output_type": "stream",
     "text": [
      "C:\\Users\\Keerthana\\anaconda3\\New folder\\lib\\site-packages\\pytorch_lightning\\core\\module.py:493: UserWarning: You called `self.log('train_loss', ..., logger=True)` but have no logger configured. You can enable one by doing `Trainer(logger=ALogger(...))`\n",
      "  rank_zero_warn(\n",
      "C:\\Users\\Keerthana\\anaconda3\\New folder\\lib\\site-packages\\pytorch_lightning\\core\\module.py:493: UserWarning: You called `self.log('train_mean_squared_error', ..., logger=True)` but have no logger configured. You can enable one by doing `Trainer(logger=ALogger(...))`\n",
      "  rank_zero_warn(\n",
      "`Trainer.fit` stopped: `max_steps=100` reached.\n",
      "Learning rate set to 0.5754399373371567\n",
      "Restoring states from the checkpoint path at C:\\Users\\Keerthana\\SC4001 Assignment 1\\.lr_find_0b356c3c-4cab-4dcd-a10a-be898e95dd3e.ckpt\n",
      "Restored all states from the checkpoint file at C:\\Users\\Keerthana\\SC4001 Assignment 1\\.lr_find_0b356c3c-4cab-4dcd-a10a-be898e95dd3e.ckpt\n",
      "2023-10-13 18:53:48,511 - {pytorch_tabular.tabular_model:575} - INFO - Suggested LR: 0.5754399373371567. For plot and detailed analysis, use `find_learning_rate` method.\n",
      "2023-10-13 18:53:48,511 - {pytorch_tabular.tabular_model:582} - INFO - Training Started\n"
     ]
    },
    {
     "data": {
      "text/html": [
       "<pre style=\"white-space:pre;overflow-x:auto;line-height:normal;font-family:Menlo,'DejaVu Sans Mono',consolas,'Courier New',monospace\">┏━━━┳━━━━━━━━━━━━━━━━━━┳━━━━━━━━━━━━━━━━━━━━━━━━━━━┳━━━━━━━━┓\n",
       "┃<span style=\"color: #800080; text-decoration-color: #800080; font-weight: bold\">   </span>┃<span style=\"color: #800080; text-decoration-color: #800080; font-weight: bold\"> Name             </span>┃<span style=\"color: #800080; text-decoration-color: #800080; font-weight: bold\"> Type                      </span>┃<span style=\"color: #800080; text-decoration-color: #800080; font-weight: bold\"> Params </span>┃\n",
       "┡━━━╇━━━━━━━━━━━━━━━━━━╇━━━━━━━━━━━━━━━━━━━━━━━━━━━╇━━━━━━━━┩\n",
       "│<span style=\"color: #7f7f7f; text-decoration-color: #7f7f7f\"> 0 </span>│ _backbone        │ CategoryEmbeddingBackbone │  2.9 K │\n",
       "│<span style=\"color: #7f7f7f; text-decoration-color: #7f7f7f\"> 1 </span>│ _embedding_layer │ Embedding1dLayer          │  1.5 K │\n",
       "│<span style=\"color: #7f7f7f; text-decoration-color: #7f7f7f\"> 2 </span>│ head             │ LinearHead                │     51 │\n",
       "│<span style=\"color: #7f7f7f; text-decoration-color: #7f7f7f\"> 3 </span>│ loss             │ MSELoss                   │      0 │\n",
       "└───┴──────────────────┴───────────────────────────┴────────┘\n",
       "</pre>\n"
      ],
      "text/plain": [
       "┏━━━┳━━━━━━━━━━━━━━━━━━┳━━━━━━━━━━━━━━━━━━━━━━━━━━━┳━━━━━━━━┓\n",
       "┃\u001b[1;35m \u001b[0m\u001b[1;35m \u001b[0m\u001b[1;35m \u001b[0m┃\u001b[1;35m \u001b[0m\u001b[1;35mName            \u001b[0m\u001b[1;35m \u001b[0m┃\u001b[1;35m \u001b[0m\u001b[1;35mType                     \u001b[0m\u001b[1;35m \u001b[0m┃\u001b[1;35m \u001b[0m\u001b[1;35mParams\u001b[0m\u001b[1;35m \u001b[0m┃\n",
       "┡━━━╇━━━━━━━━━━━━━━━━━━╇━━━━━━━━━━━━━━━━━━━━━━━━━━━╇━━━━━━━━┩\n",
       "│\u001b[2m \u001b[0m\u001b[2m0\u001b[0m\u001b[2m \u001b[0m│ _backbone        │ CategoryEmbeddingBackbone │  2.9 K │\n",
       "│\u001b[2m \u001b[0m\u001b[2m1\u001b[0m\u001b[2m \u001b[0m│ _embedding_layer │ Embedding1dLayer          │  1.5 K │\n",
       "│\u001b[2m \u001b[0m\u001b[2m2\u001b[0m\u001b[2m \u001b[0m│ head             │ LinearHead                │     51 │\n",
       "│\u001b[2m \u001b[0m\u001b[2m3\u001b[0m\u001b[2m \u001b[0m│ loss             │ MSELoss                   │      0 │\n",
       "└───┴──────────────────┴───────────────────────────┴────────┘\n"
      ]
     },
     "metadata": {},
     "output_type": "display_data"
    },
    {
     "data": {
      "text/html": [
       "<pre style=\"white-space:pre;overflow-x:auto;line-height:normal;font-family:Menlo,'DejaVu Sans Mono',consolas,'Courier New',monospace\"><span style=\"font-weight: bold\">Trainable params</span>: 4.5 K                                                                                            \n",
       "<span style=\"font-weight: bold\">Non-trainable params</span>: 0                                                                                            \n",
       "<span style=\"font-weight: bold\">Total params</span>: 4.5 K                                                                                                \n",
       "<span style=\"font-weight: bold\">Total estimated model params size (MB)</span>: 0                                                                          \n",
       "</pre>\n"
      ],
      "text/plain": [
       "\u001b[1mTrainable params\u001b[0m: 4.5 K                                                                                            \n",
       "\u001b[1mNon-trainable params\u001b[0m: 0                                                                                            \n",
       "\u001b[1mTotal params\u001b[0m: 4.5 K                                                                                                \n",
       "\u001b[1mTotal estimated model params size (MB)\u001b[0m: 0                                                                          \n"
      ]
     },
     "metadata": {},
     "output_type": "display_data"
    },
    {
     "data": {
      "application/vnd.jupyter.widget-view+json": {
       "model_id": "5dedcdb2efda4e92af04465a18dc75e2",
       "version_major": 2,
       "version_minor": 0
      },
      "text/plain": [
       "Output()"
      ]
     },
     "metadata": {},
     "output_type": "display_data"
    },
    {
     "data": {
      "text/html": [
       "<pre style=\"white-space:pre;overflow-x:auto;line-height:normal;font-family:Menlo,'DejaVu Sans Mono',consolas,'Courier New',monospace\"></pre>\n"
      ],
      "text/plain": []
     },
     "metadata": {},
     "output_type": "display_data"
    },
    {
     "data": {
      "text/html": [
       "<pre style=\"white-space:pre;overflow-x:auto;line-height:normal;font-family:Menlo,'DejaVu Sans Mono',consolas,'Courier New',monospace\">\n",
       "</pre>\n"
      ],
      "text/plain": [
       "\n"
      ]
     },
     "metadata": {},
     "output_type": "display_data"
    },
    {
     "name": "stderr",
     "output_type": "stream",
     "text": [
      "2023-10-13 18:54:27,165 - {pytorch_tabular.tabular_model:584} - INFO - Training the model completed\n",
      "2023-10-13 18:54:27,165 - {pytorch_tabular.tabular_model:1258} - INFO - Loading the best model\n"
     ]
    },
    {
     "data": {
      "application/vnd.jupyter.widget-view+json": {
       "model_id": "88496d5bef5142468cecd131d7917abf",
       "version_major": 2,
       "version_minor": 0
      },
      "text/plain": [
       "Output()"
      ]
     },
     "metadata": {},
     "output_type": "display_data"
    },
    {
     "name": "stderr",
     "output_type": "stream",
     "text": [
      "C:\\Users\\Keerthana\\anaconda3\\New folder\\lib\\site-packages\\pytorch_lightning\\utilities\\cloud_io.py:33: LightningDeprecationWarning: `pytorch_lightning.utilities.cloud_io.get_filesystem` has been deprecated in v1.8.0 and will be removed in v2.0.0. Please use `lightning_fabric.utilities.cloud_io.get_filesystem` instead.\n",
      "  rank_zero_deprecation(\n"
     ]
    },
    {
     "data": {
      "text/html": [
       "<pre style=\"white-space:pre;overflow-x:auto;line-height:normal;font-family:Menlo,'DejaVu Sans Mono',consolas,'Courier New',monospace\"></pre>\n"
      ],
      "text/plain": []
     },
     "metadata": {},
     "output_type": "display_data"
    },
    {
     "data": {
      "text/html": [
       "<pre style=\"white-space:pre;overflow-x:auto;line-height:normal;font-family:Menlo,'DejaVu Sans Mono',consolas,'Courier New',monospace\">\n",
       "</pre>\n"
      ],
      "text/plain": [
       "\n"
      ]
     },
     "metadata": {},
     "output_type": "display_data"
    },
    {
     "name": "stdout",
     "output_type": "stream",
     "text": [
      "Test R2 (2023): 0.17\n"
     ]
    }
   ],
   "source": [
    "# Load the data\n",
    "df = pd.read_csv('hdb_price_prediction.csv')\n",
    "\n",
    "\n",
    "train_data = df[df['year'] <= 2019]\n",
    "test_data_2023 = df[df['year'] == 2023]\n",
    "\n",
    "target = ['resale_price']\n",
    "continuous_features = ['dist_to_nearest_stn', 'dist_to_dhoby', 'degree_centrality', \n",
    "                       'eigenvector_centrality', 'remaining_lease_years', 'floor_area_sqm']\n",
    "categorical_features = ['month', 'town', 'flat_model_type', 'storey_range']\n",
    "\n",
    "data_config = DataConfig(\n",
    "    target=['resale_price'], \n",
    "    continuous_cols=continuous_features, \n",
    "    categorical_cols=categorical_features\n",
    ")\n",
    "\n",
    "trainer_config = TrainerConfig(\n",
    "    auto_lr_find=True,\n",
    "    max_epochs=50,\n",
    "    batch_size=1024\n",
    ")\n",
    "\n",
    "model_config = CategoryEmbeddingModelConfig(\n",
    "    task=\"regression\",\n",
    "    layers=\"50\", \n",
    "    activation=\"ReLU\",\n",
    "    learning_rate=0.001\n",
    ")\n",
    "\n",
    "optimizer_config = OptimizerConfig(optimizer=\"Adam\")\n",
    "\n",
    "model = TabularModel(\n",
    "    data_config=data_config,\n",
    "    model_config=model_config,\n",
    "    optimizer_config=optimizer_config,\n",
    "    trainer_config=trainer_config\n",
    ")\n",
    "\n",
    "model.fit(train=train_data)\n",
    "\n",
    "predictions_2023 = model.predict(test_data_2023)\n",
    "predictions_array_2023 = predictions_2023['resale_price_prediction'].values\n",
    "test_r2_2023 = r2_score(test_data_2023['resale_price'], predictions_array_2023)\n",
    "print(f\"Test R2 (2023): {test_r2_2023:.2f}\")\n"
   ]
  },
  {
   "cell_type": "markdown",
   "metadata": {
    "id": "11mU8sxcaSAP"
   },
   "source": [
    "> Did model degradation occur for the deep learning model?\n"
   ]
  },
  {
   "cell_type": "markdown",
   "metadata": {
    "id": "nviGacm6aSlf"
   },
   "source": [
    "\\# TODO: \\<Enter your answer here\\>\n",
    "\n",
    "Yes, model degradation occurred for the deep learning model when predicting on data from 2022 and 2023. The model's ability to generalize to new data points decreased, which is likely due to the differences in the data distribution between the years 2021, 2022, and 2023"
   ]
  },
  {
   "cell_type": "markdown",
   "metadata": {
    "id": "ruldtSTDcYzt"
   },
   "source": [
    "Model degradation could be caused by [various data distribution shifts](https://huyenchip.com/2022/02/07/data-distribution-shifts-and-monitoring.html#data-shift-types): covariate shift (features), label shift and/or concept drift (altered relationship between features and labels).\n",
    "There are various conflicting terminologies in the [literature](https://www.sciencedirect.com/science/article/pii/S0950705122002854#tbl1). Let’s stick to this reference for this assignment.\n",
    "\n",
    "> Using the **Alibi Detect** library, apply the **TabularDrift** function with the training data (year 2019 and before) used as the reference and **detect which features have drifted** in the 2023 test dataset. Before running the statistical tests, ensure you **sample 1000 data points** each from the train and test data. Do not use the whole train/test data. (Hint: use this example as a guide https://docs.seldon.io/projects/alibi-detect/en/stable/examples/cd_chi2ks_adult.html)\n"
   ]
  },
  {
   "cell_type": "code",
   "execution_count": 6,
   "metadata": {
    "id": "nGbdZc3ocYbB"
   },
   "outputs": [
    {
     "name": "stderr",
     "output_type": "stream",
     "text": [
      "C:\\Users\\Keerthana\\AppData\\Roaming\\Python\\Python39\\site-packages\\alibi_detect\\cd\\tabular.py:113: UserWarning: No `categories_per_feature` dict provided so all features are assumed to be numerical. `KSDrift` will be applied to all features.\n",
      "  warnings.warn('No `categories_per_feature` dict provided so all features are assumed to be numerical. '\n"
     ]
    },
    {
     "name": "stdout",
     "output_type": "stream",
     "text": [
      "Drifted Features in 2023 Test Data: ['remaining_lease_years' 'floor_area_sqm']\n"
     ]
    }
   ],
   "source": [
    "from alibi_detect.cd import TabularDrift\n",
    "import numpy as np\n",
    "\n",
    "np.random.seed(42)  \n",
    "\n",
    "# Sample 1000 data points from train and test data\n",
    "train_sample = train_data.sample(1000, random_state=SEED)\n",
    "test_sample_2023 = test_data_2023.sample(1000, random_state=SEED)\n",
    "\n",
    "# Define the features to be checked for drift\n",
    "feature = ['dist_to_nearest_stn', 'dist_to_dhoby', 'degree_centrality', \n",
    "                     'eigenvector_centrality', 'remaining_lease_years', 'floor_area_sqm']\n",
    "\n",
    "# Extract the reference and test data as numpy arrays\n",
    "reference_data = train_sample[feature].values\n",
    "test_data = test_sample_2023[feature].values\n",
    "\n",
    "# Create TabularDrift detector\n",
    "detector = TabularDrift(reference_data, p_val=.05)\n",
    "\n",
    "# Detect drift on the 2023 test sample\n",
    "preds = detector.predict(test_data, drift_type='feature', return_p_val=True)\n",
    "\n",
    "# Get the features that drifted (features with a p-value less than 0.05)\n",
    "drifted_features = np.array(feature)[preds['data']['p_val'] < 0.05]\n",
    "print(\"Drifted Features in 2023 Test Data:\", drifted_features)"
   ]
  },
  {
   "cell_type": "markdown",
   "metadata": {
    "id": "Xmj3qq3PkJUf"
   },
   "source": [
    "> Assuming that the flurry of housing measures have made an impact on the relationship between all the features and resale_price (i.e. P(Y|X) changes), which type of data distribution shift possibly led to model degradation?\n"
   ]
  },
  {
   "cell_type": "markdown",
   "metadata": {
    "id": "5UOsX4JqkZ9S"
   },
   "source": [
    "\\# TODO: \\<Enter your answer here\\>\n",
    "\n",
    "The model degradation likely occurred due to label shift in the relationship between features and resale_price. In this case, the housing measures introduced by the government significantly influenced housing prices, causing a shift in the relationship between the features (such as remaining_lease_years and floor_area_sqm) and the resale_price. As a result, the model, which was trained on data up to 2019 and assumed a certain relationship between features and resale_price, performed poorly when predicting on the 2022 and 2023 data than on 2021 data, where this relationship had changed due to external factors. "
   ]
  },
  {
   "cell_type": "markdown",
   "metadata": {
    "id": "DM2OoOJdkZj1"
   },
   "source": [
    "> From your analysis via TabularDrift, which features contribute to this shift?\n"
   ]
  },
  {
   "cell_type": "markdown",
   "metadata": {
    "id": "V3licBjskdLL"
   },
   "source": [
    "\\# TODO: \\<Enter your answer here\\>\n",
    "\n",
    "From the analysis via TabularDrift, the features that cotributed to this shift were 'remaining_lease_years', 'floor_area_sqm'."
   ]
  },
  {
   "cell_type": "markdown",
   "metadata": {
    "id": "yB3fSvKskhEJ"
   },
   "source": [
    "> Suggest 1 way to address model degradation and implement it, showing improved test R2 for year 2023.\n"
   ]
  },
  {
   "cell_type": "markdown",
   "metadata": {
    "id": "9UpP7K6Tkglx"
   },
   "source": [
    "\\# TODO: \\<Enter your answer here\\>\n",
    "\n",
    "One way to address model degradation is by adjusting the model architecture to have more layers and neurons: 128-64-32-16-8. This increases the complexity of the model, allowing it to learn more intricate relationships in the data.\n",
    "Also, The maximum number of training epochs has been increased to 200. This provides more opportunities for the model to learn from the data."
   ]
  },
  {
   "cell_type": "code",
   "execution_count": 18,
   "metadata": {
    "id": "EqFinZObcYXu"
   },
   "outputs": [
    {
     "name": "stderr",
     "output_type": "stream",
     "text": [
      "2023-10-11 18:28:35,703 - {pytorch_tabular.tabular_model:105} - INFO - Experiment Tracking is turned off\n",
      "Global seed set to 42\n",
      "2023-10-11 18:28:35,753 - {pytorch_tabular.tabular_model:473} - INFO - Preparing the DataLoaders\n",
      "2023-10-11 18:28:35,761 - {pytorch_tabular.tabular_datamodule:290} - INFO - Setting up the datamodule for regression task\n",
      "2023-10-11 18:28:35,983 - {pytorch_tabular.tabular_model:521} - INFO - Preparing the Model: CategoryEmbeddingModel\n",
      "2023-10-11 18:28:36,021 - {pytorch_tabular.tabular_model:268} - INFO - Preparing the Trainer\n",
      "C:\\Users\\Keerthana\\anaconda3\\New folder\\lib\\site-packages\\pytorch_lightning\\trainer\\connectors\\accelerator_connector.py:589: LightningDeprecationWarning: The Trainer argument `auto_select_gpus` has been deprecated in v1.9.0 and will be removed in v2.0.0. Please use the function `pytorch_lightning.accelerators.find_usable_cuda_devices` instead.\n",
      "  rank_zero_deprecation(\n",
      "GPU available: False, used: False\n",
      "TPU available: False, using: 0 TPU cores\n",
      "IPU available: False, using: 0 IPUs\n",
      "HPU available: False, using: 0 HPUs\n",
      "2023-10-11 18:28:36,223 - {pytorch_tabular.tabular_model:573} - INFO - Auto LR Find Started\n",
      "C:\\Users\\Keerthana\\anaconda3\\New folder\\lib\\site-packages\\pytorch_lightning\\callbacks\\model_checkpoint.py:613: UserWarning: Checkpoint directory C:\\Users\\Keerthana\\SC4001 Assignment 1\\saved_models exists and is not empty.\n",
      "  rank_zero_warn(f\"Checkpoint directory {dirpath} exists and is not empty.\")\n",
      "C:\\Users\\Keerthana\\anaconda3\\New folder\\lib\\site-packages\\pytorch_lightning\\trainer\\connectors\\data_connector.py:224: PossibleUserWarning: The dataloader, train_dataloader, does not have many workers which may be a bottleneck. Consider increasing the value of the `num_workers` argument` (try 8 which is the number of cpus on this machine) in the `DataLoader` init to improve performance.\n",
      "  rank_zero_warn(\n",
      "C:\\Users\\Keerthana\\anaconda3\\New folder\\lib\\site-packages\\pytorch_lightning\\trainer\\connectors\\data_connector.py:224: PossibleUserWarning: The dataloader, val_dataloader 0, does not have many workers which may be a bottleneck. Consider increasing the value of the `num_workers` argument` (try 8 which is the number of cpus on this machine) in the `DataLoader` init to improve performance.\n",
      "  rank_zero_warn(\n",
      "C:\\Users\\Keerthana\\anaconda3\\New folder\\lib\\site-packages\\pytorch_lightning\\core\\module.py:493: UserWarning: You called `self.log('valid_loss', ..., logger=True)` but have no logger configured. You can enable one by doing `Trainer(logger=ALogger(...))`\n",
      "  rank_zero_warn(\n",
      "C:\\Users\\Keerthana\\anaconda3\\New folder\\lib\\site-packages\\pytorch_lightning\\core\\module.py:493: UserWarning: You called `self.log('valid_mean_squared_error', ..., logger=True)` but have no logger configured. You can enable one by doing `Trainer(logger=ALogger(...))`\n",
      "  rank_zero_warn(\n"
     ]
    },
    {
     "data": {
      "application/vnd.jupyter.widget-view+json": {
       "model_id": "3cd26fb4cc074db888930ac1a66b3380",
       "version_major": 2,
       "version_minor": 0
      },
      "text/plain": [
       "Finding best initial lr:   0%|          | 0/100 [00:00<?, ?it/s]"
      ]
     },
     "metadata": {},
     "output_type": "display_data"
    },
    {
     "name": "stderr",
     "output_type": "stream",
     "text": [
      "C:\\Users\\Keerthana\\anaconda3\\New folder\\lib\\site-packages\\pytorch_lightning\\core\\module.py:493: UserWarning: You called `self.log('train_loss', ..., logger=True)` but have no logger configured. You can enable one by doing `Trainer(logger=ALogger(...))`\n",
      "  rank_zero_warn(\n",
      "C:\\Users\\Keerthana\\anaconda3\\New folder\\lib\\site-packages\\pytorch_lightning\\core\\module.py:493: UserWarning: You called `self.log('train_mean_squared_error', ..., logger=True)` but have no logger configured. You can enable one by doing `Trainer(logger=ALogger(...))`\n",
      "  rank_zero_warn(\n",
      "`Trainer.fit` stopped: `max_steps=100` reached.\n",
      "Learning rate set to 0.09120108393559097\n",
      "Restoring states from the checkpoint path at C:\\Users\\Keerthana\\SC4001 Assignment 1\\.lr_find_a74ff064-2e42-4ab6-aa58-c0c34c602582.ckpt\n",
      "Restored all states from the checkpoint file at C:\\Users\\Keerthana\\SC4001 Assignment 1\\.lr_find_a74ff064-2e42-4ab6-aa58-c0c34c602582.ckpt\n",
      "2023-10-11 18:28:40,054 - {pytorch_tabular.tabular_model:575} - INFO - Suggested LR: 0.09120108393559097. For plot and detailed analysis, use `find_learning_rate` method.\n",
      "2023-10-11 18:28:40,054 - {pytorch_tabular.tabular_model:582} - INFO - Training Started\n"
     ]
    },
    {
     "data": {
      "text/html": [
       "<pre style=\"white-space:pre;overflow-x:auto;line-height:normal;font-family:Menlo,'DejaVu Sans Mono',consolas,'Courier New',monospace\">┏━━━┳━━━━━━━━━━━━━━━━━━┳━━━━━━━━━━━━━━━━━━━━━━━━━━━┳━━━━━━━━┓\n",
       "┃<span style=\"color: #800080; text-decoration-color: #800080; font-weight: bold\">   </span>┃<span style=\"color: #800080; text-decoration-color: #800080; font-weight: bold\"> Name             </span>┃<span style=\"color: #800080; text-decoration-color: #800080; font-weight: bold\"> Type                      </span>┃<span style=\"color: #800080; text-decoration-color: #800080; font-weight: bold\"> Params </span>┃\n",
       "┡━━━╇━━━━━━━━━━━━━━━━━━╇━━━━━━━━━━━━━━━━━━━━━━━━━━━╇━━━━━━━━┩\n",
       "│<span style=\"color: #7f7f7f; text-decoration-color: #7f7f7f\"> 0 </span>│ _backbone        │ CategoryEmbeddingBackbone │ 18.7 K │\n",
       "│<span style=\"color: #7f7f7f; text-decoration-color: #7f7f7f\"> 1 </span>│ _embedding_layer │ Embedding1dLayer          │  1.7 K │\n",
       "│<span style=\"color: #7f7f7f; text-decoration-color: #7f7f7f\"> 2 </span>│ head             │ LinearHead                │      9 │\n",
       "│<span style=\"color: #7f7f7f; text-decoration-color: #7f7f7f\"> 3 </span>│ loss             │ MSELoss                   │      0 │\n",
       "└───┴──────────────────┴───────────────────────────┴────────┘\n",
       "</pre>\n"
      ],
      "text/plain": [
       "┏━━━┳━━━━━━━━━━━━━━━━━━┳━━━━━━━━━━━━━━━━━━━━━━━━━━━┳━━━━━━━━┓\n",
       "┃\u001b[1;35m \u001b[0m\u001b[1;35m \u001b[0m\u001b[1;35m \u001b[0m┃\u001b[1;35m \u001b[0m\u001b[1;35mName            \u001b[0m\u001b[1;35m \u001b[0m┃\u001b[1;35m \u001b[0m\u001b[1;35mType                     \u001b[0m\u001b[1;35m \u001b[0m┃\u001b[1;35m \u001b[0m\u001b[1;35mParams\u001b[0m\u001b[1;35m \u001b[0m┃\n",
       "┡━━━╇━━━━━━━━━━━━━━━━━━╇━━━━━━━━━━━━━━━━━━━━━━━━━━━╇━━━━━━━━┩\n",
       "│\u001b[2m \u001b[0m\u001b[2m0\u001b[0m\u001b[2m \u001b[0m│ _backbone        │ CategoryEmbeddingBackbone │ 18.7 K │\n",
       "│\u001b[2m \u001b[0m\u001b[2m1\u001b[0m\u001b[2m \u001b[0m│ _embedding_layer │ Embedding1dLayer          │  1.7 K │\n",
       "│\u001b[2m \u001b[0m\u001b[2m2\u001b[0m\u001b[2m \u001b[0m│ head             │ LinearHead                │      9 │\n",
       "│\u001b[2m \u001b[0m\u001b[2m3\u001b[0m\u001b[2m \u001b[0m│ loss             │ MSELoss                   │      0 │\n",
       "└───┴──────────────────┴───────────────────────────┴────────┘\n"
      ]
     },
     "metadata": {},
     "output_type": "display_data"
    },
    {
     "data": {
      "text/html": [
       "<pre style=\"white-space:pre;overflow-x:auto;line-height:normal;font-family:Menlo,'DejaVu Sans Mono',consolas,'Courier New',monospace\"><span style=\"font-weight: bold\">Trainable params</span>: 20.4 K                                                                                           \n",
       "<span style=\"font-weight: bold\">Non-trainable params</span>: 0                                                                                            \n",
       "<span style=\"font-weight: bold\">Total params</span>: 20.4 K                                                                                               \n",
       "<span style=\"font-weight: bold\">Total estimated model params size (MB)</span>: 0                                                                          \n",
       "</pre>\n"
      ],
      "text/plain": [
       "\u001b[1mTrainable params\u001b[0m: 20.4 K                                                                                           \n",
       "\u001b[1mNon-trainable params\u001b[0m: 0                                                                                            \n",
       "\u001b[1mTotal params\u001b[0m: 20.4 K                                                                                               \n",
       "\u001b[1mTotal estimated model params size (MB)\u001b[0m: 0                                                                          \n"
      ]
     },
     "metadata": {},
     "output_type": "display_data"
    },
    {
     "data": {
      "application/vnd.jupyter.widget-view+json": {
       "model_id": "bf17e764082d4b7ba860fbc7c7549b85",
       "version_major": 2,
       "version_minor": 0
      },
      "text/plain": [
       "Output()"
      ]
     },
     "metadata": {},
     "output_type": "display_data"
    },
    {
     "data": {
      "text/html": [
       "<pre style=\"white-space:pre;overflow-x:auto;line-height:normal;font-family:Menlo,'DejaVu Sans Mono',consolas,'Courier New',monospace\"></pre>\n"
      ],
      "text/plain": []
     },
     "metadata": {},
     "output_type": "display_data"
    },
    {
     "data": {
      "text/html": [
       "<pre style=\"white-space:pre;overflow-x:auto;line-height:normal;font-family:Menlo,'DejaVu Sans Mono',consolas,'Courier New',monospace\">\n",
       "</pre>\n"
      ],
      "text/plain": [
       "\n"
      ]
     },
     "metadata": {},
     "output_type": "display_data"
    },
    {
     "name": "stderr",
     "output_type": "stream",
     "text": [
      "2023-10-11 18:31:16,317 - {pytorch_tabular.tabular_model:584} - INFO - Training the model completed\n",
      "2023-10-11 18:31:16,322 - {pytorch_tabular.tabular_model:1258} - INFO - Loading the best model\n"
     ]
    },
    {
     "data": {
      "application/vnd.jupyter.widget-view+json": {
       "model_id": "5ca78e6399aa4fb894260302a40dcde6",
       "version_major": 2,
       "version_minor": 0
      },
      "text/plain": [
       "Output()"
      ]
     },
     "metadata": {},
     "output_type": "display_data"
    },
    {
     "name": "stderr",
     "output_type": "stream",
     "text": [
      "C:\\Users\\Keerthana\\anaconda3\\New folder\\lib\\site-packages\\pytorch_lightning\\utilities\\cloud_io.py:33: LightningDeprecationWarning: `pytorch_lightning.utilities.cloud_io.get_filesystem` has been deprecated in v1.8.0 and will be removed in v2.0.0. Please use `lightning_fabric.utilities.cloud_io.get_filesystem` instead.\n",
      "  rank_zero_deprecation(\n"
     ]
    },
    {
     "data": {
      "text/html": [
       "<pre style=\"white-space:pre;overflow-x:auto;line-height:normal;font-family:Menlo,'DejaVu Sans Mono',consolas,'Courier New',monospace\"></pre>\n"
      ],
      "text/plain": []
     },
     "metadata": {},
     "output_type": "display_data"
    },
    {
     "data": {
      "text/html": [
       "<pre style=\"white-space:pre;overflow-x:auto;line-height:normal;font-family:Menlo,'DejaVu Sans Mono',consolas,'Courier New',monospace\">\n",
       "</pre>\n"
      ],
      "text/plain": [
       "\n"
      ]
     },
     "metadata": {},
     "output_type": "display_data"
    },
    {
     "name": "stdout",
     "output_type": "stream",
     "text": [
      "Improved Test R2 (2023): 0.75\n"
     ]
    }
   ],
   "source": [
    "df = pd.read_csv('hdb_price_prediction.csv')\n",
    "\n",
    "# Define target variable and features\n",
    "target = ['resale_price']\n",
    "continuous_features = ['dist_to_nearest_stn', 'dist_to_dhoby', 'degree_centrality', \n",
    "                       'eigenvector_centrality', 'remaining_lease_years', 'floor_area_sqm']\n",
    "categorical_features = ['month', 'town', 'flat_model_type', 'storey_range']\n",
    "\n",
    "# Create data configuration\n",
    "data_config = DataConfig(\n",
    "    target=target, \n",
    "    continuous_cols=continuous_features, \n",
    "    categorical_cols=categorical_features\n",
    ")\n",
    "\n",
    "# Create model configuration\n",
    "model_config = CategoryEmbeddingModelConfig(\n",
    "    task=\"regression\",\n",
    "    layers=\"128-64-32-16-8\",  # You can adjust architecture here\n",
    "    activation=\"ReLU\",\n",
    "    learning_rate=0.001,\n",
    ")\n",
    "\n",
    "# Create optimizer configuration\n",
    "optimizer_config = OptimizerConfig(optimizer=\"Adam\")\n",
    "\n",
    "# Create trainer configuration\n",
    "trainer_config = TrainerConfig(\n",
    "    auto_lr_find=True,\n",
    "    max_epochs=200,\n",
    "    batch_size=1024,\n",
    ")\n",
    "\n",
    "# Create TabularModel\n",
    "model = TabularModel(\n",
    "    data_config=data_config,\n",
    "    model_config=model_config,\n",
    "    optimizer_config=optimizer_config,\n",
    "    trainer_config=trainer_config,\n",
    ")\n",
    "\n",
    "# Train the model\n",
    "model.fit(train=df)\n",
    "\n",
    "# Evaluate on 2023 data\n",
    "test_data_2023 = df[df['year'] == 2023]\n",
    "predictions_2023 = model.predict(test_data_2023)\n",
    "predictions_array_2023 = predictions_2023['resale_price_prediction'].values\n",
    "test_r2_2023 = r2_score(test_data_2023['resale_price'], predictions_array_2023)\n",
    "\n",
    "print(f\"Improved Test R2 (2023): {test_r2_2023:.2f}\")"
   ]
  },
  {
   "cell_type": "markdown",
   "metadata": {
    "id": "wQG9hZvAaq5g"
   },
   "source": [
    "### Appendix A\n",
    "\n"
   ]
  },
  {
   "cell_type": "markdown",
   "metadata": {
    "id": "G_ARi2OxbDuZ"
   },
   "source": [
    "Here are our results from a linear regression model. We used StandardScaler for continuous variables and OneHotEncoder for categorical variables.\n",
    "\n",
    "While 2021 data can be predicted well, test R2 dropped rapidly for 2022 and 2023.\n",
    "\n",
    "| Training set | Test set | Test R2 |\n",
    "|--------------|----------|---------|\n",
    "| Year <= 2020 | 2021     | 0.76    |\n",
    "| Year <= 2020 | **2022**     | 0.41    |\n",
    "| Year <= 2020 | **2023**     | **0.10**   |\n",
    "\n"
   ]
  },
  {
   "cell_type": "markdown",
   "metadata": {
    "id": "vmv91FqgbI8h"
   },
   "source": [
    "Similarly, a model trained on 2017 data can predict 2018-2021 well (with slight degradation in performance for 2021), but drops drastically in 2022 and 2023.\n",
    "\n",
    "| Training set | Test set | Test R2 |\n",
    "|--------------|----------|---------|\n",
    "| 2017         | 2018     | 0.90    |\n",
    "|              | 2019     | 0.89    |\n",
    "|              | 2020     | 0.87    |\n",
    "|              | 2021     | 0.72    |\n",
    "|              | **2022**     | **0.37**    |\n",
    "|              | **2023**     | **0.09**    |"
   ]
  },
  {
   "cell_type": "markdown",
   "metadata": {
    "id": "ayKGs106bI6S"
   },
   "source": [
    "With the test set fixed at year 2021, training on data from 2017-2020 still works well on the test data, with minimal degradation. Training sets closer to year 2021 generally do better.\n",
    "\n",
    "| Training set | Test set | Test R2 |\n",
    "|--------------|----------|---------|\n",
    "| 2020         | 2021     | 0.81    |\n",
    "| 2019         | 2021     | 0.75    |\n",
    "| 2018         | 2021     | 0.73    |\n",
    "| 2017         | 2021     | 0.72    |"
   ]
  }
 ],
 "metadata": {
  "colab": {
   "authorship_tag": "ABX9TyNWUKTcEICJ0j/YcXkGkr53",
   "collapsed_sections": [
    "wQG9hZvAaq5g"
   ],
   "provenance": []
  },
  "kernelspec": {
   "display_name": "Python 3 (ipykernel)",
   "language": "python",
   "name": "python3"
  },
  "language_info": {
   "codemirror_mode": {
    "name": "ipython",
    "version": 3
   },
   "file_extension": ".py",
   "mimetype": "text/x-python",
   "name": "python",
   "nbconvert_exporter": "python",
   "pygments_lexer": "ipython3",
   "version": "3.9.7"
  }
 },
 "nbformat": 4,
 "nbformat_minor": 1
}
